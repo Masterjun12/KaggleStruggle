{
 "cells": [
  {
   "cell_type": "markdown",
   "metadata": {},
   "source": [
    "# [San Francisco Crime Classification | Kaggle](https://www.kaggle.com/c/sf-crime)\n",
    "\n",
    "### [SF Crime Prediction with scikit-learn 을 따라해 본다. | Kaggle](https://www.kaggle.com/rhoslug/sf-crime-prediction-with-scikit-learn)\n",
    "\n",
    "### Data fields\n",
    "* 날짜  - 범죄 사건의 타임 스탬프\n",
    "* 범주  - 범죄 사건 카테고리 (train.csv에만 해당) 이 변수를 예측하는 게 이 경진대회 과제임\n",
    "* 설명  - 범죄 사건에 대한 자세한 설명 (train.csv에만 있음)\n",
    "* DayOfWeek - 요일\n",
    "* PdDistrict - 경찰서 구의 이름\n",
    "* 해결 방법 - 범죄 사건이 어떻게 해결 되었는지 (train.csv에서만)\n",
    "* 주소 - 범죄 사건의 대략적인 주소 \n",
    "* X - 경도\n",
    "* Y - 위도\n",
    "\n",
    "\n",
    "* Dates - timestamp of the crime incident\n",
    "* Category - category of the crime incident (only in train.csv). This is the target variable you are going to predict.\n",
    "* Descript - detailed description of the crime incident (only in train.csv)\n",
    "* DayOfWeek - the day of the week\n",
    "* PdDistrict - name of the Police Department District\n",
    "* Resolution - how the crime incident was resolved (only in train.csv)\n",
    "* Address - the approximate street address of the crime incident \n",
    "* X - Longitude \n",
    "* Y - Latitude "
   ]
  },
  {
   "cell_type": "code",
   "execution_count": 2,
   "metadata": {},
   "outputs": [],
   "source": [
    "import pandas as pd\n",
    "import numpy as np"
   ]
  },
  {
   "cell_type": "code",
   "execution_count": 3,
   "metadata": {},
   "outputs": [
    {
     "data": {
      "text/plain": [
       "(878049, 9)"
      ]
     },
     "execution_count": 3,
     "metadata": {},
     "output_type": "execute_result"
    }
   ],
   "source": [
    "df_train = pd.read_csv('data/train.csv', parse_dates=['Dates'])\n",
    "df_train.shape"
   ]
  },
  {
   "cell_type": "code",
   "execution_count": 4,
   "metadata": {},
   "outputs": [
    {
     "data": {
      "text/html": [
       "<div>\n",
       "<style scoped>\n",
       "    .dataframe tbody tr th:only-of-type {\n",
       "        vertical-align: middle;\n",
       "    }\n",
       "\n",
       "    .dataframe tbody tr th {\n",
       "        vertical-align: top;\n",
       "    }\n",
       "\n",
       "    .dataframe thead th {\n",
       "        text-align: right;\n",
       "    }\n",
       "</style>\n",
       "<table border=\"1\" class=\"dataframe\">\n",
       "  <thead>\n",
       "    <tr style=\"text-align: right;\">\n",
       "      <th></th>\n",
       "      <th>Dates</th>\n",
       "      <th>Category</th>\n",
       "      <th>Descript</th>\n",
       "      <th>DayOfWeek</th>\n",
       "      <th>PdDistrict</th>\n",
       "      <th>Resolution</th>\n",
       "      <th>Address</th>\n",
       "      <th>X</th>\n",
       "      <th>Y</th>\n",
       "    </tr>\n",
       "  </thead>\n",
       "  <tbody>\n",
       "    <tr>\n",
       "      <th>0</th>\n",
       "      <td>2015-05-13 23:53:00</td>\n",
       "      <td>WARRANTS</td>\n",
       "      <td>WARRANT ARREST</td>\n",
       "      <td>Wednesday</td>\n",
       "      <td>NORTHERN</td>\n",
       "      <td>ARREST, BOOKED</td>\n",
       "      <td>OAK ST / LAGUNA ST</td>\n",
       "      <td>-122.425892</td>\n",
       "      <td>37.774599</td>\n",
       "    </tr>\n",
       "    <tr>\n",
       "      <th>1</th>\n",
       "      <td>2015-05-13 23:53:00</td>\n",
       "      <td>OTHER OFFENSES</td>\n",
       "      <td>TRAFFIC VIOLATION ARREST</td>\n",
       "      <td>Wednesday</td>\n",
       "      <td>NORTHERN</td>\n",
       "      <td>ARREST, BOOKED</td>\n",
       "      <td>OAK ST / LAGUNA ST</td>\n",
       "      <td>-122.425892</td>\n",
       "      <td>37.774599</td>\n",
       "    </tr>\n",
       "    <tr>\n",
       "      <th>2</th>\n",
       "      <td>2015-05-13 23:33:00</td>\n",
       "      <td>OTHER OFFENSES</td>\n",
       "      <td>TRAFFIC VIOLATION ARREST</td>\n",
       "      <td>Wednesday</td>\n",
       "      <td>NORTHERN</td>\n",
       "      <td>ARREST, BOOKED</td>\n",
       "      <td>VANNESS AV / GREENWICH ST</td>\n",
       "      <td>-122.424363</td>\n",
       "      <td>37.800414</td>\n",
       "    </tr>\n",
       "    <tr>\n",
       "      <th>3</th>\n",
       "      <td>2015-05-13 23:30:00</td>\n",
       "      <td>LARCENY/THEFT</td>\n",
       "      <td>GRAND THEFT FROM LOCKED AUTO</td>\n",
       "      <td>Wednesday</td>\n",
       "      <td>NORTHERN</td>\n",
       "      <td>NONE</td>\n",
       "      <td>1500 Block of LOMBARD ST</td>\n",
       "      <td>-122.426995</td>\n",
       "      <td>37.800873</td>\n",
       "    </tr>\n",
       "    <tr>\n",
       "      <th>4</th>\n",
       "      <td>2015-05-13 23:30:00</td>\n",
       "      <td>LARCENY/THEFT</td>\n",
       "      <td>GRAND THEFT FROM LOCKED AUTO</td>\n",
       "      <td>Wednesday</td>\n",
       "      <td>PARK</td>\n",
       "      <td>NONE</td>\n",
       "      <td>100 Block of BRODERICK ST</td>\n",
       "      <td>-122.438738</td>\n",
       "      <td>37.771541</td>\n",
       "    </tr>\n",
       "  </tbody>\n",
       "</table>\n",
       "</div>"
      ],
      "text/plain": [
       "                Dates        Category                      Descript  \\\n",
       "0 2015-05-13 23:53:00        WARRANTS                WARRANT ARREST   \n",
       "1 2015-05-13 23:53:00  OTHER OFFENSES      TRAFFIC VIOLATION ARREST   \n",
       "2 2015-05-13 23:33:00  OTHER OFFENSES      TRAFFIC VIOLATION ARREST   \n",
       "3 2015-05-13 23:30:00   LARCENY/THEFT  GRAND THEFT FROM LOCKED AUTO   \n",
       "4 2015-05-13 23:30:00   LARCENY/THEFT  GRAND THEFT FROM LOCKED AUTO   \n",
       "\n",
       "   DayOfWeek PdDistrict      Resolution                    Address  \\\n",
       "0  Wednesday   NORTHERN  ARREST, BOOKED         OAK ST / LAGUNA ST   \n",
       "1  Wednesday   NORTHERN  ARREST, BOOKED         OAK ST / LAGUNA ST   \n",
       "2  Wednesday   NORTHERN  ARREST, BOOKED  VANNESS AV / GREENWICH ST   \n",
       "3  Wednesday   NORTHERN            NONE   1500 Block of LOMBARD ST   \n",
       "4  Wednesday       PARK            NONE  100 Block of BRODERICK ST   \n",
       "\n",
       "            X          Y  \n",
       "0 -122.425892  37.774599  \n",
       "1 -122.425892  37.774599  \n",
       "2 -122.424363  37.800414  \n",
       "3 -122.426995  37.800873  \n",
       "4 -122.438738  37.771541  "
      ]
     },
     "execution_count": 4,
     "metadata": {},
     "output_type": "execute_result"
    }
   ],
   "source": [
    "df_train.head()"
   ]
  },
  {
   "cell_type": "code",
   "execution_count": 5,
   "metadata": {},
   "outputs": [
    {
     "data": {
      "text/plain": [
       "(878049, 6)"
      ]
     },
     "execution_count": 5,
     "metadata": {},
     "output_type": "execute_result"
    }
   ],
   "source": [
    "# 'Descript', 'Dates', 'Resolution' 는 제거\n",
    "df_train.drop(['Descript', 'Dates', 'Resolution'], axis=1, inplace=True)\n",
    "df_train.shape"
   ]
  },
  {
   "cell_type": "code",
   "execution_count": 6,
   "metadata": {},
   "outputs": [
    {
     "data": {
      "text/plain": [
       "(884262, 7)"
      ]
     },
     "execution_count": 6,
     "metadata": {},
     "output_type": "execute_result"
    }
   ],
   "source": [
    "df_test = pd.read_csv('data/test.csv', parse_dates=['Dates'])\n",
    "df_test.shape"
   ]
  },
  {
   "cell_type": "code",
   "execution_count": 7,
   "metadata": {},
   "outputs": [
    {
     "data": {
      "text/html": [
       "<div>\n",
       "<style scoped>\n",
       "    .dataframe tbody tr th:only-of-type {\n",
       "        vertical-align: middle;\n",
       "    }\n",
       "\n",
       "    .dataframe tbody tr th {\n",
       "        vertical-align: top;\n",
       "    }\n",
       "\n",
       "    .dataframe thead th {\n",
       "        text-align: right;\n",
       "    }\n",
       "</style>\n",
       "<table border=\"1\" class=\"dataframe\">\n",
       "  <thead>\n",
       "    <tr style=\"text-align: right;\">\n",
       "      <th></th>\n",
       "      <th>Id</th>\n",
       "      <th>Dates</th>\n",
       "      <th>DayOfWeek</th>\n",
       "      <th>PdDistrict</th>\n",
       "      <th>Address</th>\n",
       "      <th>X</th>\n",
       "      <th>Y</th>\n",
       "    </tr>\n",
       "  </thead>\n",
       "  <tbody>\n",
       "    <tr>\n",
       "      <th>0</th>\n",
       "      <td>0</td>\n",
       "      <td>2015-05-10 23:59:00</td>\n",
       "      <td>Sunday</td>\n",
       "      <td>BAYVIEW</td>\n",
       "      <td>2000 Block of THOMAS AV</td>\n",
       "      <td>-122.399588</td>\n",
       "      <td>37.735051</td>\n",
       "    </tr>\n",
       "    <tr>\n",
       "      <th>1</th>\n",
       "      <td>1</td>\n",
       "      <td>2015-05-10 23:51:00</td>\n",
       "      <td>Sunday</td>\n",
       "      <td>BAYVIEW</td>\n",
       "      <td>3RD ST / REVERE AV</td>\n",
       "      <td>-122.391523</td>\n",
       "      <td>37.732432</td>\n",
       "    </tr>\n",
       "    <tr>\n",
       "      <th>2</th>\n",
       "      <td>2</td>\n",
       "      <td>2015-05-10 23:50:00</td>\n",
       "      <td>Sunday</td>\n",
       "      <td>NORTHERN</td>\n",
       "      <td>2000 Block of GOUGH ST</td>\n",
       "      <td>-122.426002</td>\n",
       "      <td>37.792212</td>\n",
       "    </tr>\n",
       "    <tr>\n",
       "      <th>3</th>\n",
       "      <td>3</td>\n",
       "      <td>2015-05-10 23:45:00</td>\n",
       "      <td>Sunday</td>\n",
       "      <td>INGLESIDE</td>\n",
       "      <td>4700 Block of MISSION ST</td>\n",
       "      <td>-122.437394</td>\n",
       "      <td>37.721412</td>\n",
       "    </tr>\n",
       "    <tr>\n",
       "      <th>4</th>\n",
       "      <td>4</td>\n",
       "      <td>2015-05-10 23:45:00</td>\n",
       "      <td>Sunday</td>\n",
       "      <td>INGLESIDE</td>\n",
       "      <td>4700 Block of MISSION ST</td>\n",
       "      <td>-122.437394</td>\n",
       "      <td>37.721412</td>\n",
       "    </tr>\n",
       "  </tbody>\n",
       "</table>\n",
       "</div>"
      ],
      "text/plain": [
       "   Id               Dates DayOfWeek PdDistrict                   Address  \\\n",
       "0   0 2015-05-10 23:59:00    Sunday    BAYVIEW   2000 Block of THOMAS AV   \n",
       "1   1 2015-05-10 23:51:00    Sunday    BAYVIEW        3RD ST / REVERE AV   \n",
       "2   2 2015-05-10 23:50:00    Sunday   NORTHERN    2000 Block of GOUGH ST   \n",
       "3   3 2015-05-10 23:45:00    Sunday  INGLESIDE  4700 Block of MISSION ST   \n",
       "4   4 2015-05-10 23:45:00    Sunday  INGLESIDE  4700 Block of MISSION ST   \n",
       "\n",
       "            X          Y  \n",
       "0 -122.399588  37.735051  \n",
       "1 -122.391523  37.732432  \n",
       "2 -122.426002  37.792212  \n",
       "3 -122.437394  37.721412  \n",
       "4 -122.437394  37.721412  "
      ]
     },
     "execution_count": 7,
     "metadata": {},
     "output_type": "execute_result"
    }
   ],
   "source": [
    "df_test.head()"
   ]
  },
  {
   "cell_type": "code",
   "execution_count": 8,
   "metadata": {},
   "outputs": [
    {
     "data": {
      "text/html": [
       "<div>\n",
       "<style scoped>\n",
       "    .dataframe tbody tr th:only-of-type {\n",
       "        vertical-align: middle;\n",
       "    }\n",
       "\n",
       "    .dataframe tbody tr th {\n",
       "        vertical-align: top;\n",
       "    }\n",
       "\n",
       "    .dataframe thead th {\n",
       "        text-align: right;\n",
       "    }\n",
       "</style>\n",
       "<table border=\"1\" class=\"dataframe\">\n",
       "  <thead>\n",
       "    <tr style=\"text-align: right;\">\n",
       "      <th></th>\n",
       "      <th>Id</th>\n",
       "      <th>ARSON</th>\n",
       "      <th>ASSAULT</th>\n",
       "      <th>BAD CHECKS</th>\n",
       "      <th>BRIBERY</th>\n",
       "      <th>BURGLARY</th>\n",
       "      <th>DISORDERLY CONDUCT</th>\n",
       "      <th>DRIVING UNDER THE INFLUENCE</th>\n",
       "      <th>DRUG/NARCOTIC</th>\n",
       "      <th>DRUNKENNESS</th>\n",
       "      <th>...</th>\n",
       "      <th>SEX OFFENSES NON FORCIBLE</th>\n",
       "      <th>STOLEN PROPERTY</th>\n",
       "      <th>SUICIDE</th>\n",
       "      <th>SUSPICIOUS OCC</th>\n",
       "      <th>TREA</th>\n",
       "      <th>TRESPASS</th>\n",
       "      <th>VANDALISM</th>\n",
       "      <th>VEHICLE THEFT</th>\n",
       "      <th>WARRANTS</th>\n",
       "      <th>WEAPON LAWS</th>\n",
       "    </tr>\n",
       "  </thead>\n",
       "  <tbody>\n",
       "    <tr>\n",
       "      <th>0</th>\n",
       "      <td>0</td>\n",
       "      <td>0</td>\n",
       "      <td>0</td>\n",
       "      <td>0</td>\n",
       "      <td>0</td>\n",
       "      <td>0</td>\n",
       "      <td>0</td>\n",
       "      <td>0</td>\n",
       "      <td>0</td>\n",
       "      <td>0</td>\n",
       "      <td>...</td>\n",
       "      <td>0</td>\n",
       "      <td>0</td>\n",
       "      <td>0</td>\n",
       "      <td>0</td>\n",
       "      <td>0</td>\n",
       "      <td>0</td>\n",
       "      <td>0</td>\n",
       "      <td>0</td>\n",
       "      <td>1</td>\n",
       "      <td>0</td>\n",
       "    </tr>\n",
       "    <tr>\n",
       "      <th>1</th>\n",
       "      <td>1</td>\n",
       "      <td>0</td>\n",
       "      <td>0</td>\n",
       "      <td>0</td>\n",
       "      <td>0</td>\n",
       "      <td>0</td>\n",
       "      <td>0</td>\n",
       "      <td>0</td>\n",
       "      <td>0</td>\n",
       "      <td>0</td>\n",
       "      <td>...</td>\n",
       "      <td>0</td>\n",
       "      <td>0</td>\n",
       "      <td>0</td>\n",
       "      <td>0</td>\n",
       "      <td>0</td>\n",
       "      <td>0</td>\n",
       "      <td>0</td>\n",
       "      <td>0</td>\n",
       "      <td>1</td>\n",
       "      <td>0</td>\n",
       "    </tr>\n",
       "    <tr>\n",
       "      <th>2</th>\n",
       "      <td>2</td>\n",
       "      <td>0</td>\n",
       "      <td>0</td>\n",
       "      <td>0</td>\n",
       "      <td>0</td>\n",
       "      <td>0</td>\n",
       "      <td>0</td>\n",
       "      <td>0</td>\n",
       "      <td>0</td>\n",
       "      <td>0</td>\n",
       "      <td>...</td>\n",
       "      <td>0</td>\n",
       "      <td>0</td>\n",
       "      <td>0</td>\n",
       "      <td>0</td>\n",
       "      <td>0</td>\n",
       "      <td>0</td>\n",
       "      <td>0</td>\n",
       "      <td>0</td>\n",
       "      <td>1</td>\n",
       "      <td>0</td>\n",
       "    </tr>\n",
       "    <tr>\n",
       "      <th>3</th>\n",
       "      <td>3</td>\n",
       "      <td>0</td>\n",
       "      <td>0</td>\n",
       "      <td>0</td>\n",
       "      <td>0</td>\n",
       "      <td>0</td>\n",
       "      <td>0</td>\n",
       "      <td>0</td>\n",
       "      <td>0</td>\n",
       "      <td>0</td>\n",
       "      <td>...</td>\n",
       "      <td>0</td>\n",
       "      <td>0</td>\n",
       "      <td>0</td>\n",
       "      <td>0</td>\n",
       "      <td>0</td>\n",
       "      <td>0</td>\n",
       "      <td>0</td>\n",
       "      <td>0</td>\n",
       "      <td>1</td>\n",
       "      <td>0</td>\n",
       "    </tr>\n",
       "    <tr>\n",
       "      <th>4</th>\n",
       "      <td>4</td>\n",
       "      <td>0</td>\n",
       "      <td>0</td>\n",
       "      <td>0</td>\n",
       "      <td>0</td>\n",
       "      <td>0</td>\n",
       "      <td>0</td>\n",
       "      <td>0</td>\n",
       "      <td>0</td>\n",
       "      <td>0</td>\n",
       "      <td>...</td>\n",
       "      <td>0</td>\n",
       "      <td>0</td>\n",
       "      <td>0</td>\n",
       "      <td>0</td>\n",
       "      <td>0</td>\n",
       "      <td>0</td>\n",
       "      <td>0</td>\n",
       "      <td>0</td>\n",
       "      <td>1</td>\n",
       "      <td>0</td>\n",
       "    </tr>\n",
       "  </tbody>\n",
       "</table>\n",
       "<p>5 rows × 40 columns</p>\n",
       "</div>"
      ],
      "text/plain": [
       "   Id  ARSON  ASSAULT  BAD CHECKS  BRIBERY  BURGLARY  DISORDERLY CONDUCT  \\\n",
       "0   0      0        0           0        0         0                   0   \n",
       "1   1      0        0           0        0         0                   0   \n",
       "2   2      0        0           0        0         0                   0   \n",
       "3   3      0        0           0        0         0                   0   \n",
       "4   4      0        0           0        0         0                   0   \n",
       "\n",
       "   DRIVING UNDER THE INFLUENCE  DRUG/NARCOTIC  DRUNKENNESS  ...  \\\n",
       "0                            0              0            0  ...   \n",
       "1                            0              0            0  ...   \n",
       "2                            0              0            0  ...   \n",
       "3                            0              0            0  ...   \n",
       "4                            0              0            0  ...   \n",
       "\n",
       "   SEX OFFENSES NON FORCIBLE  STOLEN PROPERTY  SUICIDE  SUSPICIOUS OCC  TREA  \\\n",
       "0                          0                0        0               0     0   \n",
       "1                          0                0        0               0     0   \n",
       "2                          0                0        0               0     0   \n",
       "3                          0                0        0               0     0   \n",
       "4                          0                0        0               0     0   \n",
       "\n",
       "   TRESPASS  VANDALISM  VEHICLE THEFT  WARRANTS  WEAPON LAWS  \n",
       "0         0          0              0         1            0  \n",
       "1         0          0              0         1            0  \n",
       "2         0          0              0         1            0  \n",
       "3         0          0              0         1            0  \n",
       "4         0          0              0         1            0  \n",
       "\n",
       "[5 rows x 40 columns]"
      ]
     },
     "execution_count": 8,
     "metadata": {},
     "output_type": "execute_result"
    }
   ],
   "source": [
    "df_submit = pd.read_csv(\"data/sampleSubmission.csv\")\n",
    "df_submit.head()"
   ]
  },
  {
   "cell_type": "code",
   "execution_count": 11,
   "metadata": {},
   "outputs": [
    {
     "data": {
      "text/plain": [
       "LARCENY/THEFT                  174900\n",
       "OTHER OFFENSES                 126182\n",
       "NON-CRIMINAL                    92304\n",
       "ASSAULT                         76876\n",
       "DRUG/NARCOTIC                   53971\n",
       "VEHICLE THEFT                   53781\n",
       "VANDALISM                       44725\n",
       "WARRANTS                        42214\n",
       "BURGLARY                        36755\n",
       "SUSPICIOUS OCC                  31414\n",
       "MISSING PERSON                  25989\n",
       "ROBBERY                         23000\n",
       "FRAUD                           16679\n",
       "FORGERY/COUNTERFEITING          10609\n",
       "SECONDARY CODES                  9985\n",
       "WEAPON LAWS                      8555\n",
       "PROSTITUTION                     7484\n",
       "TRESPASS                         7326\n",
       "STOLEN PROPERTY                  4540\n",
       "SEX OFFENSES FORCIBLE            4388\n",
       "DISORDERLY CONDUCT               4320\n",
       "DRUNKENNESS                      4280\n",
       "RECOVERED VEHICLE                3138\n",
       "KIDNAPPING                       2341\n",
       "DRIVING UNDER THE INFLUENCE      2268\n",
       "RUNAWAY                          1946\n",
       "LIQUOR LAWS                      1903\n",
       "ARSON                            1513\n",
       "LOITERING                        1225\n",
       "EMBEZZLEMENT                     1166\n",
       "SUICIDE                           508\n",
       "FAMILY OFFENSES                   491\n",
       "BAD CHECKS                        406\n",
       "BRIBERY                           289\n",
       "EXTORTION                         256\n",
       "SEX OFFENSES NON FORCIBLE         148\n",
       "GAMBLING                          146\n",
       "PORNOGRAPHY/OBSCENE MAT            22\n",
       "TREA                                6\n",
       "Name: Category, dtype: int64"
      ]
     },
     "execution_count": 11,
     "metadata": {},
     "output_type": "execute_result"
    }
   ],
   "source": [
    "df_train[\"Category\"].value_counts()"
   ]
  },
  {
   "cell_type": "code",
   "execution_count": 7,
   "metadata": {},
   "outputs": [],
   "source": [
    "df_test.drop(['Dates'], axis=1, inplace=True)"
   ]
  },
  {
   "cell_type": "code",
   "execution_count": 8,
   "metadata": {},
   "outputs": [
    {
     "data": {
      "text/html": [
       "<div>\n",
       "<style scoped>\n",
       "    .dataframe tbody tr th:only-of-type {\n",
       "        vertical-align: middle;\n",
       "    }\n",
       "\n",
       "    .dataframe tbody tr th {\n",
       "        vertical-align: top;\n",
       "    }\n",
       "\n",
       "    .dataframe thead th {\n",
       "        text-align: right;\n",
       "    }\n",
       "</style>\n",
       "<table border=\"1\" class=\"dataframe\">\n",
       "  <thead>\n",
       "    <tr style=\"text-align: right;\">\n",
       "      <th></th>\n",
       "      <th>Id</th>\n",
       "      <th>DayOfWeek</th>\n",
       "      <th>PdDistrict</th>\n",
       "      <th>Address</th>\n",
       "      <th>X</th>\n",
       "      <th>Y</th>\n",
       "    </tr>\n",
       "  </thead>\n",
       "  <tbody>\n",
       "    <tr>\n",
       "      <th>0</th>\n",
       "      <td>0</td>\n",
       "      <td>Sunday</td>\n",
       "      <td>BAYVIEW</td>\n",
       "      <td>2000 Block of THOMAS AV</td>\n",
       "      <td>-122.399588</td>\n",
       "      <td>37.735051</td>\n",
       "    </tr>\n",
       "    <tr>\n",
       "      <th>1</th>\n",
       "      <td>1</td>\n",
       "      <td>Sunday</td>\n",
       "      <td>BAYVIEW</td>\n",
       "      <td>3RD ST / REVERE AV</td>\n",
       "      <td>-122.391523</td>\n",
       "      <td>37.732432</td>\n",
       "    </tr>\n",
       "    <tr>\n",
       "      <th>2</th>\n",
       "      <td>2</td>\n",
       "      <td>Sunday</td>\n",
       "      <td>NORTHERN</td>\n",
       "      <td>2000 Block of GOUGH ST</td>\n",
       "      <td>-122.426002</td>\n",
       "      <td>37.792212</td>\n",
       "    </tr>\n",
       "    <tr>\n",
       "      <th>3</th>\n",
       "      <td>3</td>\n",
       "      <td>Sunday</td>\n",
       "      <td>INGLESIDE</td>\n",
       "      <td>4700 Block of MISSION ST</td>\n",
       "      <td>-122.437394</td>\n",
       "      <td>37.721412</td>\n",
       "    </tr>\n",
       "    <tr>\n",
       "      <th>4</th>\n",
       "      <td>4</td>\n",
       "      <td>Sunday</td>\n",
       "      <td>INGLESIDE</td>\n",
       "      <td>4700 Block of MISSION ST</td>\n",
       "      <td>-122.437394</td>\n",
       "      <td>37.721412</td>\n",
       "    </tr>\n",
       "  </tbody>\n",
       "</table>\n",
       "</div>"
      ],
      "text/plain": [
       "   Id DayOfWeek PdDistrict                   Address           X          Y\n",
       "0   0    Sunday    BAYVIEW   2000 Block of THOMAS AV -122.399588  37.735051\n",
       "1   1    Sunday    BAYVIEW        3RD ST / REVERE AV -122.391523  37.732432\n",
       "2   2    Sunday   NORTHERN    2000 Block of GOUGH ST -122.426002  37.792212\n",
       "3   3    Sunday  INGLESIDE  4700 Block of MISSION ST -122.437394  37.721412\n",
       "4   4    Sunday  INGLESIDE  4700 Block of MISSION ST -122.437394  37.721412"
      ]
     },
     "execution_count": 8,
     "metadata": {},
     "output_type": "execute_result"
    }
   ],
   "source": [
    "df_test.head()"
   ]
  },
  {
   "cell_type": "code",
   "execution_count": 9,
   "metadata": {},
   "outputs": [
    {
     "data": {
      "text/plain": [
       "array([     0,      1,      2, ..., 878046, 878047, 878048])"
      ]
     },
     "execution_count": 9,
     "metadata": {},
     "output_type": "execute_result"
    }
   ],
   "source": [
    "# 트레이닝과 검증셋을 선택한다.\n",
    "inds = np.arange(df_train.shape[0])\n",
    "inds"
   ]
  },
  {
   "cell_type": "code",
   "execution_count": 10,
   "metadata": {
    "scrolled": true
   },
   "outputs": [
    {
     "data": {
      "text/plain": [
       "878049"
      ]
     },
     "execution_count": 10,
     "metadata": {},
     "output_type": "execute_result"
    }
   ],
   "source": [
    "np.random.shuffle(inds)\n",
    "df_train.shape[0]"
   ]
  },
  {
   "cell_type": "code",
   "execution_count": 11,
   "metadata": {
    "scrolled": true
   },
   "outputs": [
    {
     "data": {
      "text/plain": [
       "702439.2000000001"
      ]
     },
     "execution_count": 11,
     "metadata": {},
     "output_type": "execute_result"
    }
   ],
   "source": [
    "df_train.shape[0] * 0.8"
   ]
  },
  {
   "cell_type": "code",
   "execution_count": 12,
   "metadata": {},
   "outputs": [
    {
     "name": "stdout",
     "output_type": "stream",
     "text": [
      "(702439,)\n",
      "(878049,)\n"
     ]
    }
   ],
   "source": [
    "# 트레인 셋\n",
    "train_inds = inds[:int(0.8 * df_train.shape[0])]\n",
    "print(train_inds.shape)\n",
    "# 검증 셋\n",
    "val_inds = inds[int(0.8) * df_train.shape[0]:]\n",
    "print(val_inds.shape)"
   ]
  },
  {
   "cell_type": "code",
   "execution_count": 13,
   "metadata": {},
   "outputs": [
    {
     "data": {
      "text/plain": [
       "array(['ARSON', 'ASSAULT', 'BAD CHECKS', 'BRIBERY', 'BURGLARY',\n",
       "       'DISORDERLY CONDUCT', 'DRIVING UNDER THE INFLUENCE',\n",
       "       'DRUG/NARCOTIC', 'DRUNKENNESS', 'EMBEZZLEMENT', 'EXTORTION',\n",
       "       'FAMILY OFFENSES', 'FORGERY/COUNTERFEITING', 'FRAUD', 'GAMBLING',\n",
       "       'KIDNAPPING', 'LARCENY/THEFT', 'LIQUOR LAWS', 'LOITERING',\n",
       "       'MISSING PERSON', 'NON-CRIMINAL', 'OTHER OFFENSES',\n",
       "       'PORNOGRAPHY/OBSCENE MAT', 'PROSTITUTION', 'RECOVERED VEHICLE',\n",
       "       'ROBBERY', 'RUNAWAY', 'SECONDARY CODES', 'SEX OFFENSES FORCIBLE',\n",
       "       'SEX OFFENSES NON FORCIBLE', 'STOLEN PROPERTY', 'SUICIDE',\n",
       "       'SUSPICIOUS OCC', 'TREA', 'TRESPASS', 'VANDALISM', 'VEHICLE THEFT',\n",
       "       'WARRANTS', 'WEAPON LAWS'], dtype=object)"
      ]
     },
     "execution_count": 13,
     "metadata": {},
     "output_type": "execute_result"
    }
   ],
   "source": [
    "# 컬럼명을 추출한다.\n",
    "col_names = np.sort(df_train['Category'].unique())\n",
    "col_names"
   ]
  },
  {
   "cell_type": "code",
   "execution_count": 14,
   "metadata": {},
   "outputs": [],
   "source": [
    "# 카테고리를 숫자로 변환해 준다.\n",
    "df_train['Category'] = pd.Categorical(df_train['Category']).codes\n",
    "df_train['DayOfWeek'] = pd.Categorical(df_train['DayOfWeek']).codes\n",
    "df_train['PdDistrict'] = pd.Categorical(df_train['PdDistrict']).codes\n",
    "df_test['DayOfWeek'] = pd.Categorical(df_test['DayOfWeek']).codes\n",
    "df_test['PdDistrict'] = pd.Categorical(df_test['PdDistrict']).codes"
   ]
  },
  {
   "cell_type": "code",
   "execution_count": 15,
   "metadata": {},
   "outputs": [
    {
     "data": {
      "text/html": [
       "<div>\n",
       "<style scoped>\n",
       "    .dataframe tbody tr th:only-of-type {\n",
       "        vertical-align: middle;\n",
       "    }\n",
       "\n",
       "    .dataframe tbody tr th {\n",
       "        vertical-align: top;\n",
       "    }\n",
       "\n",
       "    .dataframe thead th {\n",
       "        text-align: right;\n",
       "    }\n",
       "</style>\n",
       "<table border=\"1\" class=\"dataframe\">\n",
       "  <thead>\n",
       "    <tr style=\"text-align: right;\">\n",
       "      <th></th>\n",
       "      <th>Category</th>\n",
       "      <th>DayOfWeek</th>\n",
       "      <th>PdDistrict</th>\n",
       "      <th>Address</th>\n",
       "      <th>X</th>\n",
       "      <th>Y</th>\n",
       "    </tr>\n",
       "  </thead>\n",
       "  <tbody>\n",
       "    <tr>\n",
       "      <th>0</th>\n",
       "      <td>37</td>\n",
       "      <td>6</td>\n",
       "      <td>4</td>\n",
       "      <td>OAK ST / LAGUNA ST</td>\n",
       "      <td>-122.425892</td>\n",
       "      <td>37.774599</td>\n",
       "    </tr>\n",
       "    <tr>\n",
       "      <th>1</th>\n",
       "      <td>21</td>\n",
       "      <td>6</td>\n",
       "      <td>4</td>\n",
       "      <td>OAK ST / LAGUNA ST</td>\n",
       "      <td>-122.425892</td>\n",
       "      <td>37.774599</td>\n",
       "    </tr>\n",
       "    <tr>\n",
       "      <th>2</th>\n",
       "      <td>21</td>\n",
       "      <td>6</td>\n",
       "      <td>4</td>\n",
       "      <td>VANNESS AV / GREENWICH ST</td>\n",
       "      <td>-122.424363</td>\n",
       "      <td>37.800414</td>\n",
       "    </tr>\n",
       "    <tr>\n",
       "      <th>3</th>\n",
       "      <td>16</td>\n",
       "      <td>6</td>\n",
       "      <td>4</td>\n",
       "      <td>1500 Block of LOMBARD ST</td>\n",
       "      <td>-122.426995</td>\n",
       "      <td>37.800873</td>\n",
       "    </tr>\n",
       "    <tr>\n",
       "      <th>4</th>\n",
       "      <td>16</td>\n",
       "      <td>6</td>\n",
       "      <td>5</td>\n",
       "      <td>100 Block of BRODERICK ST</td>\n",
       "      <td>-122.438738</td>\n",
       "      <td>37.771541</td>\n",
       "    </tr>\n",
       "  </tbody>\n",
       "</table>\n",
       "</div>"
      ],
      "text/plain": [
       "   Category  DayOfWeek  PdDistrict                    Address           X  \\\n",
       "0        37          6           4         OAK ST / LAGUNA ST -122.425892   \n",
       "1        21          6           4         OAK ST / LAGUNA ST -122.425892   \n",
       "2        21          6           4  VANNESS AV / GREENWICH ST -122.424363   \n",
       "3        16          6           4   1500 Block of LOMBARD ST -122.426995   \n",
       "4        16          6           5  100 Block of BRODERICK ST -122.438738   \n",
       "\n",
       "           Y  \n",
       "0  37.774599  \n",
       "1  37.774599  \n",
       "2  37.800414  \n",
       "3  37.800873  \n",
       "4  37.771541  "
      ]
     },
     "execution_count": 15,
     "metadata": {},
     "output_type": "execute_result"
    }
   ],
   "source": [
    "df_train.head()"
   ]
  },
  {
   "cell_type": "code",
   "execution_count": 16,
   "metadata": {},
   "outputs": [
    {
     "data": {
      "text/html": [
       "<div>\n",
       "<style scoped>\n",
       "    .dataframe tbody tr th:only-of-type {\n",
       "        vertical-align: middle;\n",
       "    }\n",
       "\n",
       "    .dataframe tbody tr th {\n",
       "        vertical-align: top;\n",
       "    }\n",
       "\n",
       "    .dataframe thead th {\n",
       "        text-align: right;\n",
       "    }\n",
       "</style>\n",
       "<table border=\"1\" class=\"dataframe\">\n",
       "  <thead>\n",
       "    <tr style=\"text-align: right;\">\n",
       "      <th></th>\n",
       "      <th>Id</th>\n",
       "      <th>DayOfWeek</th>\n",
       "      <th>PdDistrict</th>\n",
       "      <th>Address</th>\n",
       "      <th>X</th>\n",
       "      <th>Y</th>\n",
       "    </tr>\n",
       "  </thead>\n",
       "  <tbody>\n",
       "    <tr>\n",
       "      <th>0</th>\n",
       "      <td>0</td>\n",
       "      <td>3</td>\n",
       "      <td>0</td>\n",
       "      <td>2000 Block of THOMAS AV</td>\n",
       "      <td>-122.399588</td>\n",
       "      <td>37.735051</td>\n",
       "    </tr>\n",
       "    <tr>\n",
       "      <th>1</th>\n",
       "      <td>1</td>\n",
       "      <td>3</td>\n",
       "      <td>0</td>\n",
       "      <td>3RD ST / REVERE AV</td>\n",
       "      <td>-122.391523</td>\n",
       "      <td>37.732432</td>\n",
       "    </tr>\n",
       "    <tr>\n",
       "      <th>2</th>\n",
       "      <td>2</td>\n",
       "      <td>3</td>\n",
       "      <td>4</td>\n",
       "      <td>2000 Block of GOUGH ST</td>\n",
       "      <td>-122.426002</td>\n",
       "      <td>37.792212</td>\n",
       "    </tr>\n",
       "    <tr>\n",
       "      <th>3</th>\n",
       "      <td>3</td>\n",
       "      <td>3</td>\n",
       "      <td>2</td>\n",
       "      <td>4700 Block of MISSION ST</td>\n",
       "      <td>-122.437394</td>\n",
       "      <td>37.721412</td>\n",
       "    </tr>\n",
       "    <tr>\n",
       "      <th>4</th>\n",
       "      <td>4</td>\n",
       "      <td>3</td>\n",
       "      <td>2</td>\n",
       "      <td>4700 Block of MISSION ST</td>\n",
       "      <td>-122.437394</td>\n",
       "      <td>37.721412</td>\n",
       "    </tr>\n",
       "  </tbody>\n",
       "</table>\n",
       "</div>"
      ],
      "text/plain": [
       "   Id  DayOfWeek  PdDistrict                   Address           X          Y\n",
       "0   0          3           0   2000 Block of THOMAS AV -122.399588  37.735051\n",
       "1   1          3           0        3RD ST / REVERE AV -122.391523  37.732432\n",
       "2   2          3           4    2000 Block of GOUGH ST -122.426002  37.792212\n",
       "3   3          3           2  4700 Block of MISSION ST -122.437394  37.721412\n",
       "4   4          3           2  4700 Block of MISSION ST -122.437394  37.721412"
      ]
     },
     "execution_count": 16,
     "metadata": {},
     "output_type": "execute_result"
    }
   ],
   "source": [
    "df_test.head()"
   ]
  },
  {
   "cell_type": "code",
   "execution_count": 17,
   "metadata": {},
   "outputs": [
    {
     "data": {
      "text/plain": [
       "CountVectorizer(analyzer='word', binary=False, decode_error='strict',\n",
       "                dtype=<class 'numpy.int64'>, encoding='utf-8', input='content',\n",
       "                lowercase=True, max_df=1.0, max_features=None, min_df=1,\n",
       "                ngram_range=(1, 1), preprocessor=None, stop_words=None,\n",
       "                strip_accents=None, token_pattern='(?u)\\\\b\\\\w\\\\w+\\\\b',\n",
       "                tokenizer=None, vocabulary=None)"
      ]
     },
     "execution_count": 17,
     "metadata": {},
     "output_type": "execute_result"
    }
   ],
   "source": [
    "from sklearn.feature_extraction.text import CountVectorizer\n",
    "# text 빈도를 추출한다.\n",
    "cvec = CountVectorizer()\n",
    "cvec"
   ]
  },
  {
   "cell_type": "code",
   "execution_count": 18,
   "metadata": {},
   "outputs": [],
   "source": [
    "bows_train = cvec.fit_transform(df_train['Address'].values)"
   ]
  },
  {
   "cell_type": "code",
   "execution_count": 19,
   "metadata": {},
   "outputs": [],
   "source": [
    "bows_test = cvec.transform(df_test['Address'].values)"
   ]
  },
  {
   "cell_type": "code",
   "execution_count": 20,
   "metadata": {
    "scrolled": true
   },
   "outputs": [
    {
     "data": {
      "text/html": [
       "<div>\n",
       "<style scoped>\n",
       "    .dataframe tbody tr th:only-of-type {\n",
       "        vertical-align: middle;\n",
       "    }\n",
       "\n",
       "    .dataframe tbody tr th {\n",
       "        vertical-align: top;\n",
       "    }\n",
       "\n",
       "    .dataframe thead th {\n",
       "        text-align: right;\n",
       "    }\n",
       "</style>\n",
       "<table border=\"1\" class=\"dataframe\">\n",
       "  <thead>\n",
       "    <tr style=\"text-align: right;\">\n",
       "      <th></th>\n",
       "      <th>Category</th>\n",
       "      <th>DayOfWeek</th>\n",
       "      <th>PdDistrict</th>\n",
       "      <th>Address</th>\n",
       "      <th>X</th>\n",
       "      <th>Y</th>\n",
       "    </tr>\n",
       "  </thead>\n",
       "  <tbody>\n",
       "    <tr>\n",
       "      <th>844294</th>\n",
       "      <td>21</td>\n",
       "      <td>4</td>\n",
       "      <td>8</td>\n",
       "      <td>200 Block of RANDOLPH ST</td>\n",
       "      <td>-122.464860</td>\n",
       "      <td>37.714345</td>\n",
       "    </tr>\n",
       "    <tr>\n",
       "      <th>376559</th>\n",
       "      <td>21</td>\n",
       "      <td>4</td>\n",
       "      <td>7</td>\n",
       "      <td>MISSION ST / 11TH ST</td>\n",
       "      <td>-122.417105</td>\n",
       "      <td>37.774324</td>\n",
       "    </tr>\n",
       "    <tr>\n",
       "      <th>3683</th>\n",
       "      <td>20</td>\n",
       "      <td>1</td>\n",
       "      <td>7</td>\n",
       "      <td>100 Block of 9TH ST</td>\n",
       "      <td>-122.413981</td>\n",
       "      <td>37.775569</td>\n",
       "    </tr>\n",
       "    <tr>\n",
       "      <th>847531</th>\n",
       "      <td>13</td>\n",
       "      <td>4</td>\n",
       "      <td>1</td>\n",
       "      <td>500 Block of WASHINGTON ST</td>\n",
       "      <td>-122.402219</td>\n",
       "      <td>37.795713</td>\n",
       "    </tr>\n",
       "    <tr>\n",
       "      <th>22596</th>\n",
       "      <td>21</td>\n",
       "      <td>0</td>\n",
       "      <td>7</td>\n",
       "      <td>1000 Block of HARRISON ST</td>\n",
       "      <td>-122.405955</td>\n",
       "      <td>37.775861</td>\n",
       "    </tr>\n",
       "  </tbody>\n",
       "</table>\n",
       "</div>"
      ],
      "text/plain": [
       "        Category  DayOfWeek  PdDistrict                     Address  \\\n",
       "844294        21          4           8    200 Block of RANDOLPH ST   \n",
       "376559        21          4           7        MISSION ST / 11TH ST   \n",
       "3683          20          1           7         100 Block of 9TH ST   \n",
       "847531        13          4           1  500 Block of WASHINGTON ST   \n",
       "22596         21          0           7   1000 Block of HARRISON ST   \n",
       "\n",
       "                 X          Y  \n",
       "844294 -122.464860  37.714345  \n",
       "376559 -122.417105  37.774324  \n",
       "3683   -122.413981  37.775569  \n",
       "847531 -122.402219  37.795713  \n",
       "22596  -122.405955  37.775861  "
      ]
     },
     "execution_count": 20,
     "metadata": {},
     "output_type": "execute_result"
    }
   ],
   "source": [
    "# 트레이닝과 검증셋을 나눈다.\n",
    "df_val = df_train.iloc[val_inds]\n",
    "df_val.head()"
   ]
  },
  {
   "cell_type": "code",
   "execution_count": 21,
   "metadata": {},
   "outputs": [
    {
     "data": {
      "text/plain": [
       "(878049, 6)"
      ]
     },
     "execution_count": 21,
     "metadata": {},
     "output_type": "execute_result"
    }
   ],
   "source": [
    "df_val.shape"
   ]
  },
  {
   "cell_type": "code",
   "execution_count": 22,
   "metadata": {},
   "outputs": [
    {
     "data": {
      "text/plain": [
       "(702439, 6)"
      ]
     },
     "execution_count": 22,
     "metadata": {},
     "output_type": "execute_result"
    }
   ],
   "source": [
    "df_train = df_train.iloc[train_inds]\n",
    "df_train.shape"
   ]
  },
  {
   "cell_type": "code",
   "execution_count": 23,
   "metadata": {},
   "outputs": [
    {
     "data": {
      "text/html": [
       "<div>\n",
       "<style scoped>\n",
       "    .dataframe tbody tr th:only-of-type {\n",
       "        vertical-align: middle;\n",
       "    }\n",
       "\n",
       "    .dataframe tbody tr th {\n",
       "        vertical-align: top;\n",
       "    }\n",
       "\n",
       "    .dataframe thead th {\n",
       "        text-align: right;\n",
       "    }\n",
       "</style>\n",
       "<table border=\"1\" class=\"dataframe\">\n",
       "  <thead>\n",
       "    <tr style=\"text-align: right;\">\n",
       "      <th></th>\n",
       "      <th>Category</th>\n",
       "      <th>DayOfWeek</th>\n",
       "      <th>PdDistrict</th>\n",
       "      <th>Address</th>\n",
       "      <th>X</th>\n",
       "      <th>Y</th>\n",
       "    </tr>\n",
       "  </thead>\n",
       "  <tbody>\n",
       "    <tr>\n",
       "      <th>844294</th>\n",
       "      <td>21</td>\n",
       "      <td>4</td>\n",
       "      <td>8</td>\n",
       "      <td>200 Block of RANDOLPH ST</td>\n",
       "      <td>-122.464860</td>\n",
       "      <td>37.714345</td>\n",
       "    </tr>\n",
       "    <tr>\n",
       "      <th>376559</th>\n",
       "      <td>21</td>\n",
       "      <td>4</td>\n",
       "      <td>7</td>\n",
       "      <td>MISSION ST / 11TH ST</td>\n",
       "      <td>-122.417105</td>\n",
       "      <td>37.774324</td>\n",
       "    </tr>\n",
       "    <tr>\n",
       "      <th>3683</th>\n",
       "      <td>20</td>\n",
       "      <td>1</td>\n",
       "      <td>7</td>\n",
       "      <td>100 Block of 9TH ST</td>\n",
       "      <td>-122.413981</td>\n",
       "      <td>37.775569</td>\n",
       "    </tr>\n",
       "    <tr>\n",
       "      <th>847531</th>\n",
       "      <td>13</td>\n",
       "      <td>4</td>\n",
       "      <td>1</td>\n",
       "      <td>500 Block of WASHINGTON ST</td>\n",
       "      <td>-122.402219</td>\n",
       "      <td>37.795713</td>\n",
       "    </tr>\n",
       "    <tr>\n",
       "      <th>22596</th>\n",
       "      <td>21</td>\n",
       "      <td>0</td>\n",
       "      <td>7</td>\n",
       "      <td>1000 Block of HARRISON ST</td>\n",
       "      <td>-122.405955</td>\n",
       "      <td>37.775861</td>\n",
       "    </tr>\n",
       "  </tbody>\n",
       "</table>\n",
       "</div>"
      ],
      "text/plain": [
       "        Category  DayOfWeek  PdDistrict                     Address  \\\n",
       "844294        21          4           8    200 Block of RANDOLPH ST   \n",
       "376559        21          4           7        MISSION ST / 11TH ST   \n",
       "3683          20          1           7         100 Block of 9TH ST   \n",
       "847531        13          4           1  500 Block of WASHINGTON ST   \n",
       "22596         21          0           7   1000 Block of HARRISON ST   \n",
       "\n",
       "                 X          Y  \n",
       "844294 -122.464860  37.714345  \n",
       "376559 -122.417105  37.774324  \n",
       "3683   -122.413981  37.775569  \n",
       "847531 -122.402219  37.795713  \n",
       "22596  -122.405955  37.775861  "
      ]
     },
     "execution_count": 23,
     "metadata": {},
     "output_type": "execute_result"
    }
   ],
   "source": [
    "df_train.head()"
   ]
  },
  {
   "cell_type": "code",
   "execution_count": 24,
   "metadata": {
    "scrolled": false
   },
   "outputs": [],
   "source": [
    "from patsy import dmatrices, dmatrix\n",
    "y_train, X_train = dmatrices('Category ~ X + Y + DayOfWeek + PdDistrict', df_train)"
   ]
  },
  {
   "cell_type": "code",
   "execution_count": 25,
   "metadata": {},
   "outputs": [
    {
     "data": {
      "text/plain": [
       "(702439, 1)"
      ]
     },
     "execution_count": 25,
     "metadata": {},
     "output_type": "execute_result"
    }
   ],
   "source": [
    "y_train.shape"
   ]
  },
  {
   "cell_type": "code",
   "execution_count": 26,
   "metadata": {
    "scrolled": true
   },
   "outputs": [],
   "source": [
    "# 벡터화 된 주소\n",
    "X_train = np.hstack((X_train, bows_train[train_inds, :].toarray()))"
   ]
  },
  {
   "cell_type": "code",
   "execution_count": 27,
   "metadata": {
    "scrolled": true
   },
   "outputs": [
    {
     "data": {
      "text/plain": [
       "(702439, 2146)"
      ]
     },
     "execution_count": 27,
     "metadata": {},
     "output_type": "execute_result"
    }
   ],
   "source": [
    "X_train.shape"
   ]
  },
  {
   "cell_type": "code",
   "execution_count": 28,
   "metadata": {},
   "outputs": [],
   "source": [
    "y_val, X_val = dmatrices('Category ~ X + Y + DayOfWeek + PdDistrict', df_val)"
   ]
  },
  {
   "cell_type": "code",
   "execution_count": 29,
   "metadata": {},
   "outputs": [],
   "source": [
    "X_val = np.hstack((X_val, bows_train[val_inds, :].toarray()))\n",
    "X_test = dmatrix('X + Y + DayOfWeek + PdDistrict', df_test)"
   ]
  },
  {
   "cell_type": "code",
   "execution_count": 30,
   "metadata": {},
   "outputs": [],
   "source": [
    "X_test = np.hstack((X_test, bows_test.toarray()))"
   ]
  },
  {
   "cell_type": "code",
   "execution_count": 31,
   "metadata": {},
   "outputs": [],
   "source": [
    "# IncrementalPCA\n",
    "from sklearn.decomposition import IncrementalPCA\n",
    "from sklearn.ensemble import RandomForestClassifier\n",
    "from sklearn.linear_model import LogisticRegression"
   ]
  },
  {
   "cell_type": "code",
   "execution_count": 32,
   "metadata": {},
   "outputs": [
    {
     "data": {
      "text/plain": [
       "IncrementalPCA(batch_size=5, copy=True, n_components=4, whiten=False)"
      ]
     },
     "execution_count": 32,
     "metadata": {},
     "output_type": "execute_result"
    }
   ],
   "source": [
    "ipca = IncrementalPCA(n_components=4, batch_size=5)\n",
    "ipca"
   ]
  },
  {
   "cell_type": "code",
   "execution_count": 33,
   "metadata": {},
   "outputs": [],
   "source": [
    "X_train = ipca.fit_transform(X_train)"
   ]
  },
  {
   "cell_type": "code",
   "execution_count": 34,
   "metadata": {},
   "outputs": [],
   "source": [
    "X_val = ipca.transform(X_val)"
   ]
  },
  {
   "cell_type": "code",
   "execution_count": 35,
   "metadata": {},
   "outputs": [],
   "source": [
    "X_test = ipca.transform(X_test)"
   ]
  },
  {
   "cell_type": "code",
   "execution_count": null,
   "metadata": {},
   "outputs": [],
   "source": [
    "# 로지스틱 회귀를 생성하고 fit 시킨다.\n",
    "logistic = LogisticRegression()\n",
    "logistic.fit(X_train, y_train.ravel())"
   ]
  },
  {
   "cell_type": "code",
   "execution_count": 42,
   "metadata": {},
   "outputs": [
    {
     "name": "stdout",
     "output_type": "stream",
     "text": [
      "Mean accuracy (Logistic): 0.20984250309492977\n"
     ]
    }
   ],
   "source": [
    "# 정확도를 본다.\n",
    "print('Mean accuracy (Logistic):', logistic.score(X_val, y_val.ravel()))"
   ]
  },
  {
   "cell_type": "code",
   "execution_count": 43,
   "metadata": {},
   "outputs": [
    {
     "name": "stdout",
     "output_type": "stream",
     "text": [
      "Mean accuracy (Logistic): 0.20984250309492977\n"
     ]
    }
   ],
   "source": [
    "# 랜덤 포레스트로 fit 시키고 정확도를 본다.\n",
    "randforest = RandomForestClassifier()\n",
    "randforest.fit(X_train, y_train.ravel())\n",
    "\n",
    "# 정확도를 본다.\n",
    "print('Mean accuracy (Logistic):', logistic.score(X_val, y_val.ravel()))"
   ]
  },
  {
   "cell_type": "code",
   "execution_count": 38,
   "metadata": {},
   "outputs": [],
   "source": [
    "# Make predictions\n",
    "\n",
    "predict_probs = logistic.predict_proba(X_test)"
   ]
  },
  {
   "cell_type": "code",
   "execution_count": 40,
   "metadata": {},
   "outputs": [
    {
     "data": {
      "text/html": [
       "<div>\n",
       "<style scoped>\n",
       "    .dataframe tbody tr th:only-of-type {\n",
       "        vertical-align: middle;\n",
       "    }\n",
       "\n",
       "    .dataframe tbody tr th {\n",
       "        vertical-align: top;\n",
       "    }\n",
       "\n",
       "    .dataframe thead th {\n",
       "        text-align: right;\n",
       "    }\n",
       "</style>\n",
       "<table border=\"1\" class=\"dataframe\">\n",
       "  <thead>\n",
       "    <tr style=\"text-align: right;\">\n",
       "      <th></th>\n",
       "      <th>ARSON</th>\n",
       "      <th>ASSAULT</th>\n",
       "      <th>BAD CHECKS</th>\n",
       "      <th>BRIBERY</th>\n",
       "      <th>BURGLARY</th>\n",
       "      <th>DISORDERLY CONDUCT</th>\n",
       "      <th>DRIVING UNDER THE INFLUENCE</th>\n",
       "      <th>DRUG/NARCOTIC</th>\n",
       "      <th>DRUNKENNESS</th>\n",
       "      <th>EMBEZZLEMENT</th>\n",
       "      <th>...</th>\n",
       "      <th>STOLEN PROPERTY</th>\n",
       "      <th>SUICIDE</th>\n",
       "      <th>SUSPICIOUS OCC</th>\n",
       "      <th>TREA</th>\n",
       "      <th>TRESPASS</th>\n",
       "      <th>VANDALISM</th>\n",
       "      <th>VEHICLE THEFT</th>\n",
       "      <th>WARRANTS</th>\n",
       "      <th>WEAPON LAWS</th>\n",
       "      <th>Id</th>\n",
       "    </tr>\n",
       "  </thead>\n",
       "  <tbody>\n",
       "    <tr>\n",
       "      <th>0</th>\n",
       "      <td>0.004529</td>\n",
       "      <td>0.111885</td>\n",
       "      <td>0.000697</td>\n",
       "      <td>0.000650</td>\n",
       "      <td>0.060622</td>\n",
       "      <td>0.003698</td>\n",
       "      <td>0.001908</td>\n",
       "      <td>0.018210</td>\n",
       "      <td>0.003156</td>\n",
       "      <td>0.001992</td>\n",
       "      <td>...</td>\n",
       "      <td>0.004727</td>\n",
       "      <td>0.001456</td>\n",
       "      <td>0.046903</td>\n",
       "      <td>0.000112</td>\n",
       "      <td>0.007827</td>\n",
       "      <td>0.073395</td>\n",
       "      <td>0.089612</td>\n",
       "      <td>0.027645</td>\n",
       "      <td>0.015829</td>\n",
       "      <td>0</td>\n",
       "    </tr>\n",
       "    <tr>\n",
       "      <th>1</th>\n",
       "      <td>0.001690</td>\n",
       "      <td>0.069454</td>\n",
       "      <td>0.000226</td>\n",
       "      <td>0.000340</td>\n",
       "      <td>0.003436</td>\n",
       "      <td>0.004071</td>\n",
       "      <td>0.006859</td>\n",
       "      <td>0.029056</td>\n",
       "      <td>0.004057</td>\n",
       "      <td>0.000247</td>\n",
       "      <td>...</td>\n",
       "      <td>0.004209</td>\n",
       "      <td>0.000254</td>\n",
       "      <td>0.025817</td>\n",
       "      <td>0.000097</td>\n",
       "      <td>0.001138</td>\n",
       "      <td>0.050124</td>\n",
       "      <td>0.119799</td>\n",
       "      <td>0.036432</td>\n",
       "      <td>0.014453</td>\n",
       "      <td>1</td>\n",
       "    </tr>\n",
       "    <tr>\n",
       "      <th>2</th>\n",
       "      <td>0.001925</td>\n",
       "      <td>0.099437</td>\n",
       "      <td>0.000520</td>\n",
       "      <td>0.000306</td>\n",
       "      <td>0.056984</td>\n",
       "      <td>0.005298</td>\n",
       "      <td>0.001311</td>\n",
       "      <td>0.049739</td>\n",
       "      <td>0.005113</td>\n",
       "      <td>0.001971</td>\n",
       "      <td>...</td>\n",
       "      <td>0.006031</td>\n",
       "      <td>0.000648</td>\n",
       "      <td>0.040351</td>\n",
       "      <td>0.000108</td>\n",
       "      <td>0.011008</td>\n",
       "      <td>0.055089</td>\n",
       "      <td>0.053575</td>\n",
       "      <td>0.046717</td>\n",
       "      <td>0.009409</td>\n",
       "      <td>2</td>\n",
       "    </tr>\n",
       "    <tr>\n",
       "      <th>3</th>\n",
       "      <td>0.002338</td>\n",
       "      <td>0.103010</td>\n",
       "      <td>0.000561</td>\n",
       "      <td>0.000389</td>\n",
       "      <td>0.059863</td>\n",
       "      <td>0.005012</td>\n",
       "      <td>0.001252</td>\n",
       "      <td>0.036751</td>\n",
       "      <td>0.004797</td>\n",
       "      <td>0.001951</td>\n",
       "      <td>...</td>\n",
       "      <td>0.006200</td>\n",
       "      <td>0.000652</td>\n",
       "      <td>0.040480</td>\n",
       "      <td>0.000112</td>\n",
       "      <td>0.010054</td>\n",
       "      <td>0.058667</td>\n",
       "      <td>0.061577</td>\n",
       "      <td>0.042184</td>\n",
       "      <td>0.010763</td>\n",
       "      <td>3</td>\n",
       "    </tr>\n",
       "    <tr>\n",
       "      <th>4</th>\n",
       "      <td>0.002338</td>\n",
       "      <td>0.103010</td>\n",
       "      <td>0.000561</td>\n",
       "      <td>0.000389</td>\n",
       "      <td>0.059863</td>\n",
       "      <td>0.005012</td>\n",
       "      <td>0.001252</td>\n",
       "      <td>0.036751</td>\n",
       "      <td>0.004797</td>\n",
       "      <td>0.001951</td>\n",
       "      <td>...</td>\n",
       "      <td>0.006200</td>\n",
       "      <td>0.000652</td>\n",
       "      <td>0.040480</td>\n",
       "      <td>0.000112</td>\n",
       "      <td>0.010054</td>\n",
       "      <td>0.058667</td>\n",
       "      <td>0.061577</td>\n",
       "      <td>0.042184</td>\n",
       "      <td>0.010763</td>\n",
       "      <td>4</td>\n",
       "    </tr>\n",
       "    <tr>\n",
       "      <th>...</th>\n",
       "      <td>...</td>\n",
       "      <td>...</td>\n",
       "      <td>...</td>\n",
       "      <td>...</td>\n",
       "      <td>...</td>\n",
       "      <td>...</td>\n",
       "      <td>...</td>\n",
       "      <td>...</td>\n",
       "      <td>...</td>\n",
       "      <td>...</td>\n",
       "      <td>...</td>\n",
       "      <td>...</td>\n",
       "      <td>...</td>\n",
       "      <td>...</td>\n",
       "      <td>...</td>\n",
       "      <td>...</td>\n",
       "      <td>...</td>\n",
       "      <td>...</td>\n",
       "      <td>...</td>\n",
       "      <td>...</td>\n",
       "      <td>...</td>\n",
       "    </tr>\n",
       "    <tr>\n",
       "      <th>884257</th>\n",
       "      <td>0.002129</td>\n",
       "      <td>0.099521</td>\n",
       "      <td>0.000620</td>\n",
       "      <td>0.000296</td>\n",
       "      <td>0.060803</td>\n",
       "      <td>0.005592</td>\n",
       "      <td>0.001029</td>\n",
       "      <td>0.048363</td>\n",
       "      <td>0.004390</td>\n",
       "      <td>0.001820</td>\n",
       "      <td>...</td>\n",
       "      <td>0.006701</td>\n",
       "      <td>0.000650</td>\n",
       "      <td>0.041442</td>\n",
       "      <td>0.000106</td>\n",
       "      <td>0.011491</td>\n",
       "      <td>0.053332</td>\n",
       "      <td>0.054004</td>\n",
       "      <td>0.049094</td>\n",
       "      <td>0.010010</td>\n",
       "      <td>884257</td>\n",
       "    </tr>\n",
       "    <tr>\n",
       "      <th>884258</th>\n",
       "      <td>0.001908</td>\n",
       "      <td>0.097043</td>\n",
       "      <td>0.000583</td>\n",
       "      <td>0.000261</td>\n",
       "      <td>0.054615</td>\n",
       "      <td>0.005763</td>\n",
       "      <td>0.001113</td>\n",
       "      <td>0.056758</td>\n",
       "      <td>0.004553</td>\n",
       "      <td>0.001727</td>\n",
       "      <td>...</td>\n",
       "      <td>0.006577</td>\n",
       "      <td>0.000629</td>\n",
       "      <td>0.040999</td>\n",
       "      <td>0.000104</td>\n",
       "      <td>0.011351</td>\n",
       "      <td>0.051588</td>\n",
       "      <td>0.051441</td>\n",
       "      <td>0.051973</td>\n",
       "      <td>0.009450</td>\n",
       "      <td>884258</td>\n",
       "    </tr>\n",
       "    <tr>\n",
       "      <th>884259</th>\n",
       "      <td>0.002322</td>\n",
       "      <td>0.100829</td>\n",
       "      <td>0.000631</td>\n",
       "      <td>0.000333</td>\n",
       "      <td>0.058137</td>\n",
       "      <td>0.005467</td>\n",
       "      <td>0.001056</td>\n",
       "      <td>0.042030</td>\n",
       "      <td>0.004284</td>\n",
       "      <td>0.001726</td>\n",
       "      <td>...</td>\n",
       "      <td>0.006788</td>\n",
       "      <td>0.000635</td>\n",
       "      <td>0.041244</td>\n",
       "      <td>0.000108</td>\n",
       "      <td>0.010474</td>\n",
       "      <td>0.055037</td>\n",
       "      <td>0.059041</td>\n",
       "      <td>0.047047</td>\n",
       "      <td>0.010810</td>\n",
       "      <td>884259</td>\n",
       "    </tr>\n",
       "    <tr>\n",
       "      <th>884260</th>\n",
       "      <td>0.004545</td>\n",
       "      <td>0.110369</td>\n",
       "      <td>0.000790</td>\n",
       "      <td>0.000561</td>\n",
       "      <td>0.058906</td>\n",
       "      <td>0.004060</td>\n",
       "      <td>0.001635</td>\n",
       "      <td>0.020955</td>\n",
       "      <td>0.002835</td>\n",
       "      <td>0.001768</td>\n",
       "      <td>...</td>\n",
       "      <td>0.005204</td>\n",
       "      <td>0.001435</td>\n",
       "      <td>0.048189</td>\n",
       "      <td>0.000109</td>\n",
       "      <td>0.008170</td>\n",
       "      <td>0.069483</td>\n",
       "      <td>0.086921</td>\n",
       "      <td>0.031026</td>\n",
       "      <td>0.016070</td>\n",
       "      <td>884260</td>\n",
       "    </tr>\n",
       "    <tr>\n",
       "      <th>884261</th>\n",
       "      <td>0.001772</td>\n",
       "      <td>0.095898</td>\n",
       "      <td>0.000610</td>\n",
       "      <td>0.000192</td>\n",
       "      <td>0.071648</td>\n",
       "      <td>0.005529</td>\n",
       "      <td>0.001202</td>\n",
       "      <td>0.079208</td>\n",
       "      <td>0.004148</td>\n",
       "      <td>0.002346</td>\n",
       "      <td>...</td>\n",
       "      <td>0.005394</td>\n",
       "      <td>0.001094</td>\n",
       "      <td>0.045829</td>\n",
       "      <td>0.000096</td>\n",
       "      <td>0.016292</td>\n",
       "      <td>0.049969</td>\n",
       "      <td>0.040084</td>\n",
       "      <td>0.051692</td>\n",
       "      <td>0.007909</td>\n",
       "      <td>884261</td>\n",
       "    </tr>\n",
       "  </tbody>\n",
       "</table>\n",
       "<p>884262 rows × 40 columns</p>\n",
       "</div>"
      ],
      "text/plain": [
       "           ARSON   ASSAULT  BAD CHECKS   BRIBERY  BURGLARY  \\\n",
       "0       0.004529  0.111885    0.000697  0.000650  0.060622   \n",
       "1       0.001690  0.069454    0.000226  0.000340  0.003436   \n",
       "2       0.001925  0.099437    0.000520  0.000306  0.056984   \n",
       "3       0.002338  0.103010    0.000561  0.000389  0.059863   \n",
       "4       0.002338  0.103010    0.000561  0.000389  0.059863   \n",
       "...          ...       ...         ...       ...       ...   \n",
       "884257  0.002129  0.099521    0.000620  0.000296  0.060803   \n",
       "884258  0.001908  0.097043    0.000583  0.000261  0.054615   \n",
       "884259  0.002322  0.100829    0.000631  0.000333  0.058137   \n",
       "884260  0.004545  0.110369    0.000790  0.000561  0.058906   \n",
       "884261  0.001772  0.095898    0.000610  0.000192  0.071648   \n",
       "\n",
       "        DISORDERLY CONDUCT  DRIVING UNDER THE INFLUENCE  DRUG/NARCOTIC  \\\n",
       "0                 0.003698                     0.001908       0.018210   \n",
       "1                 0.004071                     0.006859       0.029056   \n",
       "2                 0.005298                     0.001311       0.049739   \n",
       "3                 0.005012                     0.001252       0.036751   \n",
       "4                 0.005012                     0.001252       0.036751   \n",
       "...                    ...                          ...            ...   \n",
       "884257            0.005592                     0.001029       0.048363   \n",
       "884258            0.005763                     0.001113       0.056758   \n",
       "884259            0.005467                     0.001056       0.042030   \n",
       "884260            0.004060                     0.001635       0.020955   \n",
       "884261            0.005529                     0.001202       0.079208   \n",
       "\n",
       "        DRUNKENNESS  EMBEZZLEMENT  ...  STOLEN PROPERTY   SUICIDE  \\\n",
       "0          0.003156      0.001992  ...         0.004727  0.001456   \n",
       "1          0.004057      0.000247  ...         0.004209  0.000254   \n",
       "2          0.005113      0.001971  ...         0.006031  0.000648   \n",
       "3          0.004797      0.001951  ...         0.006200  0.000652   \n",
       "4          0.004797      0.001951  ...         0.006200  0.000652   \n",
       "...             ...           ...  ...              ...       ...   \n",
       "884257     0.004390      0.001820  ...         0.006701  0.000650   \n",
       "884258     0.004553      0.001727  ...         0.006577  0.000629   \n",
       "884259     0.004284      0.001726  ...         0.006788  0.000635   \n",
       "884260     0.002835      0.001768  ...         0.005204  0.001435   \n",
       "884261     0.004148      0.002346  ...         0.005394  0.001094   \n",
       "\n",
       "        SUSPICIOUS OCC      TREA  TRESPASS  VANDALISM  VEHICLE THEFT  \\\n",
       "0             0.046903  0.000112  0.007827   0.073395       0.089612   \n",
       "1             0.025817  0.000097  0.001138   0.050124       0.119799   \n",
       "2             0.040351  0.000108  0.011008   0.055089       0.053575   \n",
       "3             0.040480  0.000112  0.010054   0.058667       0.061577   \n",
       "4             0.040480  0.000112  0.010054   0.058667       0.061577   \n",
       "...                ...       ...       ...        ...            ...   \n",
       "884257        0.041442  0.000106  0.011491   0.053332       0.054004   \n",
       "884258        0.040999  0.000104  0.011351   0.051588       0.051441   \n",
       "884259        0.041244  0.000108  0.010474   0.055037       0.059041   \n",
       "884260        0.048189  0.000109  0.008170   0.069483       0.086921   \n",
       "884261        0.045829  0.000096  0.016292   0.049969       0.040084   \n",
       "\n",
       "        WARRANTS  WEAPON LAWS      Id  \n",
       "0       0.027645     0.015829       0  \n",
       "1       0.036432     0.014453       1  \n",
       "2       0.046717     0.009409       2  \n",
       "3       0.042184     0.010763       3  \n",
       "4       0.042184     0.010763       4  \n",
       "...          ...          ...     ...  \n",
       "884257  0.049094     0.010010  884257  \n",
       "884258  0.051973     0.009450  884258  \n",
       "884259  0.047047     0.010810  884259  \n",
       "884260  0.031026     0.016070  884260  \n",
       "884261  0.051692     0.007909  884261  \n",
       "\n",
       "[884262 rows x 40 columns]"
      ]
     },
     "execution_count": 40,
     "metadata": {},
     "output_type": "execute_result"
    }
   ],
   "source": [
    "df_pred = pd.DataFrame(data=predict_probs, columns=col_names)\n",
    "df_pred['Id'] = df_test['Id'].astype(int)\n",
    "df_pred"
   ]
  },
  {
   "cell_type": "code",
   "execution_count": 41,
   "metadata": {},
   "outputs": [],
   "source": [
    "df_pred.to_csv('output.csv', index=False)"
   ]
  },
  {
   "cell_type": "code",
   "execution_count": null,
   "metadata": {},
   "outputs": [],
   "source": []
  },
  {
   "cell_type": "code",
   "execution_count": null,
   "metadata": {},
   "outputs": [],
   "source": []
  },
  {
   "cell_type": "code",
   "execution_count": null,
   "metadata": {},
   "outputs": [],
   "source": []
  },
  {
   "cell_type": "code",
   "execution_count": null,
   "metadata": {},
   "outputs": [],
   "source": []
  },
  {
   "cell_type": "code",
   "execution_count": null,
   "metadata": {},
   "outputs": [],
   "source": []
  }
 ],
 "metadata": {
  "kernelspec": {
   "display_name": "Python 3",
   "language": "python",
   "name": "python3"
  },
  "language_info": {
   "codemirror_mode": {
    "name": "ipython",
    "version": 3
   },
   "file_extension": ".py",
   "mimetype": "text/x-python",
   "name": "python",
   "nbconvert_exporter": "python",
   "pygments_lexer": "ipython3",
   "version": "3.7.6"
  },
  "toc": {
   "base_numbering": 1,
   "nav_menu": {},
   "number_sections": true,
   "sideBar": true,
   "skip_h1_title": false,
   "title_cell": "Table of Contents",
   "title_sidebar": "Contents",
   "toc_cell": false,
   "toc_position": {},
   "toc_section_display": true,
   "toc_window_display": false
  },
  "varInspector": {
   "cols": {
    "lenName": 16,
    "lenType": 16,
    "lenVar": 40
   },
   "kernels_config": {
    "python": {
     "delete_cmd_postfix": "",
     "delete_cmd_prefix": "del ",
     "library": "var_list.py",
     "varRefreshCmd": "print(var_dic_list())"
    },
    "r": {
     "delete_cmd_postfix": ") ",
     "delete_cmd_prefix": "rm(",
     "library": "var_list.r",
     "varRefreshCmd": "cat(var_dic_list()) "
    }
   },
   "types_to_exclude": [
    "module",
    "function",
    "builtin_function_or_method",
    "instance",
    "_Feature"
   ],
   "window_display": false
  }
 },
 "nbformat": 4,
 "nbformat_minor": 2
}
