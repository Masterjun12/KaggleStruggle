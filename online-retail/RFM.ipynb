{
 "cells": [
  {
   "cell_type": "markdown",
   "metadata": {},
   "source": [
    "## RFM(Recency, Frequency, Monetary)\n",
    "\n",
    "* RFM은 가치있는 고객을 추출해내어 이를 기준으로 고객을 분류할 수 있는 매우 간단하면서도 유용하게 사용될 수 있는 방법으로 알려져 있어 마케팅에서 가장 많이 사용되고 있는 분석방법 중 하나이다. RFM은 구매 가능성이 높은 고객을 선정하기 위한 데이터 분석방법으로서, 분석과정을 통해 데이터는 의미있는 정보로 전환된다.\n",
    "\n",
    "* RFM은 Recency, Frequency, Monetary의 약자로 고객의 가치를 다음의 세 가지 기준에 의해 계산하고 있다.\n",
    "\n",
    "* Recency - 거래의 최근성: 고객이 얼마나 최근에 구입했는가?\n",
    "* Frequency - 거래빈도: 고객이 얼마나 빈번하게 우리 상품을 구입했나?\n",
    "* Monetary - 거래규모: 고객이 구입했던 총 금액은 어느 정도인가?\n",
    "\n",
    "### RFM 모형\n",
    "\n",
    "* Scoring 기법: RFM의 요인을 각각 5등급으로 등간격으로 분류하는 방법이다.\n",
    "* 현재 개발된 RFM 모형은 크게 4가지로 분류 할 수 있다. 이 문서의 내용들은 정설이 아니며 신뢰하기 어려움을 전제로 참고해야한다.\n",
    "    * 모델1. RFM 각 요소의 20% rule의 적용\n",
    "    * 모델2. 비율 척도에 의한 양적인 정도의 차이에 따른 등간격의 5등급 분류\n",
    "    * 모델3. 상하 20%를 제외한 등간격 척도에 의한 그룹 분류\n",
    "    * 모델4. 군집 분석에 의한 각 요소 별 5개의 그룹 분류\n",
    "* Data Mining 기법을 이용한 모형\n",
    "* 회귀분석\n",
    "* 선형 회귀 분석을 이용한 모형: 고객의 구매 최근성, 구매 빈도, 구매 금액 등 고객의 수익 기여도를 나타내는 세가지 지표들의 선형결합으로 세가지 지표들을 점수화 한다.\n",
    "* 다중 회귀 분석을 이용한 모형: 각 고객의 구매 행동을 나타내는 R,F,M의 변수들을 독립변수로하고 고객의 미래 구매 행동을 예측하는 기법.\n",
    "* 신경망을 적용한 모형: 로지스틱 회귀 모형을 보완하는 차원에서 연구.\n",
    "* 확률적 RFM모형:Colombo와 Weina의 확률적인 RFM모형은 과거의 고객의 응답 이력으로 고객의 미래 응답을 예측하는 행동모델이다.\n",
    "\n",
    "출처 : [RFM - 위키백과, 우리 모두의 백과사전](https://ko.wikipedia.org/wiki/RFM)"
   ]
  },
  {
   "cell_type": "markdown",
   "metadata": {},
   "source": [
    "## 라이브러리 로드"
   ]
  },
  {
   "cell_type": "code",
   "execution_count": 1,
   "metadata": {},
   "outputs": [],
   "source": [
    "import pandas as pd\n",
    "import numpy as np\n",
    "import seaborn as sns\n",
    "import datetime as dt\n",
    "import matplotlib.pyplot as plt"
   ]
  },
  {
   "cell_type": "markdown",
   "metadata": {},
   "source": [
    "## 폰트설정"
   ]
  },
  {
   "cell_type": "code",
   "execution_count": 2,
   "metadata": {},
   "outputs": [],
   "source": [
    "def get_font_family():\n",
    "    \"\"\"\n",
    "    시스템 환경에 따른 기본 폰트명을 반환하는 함수\n",
    "    \"\"\"\n",
    "    import platform\n",
    "    system_name = platform.system()\n",
    "    # colab 사용자는 system_name이 'Linux'로 확인\n",
    "\n",
    "    if system_name == \"Darwin\" :\n",
    "        font_family = \"AppleGothic\"\n",
    "    elif system_name == \"Windows\":\n",
    "        font_family = \"Malgun Gothic\"\n",
    "    else:\n",
    "        # Linux\n",
    "        # colab에서는 runtime을 <꼭> 재시작 해야합니다.\n",
    "        # 런타임을 재시작 하지 않고 폰트 설치를 하면 기본 설정 폰트가 로드되어 한글이 깨집니다.\n",
    "        !apt-get update -qq\n",
    "        !apt-get install fonts-nanum -qq  > /dev/null\n",
    "\n",
    "        import matplotlib.font_manager as fm\n",
    "\n",
    "        fontpath = '/usr/share/fonts/truetype/nanum/NanumBarunGothic.ttf'\n",
    "        font = fm.FontProperties(fname=fontpath, size=9)\n",
    "        fm._rebuild()\n",
    "        font_family = \"NanumBarunGothic\"\n",
    "    return font_family\n",
    "\n",
    "plt.rc(\"font\", family=get_font_family())\n",
    "plt.rc(\"axes\", unicode_minus=False)"
   ]
  },
  {
   "cell_type": "markdown",
   "metadata": {},
   "source": [
    "## 데이터 로드"
   ]
  },
  {
   "cell_type": "code",
   "execution_count": 3,
   "metadata": {},
   "outputs": [
    {
     "data": {
      "text/plain": [
       "(541909, 8)"
      ]
     },
     "execution_count": 3,
     "metadata": {},
     "output_type": "execute_result"
    }
   ],
   "source": [
    "# raw = pd.read_excel(\"http://archive.ics.uci.edu/ml/machine-learning-databases/00352/Online%20Retail.xlsx\")\n",
    "# raw = pd.read_excel(\"data/Online Retail.xlsx\", engine=\"openpyxl\")\n",
    "raw = pd.read_csv(\"data/online_retail.csv\")\n",
    "raw.shape"
   ]
  },
  {
   "cell_type": "code",
   "execution_count": 4,
   "metadata": {},
   "outputs": [
    {
     "data": {
      "text/html": [
       "<div>\n",
       "<style scoped>\n",
       "    .dataframe tbody tr th:only-of-type {\n",
       "        vertical-align: middle;\n",
       "    }\n",
       "\n",
       "    .dataframe tbody tr th {\n",
       "        vertical-align: top;\n",
       "    }\n",
       "\n",
       "    .dataframe thead th {\n",
       "        text-align: right;\n",
       "    }\n",
       "</style>\n",
       "<table border=\"1\" class=\"dataframe\">\n",
       "  <thead>\n",
       "    <tr style=\"text-align: right;\">\n",
       "      <th></th>\n",
       "      <th>InvoiceNo</th>\n",
       "      <th>StockCode</th>\n",
       "      <th>Description</th>\n",
       "      <th>Quantity</th>\n",
       "      <th>InvoiceDate</th>\n",
       "      <th>UnitPrice</th>\n",
       "      <th>CustomerID</th>\n",
       "      <th>Country</th>\n",
       "    </tr>\n",
       "  </thead>\n",
       "  <tbody>\n",
       "    <tr>\n",
       "      <th>0</th>\n",
       "      <td>536365</td>\n",
       "      <td>85123A</td>\n",
       "      <td>WHITE HANGING HEART T-LIGHT HOLDER</td>\n",
       "      <td>6</td>\n",
       "      <td>2010-12-01 08:26:00</td>\n",
       "      <td>2.55</td>\n",
       "      <td>17850.0</td>\n",
       "      <td>United Kingdom</td>\n",
       "    </tr>\n",
       "    <tr>\n",
       "      <th>1</th>\n",
       "      <td>536365</td>\n",
       "      <td>71053</td>\n",
       "      <td>WHITE METAL LANTERN</td>\n",
       "      <td>6</td>\n",
       "      <td>2010-12-01 08:26:00</td>\n",
       "      <td>3.39</td>\n",
       "      <td>17850.0</td>\n",
       "      <td>United Kingdom</td>\n",
       "    </tr>\n",
       "    <tr>\n",
       "      <th>2</th>\n",
       "      <td>536365</td>\n",
       "      <td>84406B</td>\n",
       "      <td>CREAM CUPID HEARTS COAT HANGER</td>\n",
       "      <td>8</td>\n",
       "      <td>2010-12-01 08:26:00</td>\n",
       "      <td>2.75</td>\n",
       "      <td>17850.0</td>\n",
       "      <td>United Kingdom</td>\n",
       "    </tr>\n",
       "    <tr>\n",
       "      <th>3</th>\n",
       "      <td>536365</td>\n",
       "      <td>84029G</td>\n",
       "      <td>KNITTED UNION FLAG HOT WATER BOTTLE</td>\n",
       "      <td>6</td>\n",
       "      <td>2010-12-01 08:26:00</td>\n",
       "      <td>3.39</td>\n",
       "      <td>17850.0</td>\n",
       "      <td>United Kingdom</td>\n",
       "    </tr>\n",
       "    <tr>\n",
       "      <th>4</th>\n",
       "      <td>536365</td>\n",
       "      <td>84029E</td>\n",
       "      <td>RED WOOLLY HOTTIE WHITE HEART.</td>\n",
       "      <td>6</td>\n",
       "      <td>2010-12-01 08:26:00</td>\n",
       "      <td>3.39</td>\n",
       "      <td>17850.0</td>\n",
       "      <td>United Kingdom</td>\n",
       "    </tr>\n",
       "  </tbody>\n",
       "</table>\n",
       "</div>"
      ],
      "text/plain": [
       "  InvoiceNo StockCode                          Description  Quantity  \\\n",
       "0    536365    85123A   WHITE HANGING HEART T-LIGHT HOLDER         6   \n",
       "1    536365     71053                  WHITE METAL LANTERN         6   \n",
       "2    536365    84406B       CREAM CUPID HEARTS COAT HANGER         8   \n",
       "3    536365    84029G  KNITTED UNION FLAG HOT WATER BOTTLE         6   \n",
       "4    536365    84029E       RED WOOLLY HOTTIE WHITE HEART.         6   \n",
       "\n",
       "           InvoiceDate  UnitPrice  CustomerID         Country  \n",
       "0  2010-12-01 08:26:00       2.55     17850.0  United Kingdom  \n",
       "1  2010-12-01 08:26:00       3.39     17850.0  United Kingdom  \n",
       "2  2010-12-01 08:26:00       2.75     17850.0  United Kingdom  \n",
       "3  2010-12-01 08:26:00       3.39     17850.0  United Kingdom  \n",
       "4  2010-12-01 08:26:00       3.39     17850.0  United Kingdom  "
      ]
     },
     "execution_count": 4,
     "metadata": {},
     "output_type": "execute_result"
    }
   ],
   "source": [
    "raw.head()"
   ]
  },
  {
   "cell_type": "markdown",
   "metadata": {},
   "source": [
    "## 유효 데이터만 추출"
   ]
  },
  {
   "cell_type": "code",
   "execution_count": 5,
   "metadata": {},
   "outputs": [
    {
     "data": {
      "text/plain": [
       "(397924, 8)"
      ]
     },
     "execution_count": 5,
     "metadata": {},
     "output_type": "execute_result"
    }
   ],
   "source": [
    "# \"CustomerID\" 가 있고 \"Quantity\" 가 0보다 큰 데이터를 가져옵니다.\n",
    "# 구매하고 취소한 건 중 취소한 건만 제외하고 구매 건은 남깁니다.\n",
    "df = raw[raw[\"CustomerID\"].notnull() & (raw[\"Quantity\"] > 0)].copy()\n",
    "df.shape"
   ]
  },
  {
   "cell_type": "markdown",
   "metadata": {},
   "source": [
    "## 구매 금액 계산"
   ]
  },
  {
   "cell_type": "code",
   "execution_count": 6,
   "metadata": {},
   "outputs": [],
   "source": [
    "df[\"TotalPrice\"] = df[\"UnitPrice\"] * df[\"Quantity\"]"
   ]
  },
  {
   "cell_type": "markdown",
   "metadata": {},
   "source": [
    "## RFM 계산\n",
    "### 전체 주문에서 최근 주문일 구하기"
   ]
  },
  {
   "cell_type": "code",
   "execution_count": 7,
   "metadata": {},
   "outputs": [],
   "source": [
    "df['InvoiceDate'] = pd.to_datetime(df['InvoiceDate'])"
   ]
  },
  {
   "cell_type": "code",
   "execution_count": 8,
   "metadata": {},
   "outputs": [
    {
     "data": {
      "text/plain": [
       "Timestamp('2011-12-10 12:50:00')"
      ]
     },
     "execution_count": 8,
     "metadata": {},
     "output_type": "execute_result"
    }
   ],
   "source": [
    "# Recency 계산을 위해 해당 주문에서 가장 최근 구매가 일어난 시간을 가져옴\n",
    "last_timestamp = df['InvoiceDate'].max() + dt.timedelta(days = 1)\n",
    "last_timestamp"
   ]
  },
  {
   "cell_type": "markdown",
   "metadata": {},
   "source": [
    "### 고객별 Recency, Frequency, Monetary 값 구하기"
   ]
  },
  {
   "cell_type": "code",
   "execution_count": 9,
   "metadata": {},
   "outputs": [],
   "source": [
    "# Recency : 최근 날짜 기준으로 마지막으로 구매한 날짜와 얼마나 차이가 나는지\n",
    "# Frequency : 구매 빈도수\n",
    "# Monetary : 총 구매 금액\n",
    "rfm = df.groupby(['CustomerID']).agg({'InvoiceDate': lambda x : (last_timestamp - x.max()).days,\n",
    "                                      'InvoiceNo':'count',\n",
    "                                      'TotalPrice': 'sum'})"
   ]
  },
  {
   "cell_type": "code",
   "execution_count": 10,
   "metadata": {},
   "outputs": [
    {
     "data": {
      "text/html": [
       "<div>\n",
       "<style scoped>\n",
       "    .dataframe tbody tr th:only-of-type {\n",
       "        vertical-align: middle;\n",
       "    }\n",
       "\n",
       "    .dataframe tbody tr th {\n",
       "        vertical-align: top;\n",
       "    }\n",
       "\n",
       "    .dataframe thead th {\n",
       "        text-align: right;\n",
       "    }\n",
       "</style>\n",
       "<table border=\"1\" class=\"dataframe\">\n",
       "  <thead>\n",
       "    <tr style=\"text-align: right;\">\n",
       "      <th></th>\n",
       "      <th>Recency</th>\n",
       "      <th>Frequency</th>\n",
       "      <th>MonetaryValue</th>\n",
       "    </tr>\n",
       "    <tr>\n",
       "      <th>CustomerID</th>\n",
       "      <th></th>\n",
       "      <th></th>\n",
       "      <th></th>\n",
       "    </tr>\n",
       "  </thead>\n",
       "  <tbody>\n",
       "    <tr>\n",
       "      <th>12346.0</th>\n",
       "      <td>326</td>\n",
       "      <td>1</td>\n",
       "      <td>77183.60</td>\n",
       "    </tr>\n",
       "    <tr>\n",
       "      <th>12347.0</th>\n",
       "      <td>2</td>\n",
       "      <td>182</td>\n",
       "      <td>4310.00</td>\n",
       "    </tr>\n",
       "    <tr>\n",
       "      <th>12348.0</th>\n",
       "      <td>75</td>\n",
       "      <td>31</td>\n",
       "      <td>1797.24</td>\n",
       "    </tr>\n",
       "    <tr>\n",
       "      <th>12349.0</th>\n",
       "      <td>19</td>\n",
       "      <td>73</td>\n",
       "      <td>1757.55</td>\n",
       "    </tr>\n",
       "    <tr>\n",
       "      <th>12350.0</th>\n",
       "      <td>310</td>\n",
       "      <td>17</td>\n",
       "      <td>334.40</td>\n",
       "    </tr>\n",
       "    <tr>\n",
       "      <th>...</th>\n",
       "      <td>...</td>\n",
       "      <td>...</td>\n",
       "      <td>...</td>\n",
       "    </tr>\n",
       "    <tr>\n",
       "      <th>18280.0</th>\n",
       "      <td>278</td>\n",
       "      <td>10</td>\n",
       "      <td>180.60</td>\n",
       "    </tr>\n",
       "    <tr>\n",
       "      <th>18281.0</th>\n",
       "      <td>181</td>\n",
       "      <td>7</td>\n",
       "      <td>80.82</td>\n",
       "    </tr>\n",
       "    <tr>\n",
       "      <th>18282.0</th>\n",
       "      <td>8</td>\n",
       "      <td>12</td>\n",
       "      <td>178.05</td>\n",
       "    </tr>\n",
       "    <tr>\n",
       "      <th>18283.0</th>\n",
       "      <td>4</td>\n",
       "      <td>756</td>\n",
       "      <td>2094.88</td>\n",
       "    </tr>\n",
       "    <tr>\n",
       "      <th>18287.0</th>\n",
       "      <td>43</td>\n",
       "      <td>70</td>\n",
       "      <td>1837.28</td>\n",
       "    </tr>\n",
       "  </tbody>\n",
       "</table>\n",
       "<p>4339 rows × 3 columns</p>\n",
       "</div>"
      ],
      "text/plain": [
       "            Recency  Frequency  MonetaryValue\n",
       "CustomerID                                   \n",
       "12346.0         326          1       77183.60\n",
       "12347.0           2        182        4310.00\n",
       "12348.0          75         31        1797.24\n",
       "12349.0          19         73        1757.55\n",
       "12350.0         310         17         334.40\n",
       "...             ...        ...            ...\n",
       "18280.0         278         10         180.60\n",
       "18281.0         181          7          80.82\n",
       "18282.0           8         12         178.05\n",
       "18283.0           4        756        2094.88\n",
       "18287.0          43         70        1837.28\n",
       "\n",
       "[4339 rows x 3 columns]"
      ]
     },
     "execution_count": 10,
     "metadata": {},
     "output_type": "execute_result"
    }
   ],
   "source": [
    "# InvoiceDate 는 Recency\n",
    "# InvoiceNo 는 Frequency\n",
    "# TotalPrice 는 MonetaryValue\n",
    "rfm.rename(columns={'InvoiceDate':'Recency', \n",
    "                    'InvoiceNo':'Frequency', \n",
    "                    'TotalPrice':'MonetaryValue'},\n",
    "           inplace= True)\n",
    "rfm"
   ]
  },
  {
   "cell_type": "code",
   "execution_count": 11,
   "metadata": {},
   "outputs": [
    {
     "data": {
      "text/html": [
       "<div>\n",
       "<style scoped>\n",
       "    .dataframe tbody tr th:only-of-type {\n",
       "        vertical-align: middle;\n",
       "    }\n",
       "\n",
       "    .dataframe tbody tr th {\n",
       "        vertical-align: top;\n",
       "    }\n",
       "\n",
       "    .dataframe thead th {\n",
       "        text-align: right;\n",
       "    }\n",
       "</style>\n",
       "<table border=\"1\" class=\"dataframe\">\n",
       "  <thead>\n",
       "    <tr style=\"text-align: right;\">\n",
       "      <th></th>\n",
       "      <th>Recency</th>\n",
       "      <th>Frequency</th>\n",
       "      <th>MonetaryValue</th>\n",
       "    </tr>\n",
       "  </thead>\n",
       "  <tbody>\n",
       "    <tr>\n",
       "      <th>count</th>\n",
       "      <td>4339.000000</td>\n",
       "      <td>4339.000000</td>\n",
       "      <td>4339.000000</td>\n",
       "    </tr>\n",
       "    <tr>\n",
       "      <th>mean</th>\n",
       "      <td>92.518322</td>\n",
       "      <td>91.708689</td>\n",
       "      <td>2053.793018</td>\n",
       "    </tr>\n",
       "    <tr>\n",
       "      <th>std</th>\n",
       "      <td>100.009747</td>\n",
       "      <td>228.792852</td>\n",
       "      <td>8988.248381</td>\n",
       "    </tr>\n",
       "    <tr>\n",
       "      <th>min</th>\n",
       "      <td>1.000000</td>\n",
       "      <td>1.000000</td>\n",
       "      <td>0.000000</td>\n",
       "    </tr>\n",
       "    <tr>\n",
       "      <th>25%</th>\n",
       "      <td>18.000000</td>\n",
       "      <td>17.000000</td>\n",
       "      <td>307.245000</td>\n",
       "    </tr>\n",
       "    <tr>\n",
       "      <th>50%</th>\n",
       "      <td>51.000000</td>\n",
       "      <td>41.000000</td>\n",
       "      <td>674.450000</td>\n",
       "    </tr>\n",
       "    <tr>\n",
       "      <th>75%</th>\n",
       "      <td>142.000000</td>\n",
       "      <td>100.000000</td>\n",
       "      <td>1661.640000</td>\n",
       "    </tr>\n",
       "    <tr>\n",
       "      <th>max</th>\n",
       "      <td>374.000000</td>\n",
       "      <td>7847.000000</td>\n",
       "      <td>280206.020000</td>\n",
       "    </tr>\n",
       "  </tbody>\n",
       "</table>\n",
       "</div>"
      ],
      "text/plain": [
       "           Recency    Frequency  MonetaryValue\n",
       "count  4339.000000  4339.000000    4339.000000\n",
       "mean     92.518322    91.708689    2053.793018\n",
       "std     100.009747   228.792852    8988.248381\n",
       "min       1.000000     1.000000       0.000000\n",
       "25%      18.000000    17.000000     307.245000\n",
       "50%      51.000000    41.000000     674.450000\n",
       "75%     142.000000   100.000000    1661.640000\n",
       "max     374.000000  7847.000000  280206.020000"
      ]
     },
     "execution_count": 11,
     "metadata": {},
     "output_type": "execute_result"
    }
   ],
   "source": [
    "rfm.describe()"
   ]
  },
  {
   "cell_type": "markdown",
   "metadata": {},
   "source": [
    "## RFM 모형\n",
    "\n",
    "* Scoring 기법: RFM의 요인을 각각 5등급으로 등간격으로 분류하는 방법이다.\n",
    "* 현재 개발된 RFM 모형은 크게 4가지로 분류 할 수 있다. 이 문서의 내용들은 정설이 아니며 신뢰하기 어려움을 전제로 참고해야한다.\n",
    "    * 모델1. RFM 각 요소의 20% rule의 적용\n",
    "    * 모델2. 비율 척도에 의한 양적인 정도의 차이에 따른 등간격의 5등급 분류\n",
    "    * 모델3. 상하 20%를 제외한 등간격 척도에 의한 그룹 분류\n",
    "    * 모델4. 군집 분석에 의한 각 요소 별 5개의 그룹 분류\n",
    "    \n",
    "출처 : [RFM - 위키백과, 우리 모두의 백과사전](https://ko.wikipedia.org/wiki/RFM)"
   ]
  },
  {
   "cell_type": "markdown",
   "metadata": {},
   "source": [
    "### qcut을 통한 RFM 변수 만들기"
   ]
  },
  {
   "cell_type": "code",
   "execution_count": 12,
   "metadata": {},
   "outputs": [],
   "source": [
    "# Recency 는 최근일수록 높은 스코어를 갖도록 합니다.\n",
    "# Frequency, MonetaryValue 는 값이 클 수록 높은 스코어를 갖도록 합니다.\n",
    "r_labels = range(5, 0, -1)\n",
    "f_labels = range(1, 6)\n",
    "m_labels = range(1, 6)\n",
    "cut_size= 5"
   ]
  },
  {
   "cell_type": "code",
   "execution_count": 13,
   "metadata": {
    "scrolled": true
   },
   "outputs": [],
   "source": [
    "r_cut = pd.qcut(rfm['Recency'], q=cut_size, labels = r_labels)\n",
    "f_cut = pd.qcut(rfm['Frequency'], q=cut_size, labels = f_labels)\n",
    "m_cut = pd.qcut(rfm['MonetaryValue'], q=cut_size, labels = m_labels)\n",
    "# assign 을 사용하면 여러 변수를 한 번에 만들 수 있습니다.\n",
    "rfm = rfm.assign(R=r_cut, F=f_cut, M=m_cut)"
   ]
  },
  {
   "cell_type": "code",
   "execution_count": 14,
   "metadata": {},
   "outputs": [
    {
     "data": {
      "text/html": [
       "<div>\n",
       "<style scoped>\n",
       "    .dataframe tbody tr th:only-of-type {\n",
       "        vertical-align: middle;\n",
       "    }\n",
       "\n",
       "    .dataframe tbody tr th {\n",
       "        vertical-align: top;\n",
       "    }\n",
       "\n",
       "    .dataframe thead th {\n",
       "        text-align: right;\n",
       "    }\n",
       "</style>\n",
       "<table border=\"1\" class=\"dataframe\">\n",
       "  <thead>\n",
       "    <tr style=\"text-align: right;\">\n",
       "      <th></th>\n",
       "      <th>Recency</th>\n",
       "      <th>Frequency</th>\n",
       "      <th>MonetaryValue</th>\n",
       "      <th>R</th>\n",
       "      <th>F</th>\n",
       "      <th>M</th>\n",
       "    </tr>\n",
       "    <tr>\n",
       "      <th>CustomerID</th>\n",
       "      <th></th>\n",
       "      <th></th>\n",
       "      <th></th>\n",
       "      <th></th>\n",
       "      <th></th>\n",
       "      <th></th>\n",
       "    </tr>\n",
       "  </thead>\n",
       "  <tbody>\n",
       "    <tr>\n",
       "      <th>12346.0</th>\n",
       "      <td>326</td>\n",
       "      <td>1</td>\n",
       "      <td>77183.60</td>\n",
       "      <td>1</td>\n",
       "      <td>1</td>\n",
       "      <td>5</td>\n",
       "    </tr>\n",
       "    <tr>\n",
       "      <th>12347.0</th>\n",
       "      <td>2</td>\n",
       "      <td>182</td>\n",
       "      <td>4310.00</td>\n",
       "      <td>5</td>\n",
       "      <td>5</td>\n",
       "      <td>5</td>\n",
       "    </tr>\n",
       "    <tr>\n",
       "      <th>12348.0</th>\n",
       "      <td>75</td>\n",
       "      <td>31</td>\n",
       "      <td>1797.24</td>\n",
       "      <td>2</td>\n",
       "      <td>3</td>\n",
       "      <td>4</td>\n",
       "    </tr>\n",
       "    <tr>\n",
       "      <th>12349.0</th>\n",
       "      <td>19</td>\n",
       "      <td>73</td>\n",
       "      <td>1757.55</td>\n",
       "      <td>4</td>\n",
       "      <td>4</td>\n",
       "      <td>4</td>\n",
       "    </tr>\n",
       "    <tr>\n",
       "      <th>12350.0</th>\n",
       "      <td>310</td>\n",
       "      <td>17</td>\n",
       "      <td>334.40</td>\n",
       "      <td>1</td>\n",
       "      <td>2</td>\n",
       "      <td>2</td>\n",
       "    </tr>\n",
       "    <tr>\n",
       "      <th>...</th>\n",
       "      <td>...</td>\n",
       "      <td>...</td>\n",
       "      <td>...</td>\n",
       "      <td>...</td>\n",
       "      <td>...</td>\n",
       "      <td>...</td>\n",
       "    </tr>\n",
       "    <tr>\n",
       "      <th>18280.0</th>\n",
       "      <td>278</td>\n",
       "      <td>10</td>\n",
       "      <td>180.60</td>\n",
       "      <td>1</td>\n",
       "      <td>1</td>\n",
       "      <td>1</td>\n",
       "    </tr>\n",
       "    <tr>\n",
       "      <th>18281.0</th>\n",
       "      <td>181</td>\n",
       "      <td>7</td>\n",
       "      <td>80.82</td>\n",
       "      <td>1</td>\n",
       "      <td>1</td>\n",
       "      <td>1</td>\n",
       "    </tr>\n",
       "    <tr>\n",
       "      <th>18282.0</th>\n",
       "      <td>8</td>\n",
       "      <td>12</td>\n",
       "      <td>178.05</td>\n",
       "      <td>5</td>\n",
       "      <td>1</td>\n",
       "      <td>1</td>\n",
       "    </tr>\n",
       "    <tr>\n",
       "      <th>18283.0</th>\n",
       "      <td>4</td>\n",
       "      <td>756</td>\n",
       "      <td>2094.88</td>\n",
       "      <td>5</td>\n",
       "      <td>5</td>\n",
       "      <td>5</td>\n",
       "    </tr>\n",
       "    <tr>\n",
       "      <th>18287.0</th>\n",
       "      <td>43</td>\n",
       "      <td>70</td>\n",
       "      <td>1837.28</td>\n",
       "      <td>3</td>\n",
       "      <td>4</td>\n",
       "      <td>4</td>\n",
       "    </tr>\n",
       "  </tbody>\n",
       "</table>\n",
       "<p>4339 rows × 6 columns</p>\n",
       "</div>"
      ],
      "text/plain": [
       "            Recency  Frequency  MonetaryValue  R  F  M\n",
       "CustomerID                                            \n",
       "12346.0         326          1       77183.60  1  1  5\n",
       "12347.0           2        182        4310.00  5  5  5\n",
       "12348.0          75         31        1797.24  2  3  4\n",
       "12349.0          19         73        1757.55  4  4  4\n",
       "12350.0         310         17         334.40  1  2  2\n",
       "...             ...        ...            ... .. .. ..\n",
       "18280.0         278         10         180.60  1  1  1\n",
       "18281.0         181          7          80.82  1  1  1\n",
       "18282.0           8         12         178.05  5  1  1\n",
       "18283.0           4        756        2094.88  5  5  5\n",
       "18287.0          43         70        1837.28  3  4  4\n",
       "\n",
       "[4339 rows x 6 columns]"
      ]
     },
     "execution_count": 14,
     "metadata": {},
     "output_type": "execute_result"
    }
   ],
   "source": [
    "rfm"
   ]
  },
  {
   "cell_type": "markdown",
   "metadata": {},
   "source": [
    "### RFM Segment"
   ]
  },
  {
   "cell_type": "code",
   "execution_count": 15,
   "metadata": {
    "scrolled": true
   },
   "outputs": [],
   "source": [
    "# RFM_segment 값을 구합니다. \n",
    "# R, F, M 값을 문자 그대로 붙여서 세그먼트를 구분합니다.\n",
    "rfm[\"RFM_segment\"] = rfm[\"R\"].astype(str) + rfm[\"F\"].astype(str) + rfm[\"M\"].astype(str)"
   ]
  },
  {
   "cell_type": "markdown",
   "metadata": {},
   "source": [
    "### RFM Score"
   ]
  },
  {
   "cell_type": "code",
   "execution_count": 16,
   "metadata": {},
   "outputs": [
    {
     "data": {
      "text/html": [
       "<div>\n",
       "<style scoped>\n",
       "    .dataframe tbody tr th:only-of-type {\n",
       "        vertical-align: middle;\n",
       "    }\n",
       "\n",
       "    .dataframe tbody tr th {\n",
       "        vertical-align: top;\n",
       "    }\n",
       "\n",
       "    .dataframe thead th {\n",
       "        text-align: right;\n",
       "    }\n",
       "</style>\n",
       "<table border=\"1\" class=\"dataframe\">\n",
       "  <thead>\n",
       "    <tr style=\"text-align: right;\">\n",
       "      <th></th>\n",
       "      <th>Recency</th>\n",
       "      <th>Frequency</th>\n",
       "      <th>MonetaryValue</th>\n",
       "      <th>R</th>\n",
       "      <th>F</th>\n",
       "      <th>M</th>\n",
       "      <th>RFM_segment</th>\n",
       "      <th>RFM_score</th>\n",
       "    </tr>\n",
       "    <tr>\n",
       "      <th>CustomerID</th>\n",
       "      <th></th>\n",
       "      <th></th>\n",
       "      <th></th>\n",
       "      <th></th>\n",
       "      <th></th>\n",
       "      <th></th>\n",
       "      <th></th>\n",
       "      <th></th>\n",
       "    </tr>\n",
       "  </thead>\n",
       "  <tbody>\n",
       "    <tr>\n",
       "      <th>12346.0</th>\n",
       "      <td>326</td>\n",
       "      <td>1</td>\n",
       "      <td>77183.60</td>\n",
       "      <td>1</td>\n",
       "      <td>1</td>\n",
       "      <td>5</td>\n",
       "      <td>115</td>\n",
       "      <td>7</td>\n",
       "    </tr>\n",
       "    <tr>\n",
       "      <th>12347.0</th>\n",
       "      <td>2</td>\n",
       "      <td>182</td>\n",
       "      <td>4310.00</td>\n",
       "      <td>5</td>\n",
       "      <td>5</td>\n",
       "      <td>5</td>\n",
       "      <td>555</td>\n",
       "      <td>15</td>\n",
       "    </tr>\n",
       "    <tr>\n",
       "      <th>12348.0</th>\n",
       "      <td>75</td>\n",
       "      <td>31</td>\n",
       "      <td>1797.24</td>\n",
       "      <td>2</td>\n",
       "      <td>3</td>\n",
       "      <td>4</td>\n",
       "      <td>234</td>\n",
       "      <td>9</td>\n",
       "    </tr>\n",
       "    <tr>\n",
       "      <th>12349.0</th>\n",
       "      <td>19</td>\n",
       "      <td>73</td>\n",
       "      <td>1757.55</td>\n",
       "      <td>4</td>\n",
       "      <td>4</td>\n",
       "      <td>4</td>\n",
       "      <td>444</td>\n",
       "      <td>12</td>\n",
       "    </tr>\n",
       "    <tr>\n",
       "      <th>12350.0</th>\n",
       "      <td>310</td>\n",
       "      <td>17</td>\n",
       "      <td>334.40</td>\n",
       "      <td>1</td>\n",
       "      <td>2</td>\n",
       "      <td>2</td>\n",
       "      <td>122</td>\n",
       "      <td>5</td>\n",
       "    </tr>\n",
       "    <tr>\n",
       "      <th>...</th>\n",
       "      <td>...</td>\n",
       "      <td>...</td>\n",
       "      <td>...</td>\n",
       "      <td>...</td>\n",
       "      <td>...</td>\n",
       "      <td>...</td>\n",
       "      <td>...</td>\n",
       "      <td>...</td>\n",
       "    </tr>\n",
       "    <tr>\n",
       "      <th>18280.0</th>\n",
       "      <td>278</td>\n",
       "      <td>10</td>\n",
       "      <td>180.60</td>\n",
       "      <td>1</td>\n",
       "      <td>1</td>\n",
       "      <td>1</td>\n",
       "      <td>111</td>\n",
       "      <td>3</td>\n",
       "    </tr>\n",
       "    <tr>\n",
       "      <th>18281.0</th>\n",
       "      <td>181</td>\n",
       "      <td>7</td>\n",
       "      <td>80.82</td>\n",
       "      <td>1</td>\n",
       "      <td>1</td>\n",
       "      <td>1</td>\n",
       "      <td>111</td>\n",
       "      <td>3</td>\n",
       "    </tr>\n",
       "    <tr>\n",
       "      <th>18282.0</th>\n",
       "      <td>8</td>\n",
       "      <td>12</td>\n",
       "      <td>178.05</td>\n",
       "      <td>5</td>\n",
       "      <td>1</td>\n",
       "      <td>1</td>\n",
       "      <td>511</td>\n",
       "      <td>7</td>\n",
       "    </tr>\n",
       "    <tr>\n",
       "      <th>18283.0</th>\n",
       "      <td>4</td>\n",
       "      <td>756</td>\n",
       "      <td>2094.88</td>\n",
       "      <td>5</td>\n",
       "      <td>5</td>\n",
       "      <td>5</td>\n",
       "      <td>555</td>\n",
       "      <td>15</td>\n",
       "    </tr>\n",
       "    <tr>\n",
       "      <th>18287.0</th>\n",
       "      <td>43</td>\n",
       "      <td>70</td>\n",
       "      <td>1837.28</td>\n",
       "      <td>3</td>\n",
       "      <td>4</td>\n",
       "      <td>4</td>\n",
       "      <td>344</td>\n",
       "      <td>11</td>\n",
       "    </tr>\n",
       "  </tbody>\n",
       "</table>\n",
       "<p>4339 rows × 8 columns</p>\n",
       "</div>"
      ],
      "text/plain": [
       "            Recency  Frequency  MonetaryValue  R  F  M RFM_segment  RFM_score\n",
       "CustomerID                                                                   \n",
       "12346.0         326          1       77183.60  1  1  5         115          7\n",
       "12347.0           2        182        4310.00  5  5  5         555         15\n",
       "12348.0          75         31        1797.24  2  3  4         234          9\n",
       "12349.0          19         73        1757.55  4  4  4         444         12\n",
       "12350.0         310         17         334.40  1  2  2         122          5\n",
       "...             ...        ...            ... .. .. ..         ...        ...\n",
       "18280.0         278         10         180.60  1  1  1         111          3\n",
       "18281.0         181          7          80.82  1  1  1         111          3\n",
       "18282.0           8         12         178.05  5  1  1         511          7\n",
       "18283.0           4        756        2094.88  5  5  5         555         15\n",
       "18287.0          43         70        1837.28  3  4  4         344         11\n",
       "\n",
       "[4339 rows x 8 columns]"
      ]
     },
     "execution_count": 16,
     "metadata": {},
     "output_type": "execute_result"
    }
   ],
   "source": [
    "# R, F, M 값의 합계를 구해서 세그먼트 점수를 구합니다.\n",
    "rfm[\"RFM_score\"] = rfm[[\"R\", \"F\", \"M\"]].astype(int).sum(axis=1)\n",
    "rfm"
   ]
  },
  {
   "cell_type": "code",
   "execution_count": 42,
   "metadata": {},
   "outputs": [
    {
     "data": {
      "text/html": [
       "<style type=\"text/css\">\n",
       "#T_be8f6_row0_col0, #T_be8f6_row12_col1, #T_be8f6_row12_col2, #T_be8f6_row12_col3 {\n",
       "  background-color: #023858;\n",
       "  color: #f1f1f1;\n",
       "}\n",
       "#T_be8f6_row0_col1, #T_be8f6_row0_col2, #T_be8f6_row0_col3, #T_be8f6_row12_col0 {\n",
       "  background-color: #fff7fb;\n",
       "  color: #000000;\n",
       "}\n",
       "#T_be8f6_row1_col0 {\n",
       "  background-color: #1077b4;\n",
       "  color: #f1f1f1;\n",
       "}\n",
       "#T_be8f6_row1_col1 {\n",
       "  background-color: #fef6fa;\n",
       "  color: #000000;\n",
       "}\n",
       "#T_be8f6_row1_col2, #T_be8f6_row1_col3 {\n",
       "  background-color: #fef6fb;\n",
       "  color: #000000;\n",
       "}\n",
       "#T_be8f6_row2_col0 {\n",
       "  background-color: #2a88bc;\n",
       "  color: #f1f1f1;\n",
       "}\n",
       "#T_be8f6_row2_col1, #T_be8f6_row2_col3, #T_be8f6_row3_col2 {\n",
       "  background-color: #fcf4fa;\n",
       "  color: #000000;\n",
       "}\n",
       "#T_be8f6_row2_col2 {\n",
       "  background-color: #fdf5fa;\n",
       "  color: #000000;\n",
       "}\n",
       "#T_be8f6_row3_col0 {\n",
       "  background-color: #8fb4d6;\n",
       "  color: #000000;\n",
       "}\n",
       "#T_be8f6_row3_col1, #T_be8f6_row3_col3 {\n",
       "  background-color: #fbf3f9;\n",
       "  color: #000000;\n",
       "}\n",
       "#T_be8f6_row4_col0 {\n",
       "  background-color: #a9bfdc;\n",
       "  color: #000000;\n",
       "}\n",
       "#T_be8f6_row4_col1 {\n",
       "  background-color: #f8f1f8;\n",
       "  color: #000000;\n",
       "}\n",
       "#T_be8f6_row4_col2, #T_be8f6_row6_col2, #T_be8f6_row10_col0 {\n",
       "  background-color: #f5eff6;\n",
       "  color: #000000;\n",
       "}\n",
       "#T_be8f6_row4_col3, #T_be8f6_row7_col2 {\n",
       "  background-color: #f2ecf5;\n",
       "  color: #000000;\n",
       "}\n",
       "#T_be8f6_row5_col0 {\n",
       "  background-color: #bfc9e1;\n",
       "  color: #000000;\n",
       "}\n",
       "#T_be8f6_row5_col1 {\n",
       "  background-color: #f5eef6;\n",
       "  color: #000000;\n",
       "}\n",
       "#T_be8f6_row5_col2 {\n",
       "  background-color: #f9f2f8;\n",
       "  color: #000000;\n",
       "}\n",
       "#T_be8f6_row5_col3 {\n",
       "  background-color: #f7f0f7;\n",
       "  color: #000000;\n",
       "}\n",
       "#T_be8f6_row6_col0 {\n",
       "  background-color: #d3d4e7;\n",
       "  color: #000000;\n",
       "}\n",
       "#T_be8f6_row6_col1 {\n",
       "  background-color: #f1ebf5;\n",
       "  color: #000000;\n",
       "}\n",
       "#T_be8f6_row6_col3 {\n",
       "  background-color: #f4edf6;\n",
       "  color: #000000;\n",
       "}\n",
       "#T_be8f6_row7_col0 {\n",
       "  background-color: #dddbec;\n",
       "  color: #000000;\n",
       "}\n",
       "#T_be8f6_row7_col1 {\n",
       "  background-color: #ece7f2;\n",
       "  color: #000000;\n",
       "}\n",
       "#T_be8f6_row7_col3, #T_be8f6_row9_col0 {\n",
       "  background-color: #f0eaf4;\n",
       "  color: #000000;\n",
       "}\n",
       "#T_be8f6_row8_col0 {\n",
       "  background-color: #e7e3f0;\n",
       "  color: #000000;\n",
       "}\n",
       "#T_be8f6_row8_col1 {\n",
       "  background-color: #e2dfee;\n",
       "  color: #000000;\n",
       "}\n",
       "#T_be8f6_row8_col2 {\n",
       "  background-color: #e5e1ef;\n",
       "  color: #000000;\n",
       "}\n",
       "#T_be8f6_row8_col3 {\n",
       "  background-color: #e1dfed;\n",
       "  color: #000000;\n",
       "}\n",
       "#T_be8f6_row9_col1 {\n",
       "  background-color: #d4d4e8;\n",
       "  color: #000000;\n",
       "}\n",
       "#T_be8f6_row9_col2 {\n",
       "  background-color: #e8e4f0;\n",
       "  color: #000000;\n",
       "}\n",
       "#T_be8f6_row9_col3 {\n",
       "  background-color: #e4e1ef;\n",
       "  color: #000000;\n",
       "}\n",
       "#T_be8f6_row10_col1 {\n",
       "  background-color: #bcc7e1;\n",
       "  color: #000000;\n",
       "}\n",
       "#T_be8f6_row10_col2 {\n",
       "  background-color: #ced0e6;\n",
       "  color: #000000;\n",
       "}\n",
       "#T_be8f6_row10_col3 {\n",
       "  background-color: #cccfe5;\n",
       "  color: #000000;\n",
       "}\n",
       "#T_be8f6_row11_col0 {\n",
       "  background-color: #faf2f8;\n",
       "  color: #000000;\n",
       "}\n",
       "#T_be8f6_row11_col1 {\n",
       "  background-color: #6fa7ce;\n",
       "  color: #f1f1f1;\n",
       "}\n",
       "#T_be8f6_row11_col2 {\n",
       "  background-color: #9ab8d8;\n",
       "  color: #000000;\n",
       "}\n",
       "#T_be8f6_row11_col3 {\n",
       "  background-color: #99b8d8;\n",
       "  color: #000000;\n",
       "}\n",
       "</style>\n",
       "<table id=\"T_be8f6_\">\n",
       "  <thead>\n",
       "    <tr>\n",
       "      <th class=\"blank level0\" >&nbsp;</th>\n",
       "      <th class=\"col_heading level0 col0\" >Recency</th>\n",
       "      <th class=\"col_heading level0 col1\" >Frequency</th>\n",
       "      <th class=\"col_heading level0 col2\" colspan=\"2\">MonetaryValue</th>\n",
       "    </tr>\n",
       "    <tr>\n",
       "      <th class=\"blank level1\" >&nbsp;</th>\n",
       "      <th class=\"col_heading level1 col0\" >mean</th>\n",
       "      <th class=\"col_heading level1 col1\" >mean</th>\n",
       "      <th class=\"col_heading level1 col2\" >mean</th>\n",
       "      <th class=\"col_heading level1 col3\" >sum</th>\n",
       "    </tr>\n",
       "    <tr>\n",
       "      <th class=\"index_name level0\" >RFM_score</th>\n",
       "      <th class=\"blank col0\" >&nbsp;</th>\n",
       "      <th class=\"blank col1\" >&nbsp;</th>\n",
       "      <th class=\"blank col2\" >&nbsp;</th>\n",
       "      <th class=\"blank col3\" >&nbsp;</th>\n",
       "    </tr>\n",
       "  </thead>\n",
       "  <tbody>\n",
       "    <tr>\n",
       "      <th id=\"T_be8f6_level0_row0\" class=\"row_heading level0 row0\" >3</th>\n",
       "      <td id=\"T_be8f6_row0_col0\" class=\"data row0 col0\" >279</td>\n",
       "      <td id=\"T_be8f6_row0_col1\" class=\"data row0 col1\" >7</td>\n",
       "      <td id=\"T_be8f6_row0_col2\" class=\"data row0 col2\" >139</td>\n",
       "      <td id=\"T_be8f6_row0_col3\" class=\"data row0 col3\" >37,805</td>\n",
       "    </tr>\n",
       "    <tr>\n",
       "      <th id=\"T_be8f6_level0_row1\" class=\"row_heading level0 row1\" >4</th>\n",
       "      <td id=\"T_be8f6_row1_col0\" class=\"data row1 col0\" >202</td>\n",
       "      <td id=\"T_be8f6_row1_col1\" class=\"data row1 col1\" >11</td>\n",
       "      <td id=\"T_be8f6_row1_col2\" class=\"data row1 col2\" >202</td>\n",
       "      <td id=\"T_be8f6_row1_col3\" class=\"data row1 col3\" >51,627</td>\n",
       "    </tr>\n",
       "    <tr>\n",
       "      <th id=\"T_be8f6_level0_row2\" class=\"row_heading level0 row2\" >5</th>\n",
       "      <td id=\"T_be8f6_row2_col0\" class=\"data row2 col0\" >184</td>\n",
       "      <td id=\"T_be8f6_row2_col1\" class=\"data row2 col1\" >17</td>\n",
       "      <td id=\"T_be8f6_row2_col2\" class=\"data row2 col2\" >295</td>\n",
       "      <td id=\"T_be8f6_row2_col3\" class=\"data row2 col3\" >109,966</td>\n",
       "    </tr>\n",
       "    <tr>\n",
       "      <th id=\"T_be8f6_level0_row3\" class=\"row_heading level0 row3\" >6</th>\n",
       "      <td id=\"T_be8f6_row3_col0\" class=\"data row3 col0\" >123</td>\n",
       "      <td id=\"T_be8f6_row3_col1\" class=\"data row3 col1\" >19</td>\n",
       "      <td id=\"T_be8f6_row3_col2\" class=\"data row3 col2\" >371</td>\n",
       "      <td id=\"T_be8f6_row3_col3\" class=\"data row3 col3\" >140,097</td>\n",
       "    </tr>\n",
       "    <tr>\n",
       "      <th id=\"T_be8f6_level0_row4\" class=\"row_heading level0 row4\" >7</th>\n",
       "      <td id=\"T_be8f6_row4_col0\" class=\"data row4 col0\" >105</td>\n",
       "      <td id=\"T_be8f6_row4_col1\" class=\"data row4 col1\" >27</td>\n",
       "      <td id=\"T_be8f6_row4_col2\" class=\"data row4 col2\" >899</td>\n",
       "      <td id=\"T_be8f6_row4_col3\" class=\"data row4 col3\" >348,770</td>\n",
       "    </tr>\n",
       "    <tr>\n",
       "      <th id=\"T_be8f6_level0_row5\" class=\"row_heading level0 row5\" >8</th>\n",
       "      <td id=\"T_be8f6_row5_col0\" class=\"data row5 col0\" >88</td>\n",
       "      <td id=\"T_be8f6_row5_col1\" class=\"data row5 col1\" >37</td>\n",
       "      <td id=\"T_be8f6_row5_col2\" class=\"data row5 col2\" >629</td>\n",
       "      <td id=\"T_be8f6_row5_col3\" class=\"data row5 col3\" >231,424</td>\n",
       "    </tr>\n",
       "    <tr>\n",
       "      <th id=\"T_be8f6_level0_row6\" class=\"row_heading level0 row6\" >9</th>\n",
       "      <td id=\"T_be8f6_row6_col0\" class=\"data row6 col0\" >70</td>\n",
       "      <td id=\"T_be8f6_row6_col1\" class=\"data row6 col1\" >47</td>\n",
       "      <td id=\"T_be8f6_row6_col2\" class=\"data row6 col2\" >874</td>\n",
       "      <td id=\"T_be8f6_row6_col3\" class=\"data row6 col3\" >310,190</td>\n",
       "    </tr>\n",
       "    <tr>\n",
       "      <th id=\"T_be8f6_level0_row7\" class=\"row_heading level0 row7\" >10</th>\n",
       "      <td id=\"T_be8f6_row7_col0\" class=\"data row7 col0\" >58</td>\n",
       "      <td id=\"T_be8f6_row7_col1\" class=\"data row7 col1\" >63</td>\n",
       "      <td id=\"T_be8f6_row7_col2\" class=\"data row7 col2\" >1,117</td>\n",
       "      <td id=\"T_be8f6_row7_col3\" class=\"data row7 col3\" >395,265</td>\n",
       "    </tr>\n",
       "    <tr>\n",
       "      <th id=\"T_be8f6_level0_row8\" class=\"row_heading level0 row8\" >11</th>\n",
       "      <td id=\"T_be8f6_row8_col0\" class=\"data row8 col0\" >46</td>\n",
       "      <td id=\"T_be8f6_row8_col1\" class=\"data row8 col1\" >82</td>\n",
       "      <td id=\"T_be8f6_row8_col2\" class=\"data row8 col2\" >1,974</td>\n",
       "      <td id=\"T_be8f6_row8_col3\" class=\"data row8 col3\" >647,554</td>\n",
       "    </tr>\n",
       "    <tr>\n",
       "      <th id=\"T_be8f6_level0_row9\" class=\"row_heading level0 row9\" >12</th>\n",
       "      <td id=\"T_be8f6_row9_col0\" class=\"data row9 col0\" >34</td>\n",
       "      <td id=\"T_be8f6_row9_col1\" class=\"data row9 col1\" >109</td>\n",
       "      <td id=\"T_be8f6_row9_col2\" class=\"data row9 col2\" >1,787</td>\n",
       "      <td id=\"T_be8f6_row9_col3\" class=\"data row9 col3\" >607,664</td>\n",
       "    </tr>\n",
       "    <tr>\n",
       "      <th id=\"T_be8f6_level0_row10\" class=\"row_heading level0 row10\" >13</th>\n",
       "      <td id=\"T_be8f6_row10_col0\" class=\"data row10 col0\" >23</td>\n",
       "      <td id=\"T_be8f6_row10_col1\" class=\"data row10 col1\" >143</td>\n",
       "      <td id=\"T_be8f6_row10_col2\" class=\"data row10 col2\" >3,105</td>\n",
       "      <td id=\"T_be8f6_row10_col3\" class=\"data row10 col3\" >975,071</td>\n",
       "    </tr>\n",
       "    <tr>\n",
       "      <th id=\"T_be8f6_level0_row11\" class=\"row_heading level0 row11\" >14</th>\n",
       "      <td id=\"T_be8f6_row11_col0\" class=\"data row11 col0\" >16</td>\n",
       "      <td id=\"T_be8f6_row11_col1\" class=\"data row11 col1\" >232</td>\n",
       "      <td id=\"T_be8f6_row11_col2\" class=\"data row11 col2\" >4,820</td>\n",
       "      <td id=\"T_be8f6_row11_col3\" class=\"data row11 col3\" >1,479,783</td>\n",
       "    </tr>\n",
       "    <tr>\n",
       "      <th id=\"T_be8f6_level0_row12\" class=\"row_heading level0 row12\" >15</th>\n",
       "      <td id=\"T_be8f6_row12_col0\" class=\"data row12 col0\" >5</td>\n",
       "      <td id=\"T_be8f6_row12_col1\" class=\"data row12 col1\" >447</td>\n",
       "      <td id=\"T_be8f6_row12_col2\" class=\"data row12 col2\" >11,687</td>\n",
       "      <td id=\"T_be8f6_row12_col3\" class=\"data row12 col3\" >3,576,192</td>\n",
       "    </tr>\n",
       "  </tbody>\n",
       "</table>\n"
      ],
      "text/plain": [
       "<pandas.io.formats.style.Styler at 0x7f9219e548d0>"
      ]
     },
     "execution_count": 42,
     "metadata": {},
     "output_type": "execute_result"
    }
   ],
   "source": [
    "score_rfm = rfm.groupby([\"RFM_score\"]).agg({\"Recency\" : \"mean\", \n",
    "                                \"Frequency\" : \"mean\", \n",
    "                                \"MonetaryValue\" : [\"mean\", \"sum\"]})\n",
    "score_rfm.style.background_gradient().format(\"{:,.0f}\")"
   ]
  },
  {
   "cell_type": "markdown",
   "metadata": {},
   "source": [
    "### qcut을 통한 고객군 나누기"
   ]
  },
  {
   "cell_type": "code",
   "execution_count": 17,
   "metadata": {},
   "outputs": [
    {
     "data": {
      "text/html": [
       "<div>\n",
       "<style scoped>\n",
       "    .dataframe tbody tr th:only-of-type {\n",
       "        vertical-align: middle;\n",
       "    }\n",
       "\n",
       "    .dataframe tbody tr th {\n",
       "        vertical-align: top;\n",
       "    }\n",
       "\n",
       "    .dataframe thead th {\n",
       "        text-align: right;\n",
       "    }\n",
       "</style>\n",
       "<table border=\"1\" class=\"dataframe\">\n",
       "  <thead>\n",
       "    <tr style=\"text-align: right;\">\n",
       "      <th></th>\n",
       "      <th>Recency</th>\n",
       "      <th>Frequency</th>\n",
       "      <th>MonetaryValue</th>\n",
       "      <th>R</th>\n",
       "      <th>F</th>\n",
       "      <th>M</th>\n",
       "      <th>RFM_segment</th>\n",
       "      <th>RFM_score</th>\n",
       "      <th>RFM_class</th>\n",
       "    </tr>\n",
       "    <tr>\n",
       "      <th>CustomerID</th>\n",
       "      <th></th>\n",
       "      <th></th>\n",
       "      <th></th>\n",
       "      <th></th>\n",
       "      <th></th>\n",
       "      <th></th>\n",
       "      <th></th>\n",
       "      <th></th>\n",
       "      <th></th>\n",
       "    </tr>\n",
       "  </thead>\n",
       "  <tbody>\n",
       "    <tr>\n",
       "      <th>12346.0</th>\n",
       "      <td>326</td>\n",
       "      <td>1</td>\n",
       "      <td>77183.60</td>\n",
       "      <td>1</td>\n",
       "      <td>1</td>\n",
       "      <td>5</td>\n",
       "      <td>115</td>\n",
       "      <td>7</td>\n",
       "      <td>silver</td>\n",
       "    </tr>\n",
       "    <tr>\n",
       "      <th>12347.0</th>\n",
       "      <td>2</td>\n",
       "      <td>182</td>\n",
       "      <td>4310.00</td>\n",
       "      <td>5</td>\n",
       "      <td>5</td>\n",
       "      <td>5</td>\n",
       "      <td>555</td>\n",
       "      <td>15</td>\n",
       "      <td>platinum</td>\n",
       "    </tr>\n",
       "    <tr>\n",
       "      <th>12348.0</th>\n",
       "      <td>75</td>\n",
       "      <td>31</td>\n",
       "      <td>1797.24</td>\n",
       "      <td>2</td>\n",
       "      <td>3</td>\n",
       "      <td>4</td>\n",
       "      <td>234</td>\n",
       "      <td>9</td>\n",
       "      <td>gold</td>\n",
       "    </tr>\n",
       "    <tr>\n",
       "      <th>12349.0</th>\n",
       "      <td>19</td>\n",
       "      <td>73</td>\n",
       "      <td>1757.55</td>\n",
       "      <td>4</td>\n",
       "      <td>4</td>\n",
       "      <td>4</td>\n",
       "      <td>444</td>\n",
       "      <td>12</td>\n",
       "      <td>platinum</td>\n",
       "    </tr>\n",
       "    <tr>\n",
       "      <th>12350.0</th>\n",
       "      <td>310</td>\n",
       "      <td>17</td>\n",
       "      <td>334.40</td>\n",
       "      <td>1</td>\n",
       "      <td>2</td>\n",
       "      <td>2</td>\n",
       "      <td>122</td>\n",
       "      <td>5</td>\n",
       "      <td>silver</td>\n",
       "    </tr>\n",
       "  </tbody>\n",
       "</table>\n",
       "</div>"
      ],
      "text/plain": [
       "            Recency  Frequency  MonetaryValue  R  F  M RFM_segment  RFM_score  \\\n",
       "CustomerID                                                                      \n",
       "12346.0         326          1       77183.60  1  1  5         115          7   \n",
       "12347.0           2        182        4310.00  5  5  5         555         15   \n",
       "12348.0          75         31        1797.24  2  3  4         234          9   \n",
       "12349.0          19         73        1757.55  4  4  4         444         12   \n",
       "12350.0         310         17         334.40  1  2  2         122          5   \n",
       "\n",
       "           RFM_class  \n",
       "CustomerID            \n",
       "12346.0       silver  \n",
       "12347.0     platinum  \n",
       "12348.0         gold  \n",
       "12349.0     platinum  \n",
       "12350.0       silver  "
      ]
     },
     "execution_count": 17,
     "metadata": {},
     "output_type": "execute_result"
    }
   ],
   "source": [
    "# qcut 을 통해 3단계로 \"silver\", \"gold\", \"platinum\" 고객군을 나눕니다. \n",
    "rfm[\"RFM_class\"] = pd.qcut(rfm[\"RFM_score\"], 3, labels=[\"silver\", \"gold\", \"platinum\"])\n",
    "rfm.head()"
   ]
  },
  {
   "cell_type": "code",
   "execution_count": 18,
   "metadata": {},
   "outputs": [
    {
     "data": {
      "text/html": [
       "<div>\n",
       "<style scoped>\n",
       "    .dataframe tbody tr th:only-of-type {\n",
       "        vertical-align: middle;\n",
       "    }\n",
       "\n",
       "    .dataframe tbody tr th {\n",
       "        vertical-align: top;\n",
       "    }\n",
       "\n",
       "    .dataframe thead th {\n",
       "        text-align: right;\n",
       "    }\n",
       "</style>\n",
       "<table border=\"1\" class=\"dataframe\">\n",
       "  <thead>\n",
       "    <tr style=\"text-align: right;\">\n",
       "      <th></th>\n",
       "      <th>count</th>\n",
       "      <th>mean</th>\n",
       "      <th>std</th>\n",
       "      <th>min</th>\n",
       "      <th>25%</th>\n",
       "      <th>50%</th>\n",
       "      <th>75%</th>\n",
       "      <th>max</th>\n",
       "    </tr>\n",
       "    <tr>\n",
       "      <th>RFM_class</th>\n",
       "      <th></th>\n",
       "      <th></th>\n",
       "      <th></th>\n",
       "      <th></th>\n",
       "      <th></th>\n",
       "      <th></th>\n",
       "      <th></th>\n",
       "      <th></th>\n",
       "    </tr>\n",
       "  </thead>\n",
       "  <tbody>\n",
       "    <tr>\n",
       "      <th>silver</th>\n",
       "      <td>1667.0</td>\n",
       "      <td>5.212358</td>\n",
       "      <td>1.385663</td>\n",
       "      <td>3.0</td>\n",
       "      <td>4.0</td>\n",
       "      <td>5.0</td>\n",
       "      <td>6.0</td>\n",
       "      <td>7.0</td>\n",
       "    </tr>\n",
       "    <tr>\n",
       "      <th>gold</th>\n",
       "      <td>1405.0</td>\n",
       "      <td>9.456940</td>\n",
       "      <td>1.113452</td>\n",
       "      <td>8.0</td>\n",
       "      <td>8.0</td>\n",
       "      <td>9.0</td>\n",
       "      <td>10.0</td>\n",
       "      <td>11.0</td>\n",
       "    </tr>\n",
       "    <tr>\n",
       "      <th>platinum</th>\n",
       "      <td>1267.0</td>\n",
       "      <td>13.456985</td>\n",
       "      <td>1.126447</td>\n",
       "      <td>12.0</td>\n",
       "      <td>12.0</td>\n",
       "      <td>13.0</td>\n",
       "      <td>14.0</td>\n",
       "      <td>15.0</td>\n",
       "    </tr>\n",
       "  </tbody>\n",
       "</table>\n",
       "</div>"
      ],
      "text/plain": [
       "            count       mean       std   min   25%   50%   75%   max\n",
       "RFM_class                                                           \n",
       "silver     1667.0   5.212358  1.385663   3.0   4.0   5.0   6.0   7.0\n",
       "gold       1405.0   9.456940  1.113452   8.0   8.0   9.0  10.0  11.0\n",
       "platinum   1267.0  13.456985  1.126447  12.0  12.0  13.0  14.0  15.0"
      ]
     },
     "execution_count": 18,
     "metadata": {},
     "output_type": "execute_result"
    }
   ],
   "source": [
    "# \"RFM_class\" 별로 그룹화 하고 \"RFM_score\" 의 describe 값을 구합니다.\n",
    "rfm.groupby([\"RFM_class\"])[\"RFM_score\"].describe()"
   ]
  },
  {
   "cell_type": "code",
   "execution_count": 19,
   "metadata": {},
   "outputs": [
    {
     "data": {
      "text/plain": [
       "<matplotlib.axes._subplots.AxesSubplot at 0x7f920830fc90>"
      ]
     },
     "execution_count": 19,
     "metadata": {},
     "output_type": "execute_result"
    },
    {
     "data": {
      "image/png": "[encoded data removed]",
      "text/plain": [
       "<Figure size 432x288 with 1 Axes>"
      ]
     },
     "metadata": {
      "needs_background": "light"
     },
     "output_type": "display_data"
    }
   ],
   "source": [
    "# RFM_class 별 평균 RFM_score\n",
    "sns.barplot(data=rfm, x=\"RFM_class\", y=\"RFM_score\")"
   ]
  },
  {
   "cell_type": "code",
   "execution_count": 20,
   "metadata": {},
   "outputs": [
    {
     "data": {
      "text/plain": [
       "<matplotlib.axes._subplots.AxesSubplot at 0x7f9259da6510>"
      ]
     },
     "execution_count": 20,
     "metadata": {},
     "output_type": "execute_result"
    },
    {
     "data": {
      "image/png": "[encoded data removed]",
      "text/plain": [
       "<Figure size 432x288 with 1 Axes>"
      ]
     },
     "metadata": {
      "needs_background": "light"
     },
     "output_type": "display_data"
    }
   ],
   "source": [
    "sns.boxplot(data=rfm, x=\"RFM_class\", y=\"RFM_score\")"
   ]
  },
  {
   "cell_type": "code",
   "execution_count": 21,
   "metadata": {},
   "outputs": [
    {
     "data": {
      "text/plain": [
       "<matplotlib.axes._subplots.AxesSubplot at 0x7f92306281d0>"
      ]
     },
     "execution_count": 21,
     "metadata": {},
     "output_type": "execute_result"
    },
    {
     "data": {
      "image/png": "[encoded data removed]",
      "text/plain": [
       "<Figure size 432x288 with 1 Axes>"
      ]
     },
     "metadata": {
      "needs_background": "light"
     },
     "output_type": "display_data"
    }
   ],
   "source": [
    "sns.pointplot(data=rfm, x=\"R\", y=\"RFM_score\", hue=\"RFM_class\")"
   ]
  },
  {
   "cell_type": "code",
   "execution_count": 22,
   "metadata": {},
   "outputs": [
    {
     "data": {
      "text/plain": [
       "<matplotlib.axes._subplots.AxesSubplot at 0x7f9269222e90>"
      ]
     },
     "execution_count": 22,
     "metadata": {},
     "output_type": "execute_result"
    },
    {
     "data": {
      "image/png": "[encoded data removed]",
      "text/plain": [
       "<Figure size 432x288 with 1 Axes>"
      ]
     },
     "metadata": {
      "needs_background": "light"
     },
     "output_type": "display_data"
    }
   ],
   "source": [
    "sns.pointplot(data=rfm, x=\"F\", y=\"RFM_score\", hue=\"RFM_class\")"
   ]
  },
  {
   "cell_type": "code",
   "execution_count": 23,
   "metadata": {},
   "outputs": [
    {
     "data": {
      "text/plain": [
       "<matplotlib.axes._subplots.AxesSubplot at 0x7f92596eb050>"
      ]
     },
     "execution_count": 23,
     "metadata": {},
     "output_type": "execute_result"
    },
    {
     "data": {
      "image/png": "[encoded data removed]",
      "text/plain": [
       "<Figure size 432x288 with 1 Axes>"
      ]
     },
     "metadata": {
      "needs_background": "light"
     },
     "output_type": "display_data"
    }
   ],
   "source": [
    "sns.pointplot(data=rfm, x=\"M\", y=\"RFM_score\", hue=\"RFM_class\")"
   ]
  },
  {
   "cell_type": "code",
   "execution_count": 24,
   "metadata": {},
   "outputs": [
    {
     "data": {
      "text/html": [
       "<div>\n",
       "<style scoped>\n",
       "    .dataframe tbody tr th:only-of-type {\n",
       "        vertical-align: middle;\n",
       "    }\n",
       "\n",
       "    .dataframe tbody tr th {\n",
       "        vertical-align: top;\n",
       "    }\n",
       "\n",
       "    .dataframe thead tr th {\n",
       "        text-align: left;\n",
       "    }\n",
       "\n",
       "    .dataframe thead tr:last-of-type th {\n",
       "        text-align: right;\n",
       "    }\n",
       "</style>\n",
       "<table border=\"1\" class=\"dataframe\">\n",
       "  <thead>\n",
       "    <tr>\n",
       "      <th></th>\n",
       "      <th>Recency</th>\n",
       "      <th>Frequency</th>\n",
       "      <th colspan=\"3\" halign=\"left\">MonetaryValue</th>\n",
       "    </tr>\n",
       "    <tr>\n",
       "      <th></th>\n",
       "      <th>mean</th>\n",
       "      <th>mean</th>\n",
       "      <th>mean</th>\n",
       "      <th>sum</th>\n",
       "      <th>count</th>\n",
       "    </tr>\n",
       "    <tr>\n",
       "      <th>RFM_class</th>\n",
       "      <th></th>\n",
       "      <th></th>\n",
       "      <th></th>\n",
       "      <th></th>\n",
       "      <th></th>\n",
       "    </tr>\n",
       "  </thead>\n",
       "  <tbody>\n",
       "    <tr>\n",
       "      <th>silver</th>\n",
       "      <td>169.956209</td>\n",
       "      <td>17.197361</td>\n",
       "      <td>412.876612</td>\n",
       "      <td>688265.312</td>\n",
       "      <td>1667</td>\n",
       "    </tr>\n",
       "    <tr>\n",
       "      <th>gold</th>\n",
       "      <td>66.089680</td>\n",
       "      <td>56.272598</td>\n",
       "      <td>1127.709895</td>\n",
       "      <td>1584432.402</td>\n",
       "      <td>1405</td>\n",
       "    </tr>\n",
       "    <tr>\n",
       "      <th>platinum</th>\n",
       "      <td>19.940016</td>\n",
       "      <td>229.039463</td>\n",
       "      <td>5239.708122</td>\n",
       "      <td>6638710.190</td>\n",
       "      <td>1267</td>\n",
       "    </tr>\n",
       "  </tbody>\n",
       "</table>\n",
       "</div>"
      ],
      "text/plain": [
       "              Recency   Frequency MonetaryValue                   \n",
       "                 mean        mean          mean          sum count\n",
       "RFM_class                                                         \n",
       "silver     169.956209   17.197361    412.876612   688265.312  1667\n",
       "gold        66.089680   56.272598   1127.709895  1584432.402  1405\n",
       "platinum    19.940016  229.039463   5239.708122  6638710.190  1267"
      ]
     },
     "execution_count": 24,
     "metadata": {},
     "output_type": "execute_result"
    }
   ],
   "source": [
    "# \"RFM_class\" 별로 그룹화 하고 \"Recency\", \"Frequency\" 의 평균을 \n",
    "# \"MonetaryValue\"의 \"mean\", \"sum\", \"count\" 값을 구합니다.\n",
    "rfm_agg = rfm.groupby([\"RFM_class\"]).agg({\"Recency\": \"mean\", \n",
    "                                \"Frequency\": \"mean\", \n",
    "                                \"MonetaryValue\" : [\"mean\", \"sum\", \"count\"]})\n",
    "rfm_agg"
   ]
  },
  {
   "cell_type": "code",
   "execution_count": 25,
   "metadata": {},
   "outputs": [
    {
     "data": {
      "text/html": [
       "<style type=\"text/css\">\n",
       "#T_d8525_row0_col0, #T_d8525_row0_col4, #T_d8525_row2_col1, #T_d8525_row2_col2, #T_d8525_row2_col3 {\n",
       "  background-color: #023858;\n",
       "  color: #f1f1f1;\n",
       "}\n",
       "#T_d8525_row0_col1, #T_d8525_row0_col2, #T_d8525_row0_col3, #T_d8525_row2_col0, #T_d8525_row2_col4 {\n",
       "  background-color: #fff7fb;\n",
       "  color: #000000;\n",
       "}\n",
       "#T_d8525_row1_col0 {\n",
       "  background-color: #bbc7e0;\n",
       "  color: #000000;\n",
       "}\n",
       "#T_d8525_row1_col1 {\n",
       "  background-color: #dfddec;\n",
       "  color: #000000;\n",
       "}\n",
       "#T_d8525_row1_col2, #T_d8525_row1_col3 {\n",
       "  background-color: #e7e3f0;\n",
       "  color: #000000;\n",
       "}\n",
       "#T_d8525_row1_col4 {\n",
       "  background-color: #b0c2de;\n",
       "  color: #000000;\n",
       "}\n",
       "</style>\n",
       "<table id=\"T_d8525_\">\n",
       "  <thead>\n",
       "    <tr>\n",
       "      <th class=\"blank level0\" >&nbsp;</th>\n",
       "      <th class=\"col_heading level0 col0\" >Recency</th>\n",
       "      <th class=\"col_heading level0 col1\" >Frequency</th>\n",
       "      <th class=\"col_heading level0 col2\" colspan=\"3\">MonetaryValue</th>\n",
       "    </tr>\n",
       "    <tr>\n",
       "      <th class=\"blank level1\" >&nbsp;</th>\n",
       "      <th class=\"col_heading level1 col0\" >mean</th>\n",
       "      <th class=\"col_heading level1 col1\" >mean</th>\n",
       "      <th class=\"col_heading level1 col2\" >mean</th>\n",
       "      <th class=\"col_heading level1 col3\" >sum</th>\n",
       "      <th class=\"col_heading level1 col4\" >count</th>\n",
       "    </tr>\n",
       "    <tr>\n",
       "      <th class=\"index_name level0\" >RFM_class</th>\n",
       "      <th class=\"blank col0\" >&nbsp;</th>\n",
       "      <th class=\"blank col1\" >&nbsp;</th>\n",
       "      <th class=\"blank col2\" >&nbsp;</th>\n",
       "      <th class=\"blank col3\" >&nbsp;</th>\n",
       "      <th class=\"blank col4\" >&nbsp;</th>\n",
       "    </tr>\n",
       "  </thead>\n",
       "  <tbody>\n",
       "    <tr>\n",
       "      <th id=\"T_d8525_level0_row0\" class=\"row_heading level0 row0\" >silver</th>\n",
       "      <td id=\"T_d8525_row0_col0\" class=\"data row0 col0\" >169</td>\n",
       "      <td id=\"T_d8525_row0_col1\" class=\"data row0 col1\" >17</td>\n",
       "      <td id=\"T_d8525_row0_col2\" class=\"data row0 col2\" >412</td>\n",
       "      <td id=\"T_d8525_row0_col3\" class=\"data row0 col3\" >688,265</td>\n",
       "      <td id=\"T_d8525_row0_col4\" class=\"data row0 col4\" >1,667</td>\n",
       "    </tr>\n",
       "    <tr>\n",
       "      <th id=\"T_d8525_level0_row1\" class=\"row_heading level0 row1\" >gold</th>\n",
       "      <td id=\"T_d8525_row1_col0\" class=\"data row1 col0\" >66</td>\n",
       "      <td id=\"T_d8525_row1_col1\" class=\"data row1 col1\" >56</td>\n",
       "      <td id=\"T_d8525_row1_col2\" class=\"data row1 col2\" >1,127</td>\n",
       "      <td id=\"T_d8525_row1_col3\" class=\"data row1 col3\" >1,584,432</td>\n",
       "      <td id=\"T_d8525_row1_col4\" class=\"data row1 col4\" >1,405</td>\n",
       "    </tr>\n",
       "    <tr>\n",
       "      <th id=\"T_d8525_level0_row2\" class=\"row_heading level0 row2\" >platinum</th>\n",
       "      <td id=\"T_d8525_row2_col0\" class=\"data row2 col0\" >19</td>\n",
       "      <td id=\"T_d8525_row2_col1\" class=\"data row2 col1\" >229</td>\n",
       "      <td id=\"T_d8525_row2_col2\" class=\"data row2 col2\" >5,239</td>\n",
       "      <td id=\"T_d8525_row2_col3\" class=\"data row2 col3\" >6,638,710</td>\n",
       "      <td id=\"T_d8525_row2_col4\" class=\"data row2 col4\" >1,267</td>\n",
       "    </tr>\n",
       "  </tbody>\n",
       "</table>\n"
      ],
      "text/plain": [
       "<pandas.io.formats.style.Styler at 0x7f9259953710>"
      ]
     },
     "execution_count": 25,
     "metadata": {},
     "output_type": "execute_result"
    }
   ],
   "source": [
    "# 위에서 구한 값을 .style.background_gradient() 로 봅니다.\n",
    "rfm_agg.astype(int).style.background_gradient().format(\"{:,}\")"
   ]
  },
  {
   "cell_type": "code",
   "execution_count": 26,
   "metadata": {},
   "outputs": [
    {
     "data": {
      "text/html": [
       "<style type=\"text/css\">\n",
       "</style>\n",
       "<table id=\"T_a93ec_\">\n",
       "  <thead>\n",
       "    <tr>\n",
       "      <th class=\"blank level0\" >&nbsp;</th>\n",
       "      <th class=\"col_heading level0 col0\" >Recency</th>\n",
       "      <th class=\"col_heading level0 col1\" >Frequency</th>\n",
       "      <th class=\"col_heading level0 col2\" colspan=\"3\">MonetaryValue</th>\n",
       "    </tr>\n",
       "    <tr>\n",
       "      <th class=\"blank level1\" >&nbsp;</th>\n",
       "      <th class=\"col_heading level1 col0\" >mean</th>\n",
       "      <th class=\"col_heading level1 col1\" >mean</th>\n",
       "      <th class=\"col_heading level1 col2\" >mean</th>\n",
       "      <th class=\"col_heading level1 col3\" >sum</th>\n",
       "      <th class=\"col_heading level1 col4\" >count</th>\n",
       "    </tr>\n",
       "    <tr>\n",
       "      <th class=\"index_name level0\" >RFM_class</th>\n",
       "      <th class=\"blank col0\" >&nbsp;</th>\n",
       "      <th class=\"blank col1\" >&nbsp;</th>\n",
       "      <th class=\"blank col2\" >&nbsp;</th>\n",
       "      <th class=\"blank col3\" >&nbsp;</th>\n",
       "      <th class=\"blank col4\" >&nbsp;</th>\n",
       "    </tr>\n",
       "  </thead>\n",
       "  <tbody>\n",
       "    <tr>\n",
       "      <th id=\"T_a93ec_level0_row0\" class=\"row_heading level0 row0\" >silver</th>\n",
       "      <td id=\"T_a93ec_row0_col0\" class=\"data row0 col0\" >169</td>\n",
       "      <td id=\"T_a93ec_row0_col1\" class=\"data row0 col1\" >17</td>\n",
       "      <td id=\"T_a93ec_row0_col2\" class=\"data row0 col2\" >412</td>\n",
       "      <td id=\"T_a93ec_row0_col3\" class=\"data row0 col3\" >688,265</td>\n",
       "      <td id=\"T_a93ec_row0_col4\" class=\"data row0 col4\" >1,667</td>\n",
       "    </tr>\n",
       "    <tr>\n",
       "      <th id=\"T_a93ec_level0_row1\" class=\"row_heading level0 row1\" >gold</th>\n",
       "      <td id=\"T_a93ec_row1_col0\" class=\"data row1 col0\" >66</td>\n",
       "      <td id=\"T_a93ec_row1_col1\" class=\"data row1 col1\" >56</td>\n",
       "      <td id=\"T_a93ec_row1_col2\" class=\"data row1 col2\" >1,127</td>\n",
       "      <td id=\"T_a93ec_row1_col3\" class=\"data row1 col3\" >1,584,432</td>\n",
       "      <td id=\"T_a93ec_row1_col4\" class=\"data row1 col4\" >1,405</td>\n",
       "    </tr>\n",
       "    <tr>\n",
       "      <th id=\"T_a93ec_level0_row2\" class=\"row_heading level0 row2\" >platinum</th>\n",
       "      <td id=\"T_a93ec_row2_col0\" class=\"data row2 col0\" >19</td>\n",
       "      <td id=\"T_a93ec_row2_col1\" class=\"data row2 col1\" >229</td>\n",
       "      <td id=\"T_a93ec_row2_col2\" class=\"data row2 col2\" >5,239</td>\n",
       "      <td id=\"T_a93ec_row2_col3\" class=\"data row2 col3\" >6,638,710</td>\n",
       "      <td id=\"T_a93ec_row2_col4\" class=\"data row2 col4\" >1,267</td>\n",
       "    </tr>\n",
       "  </tbody>\n",
       "</table>\n"
      ],
      "text/plain": [
       "<pandas.io.formats.style.Styler at 0x7f92306d6890>"
      ]
     },
     "execution_count": 26,
     "metadata": {},
     "output_type": "execute_result"
    }
   ],
   "source": [
    "#.style.format(\"{:,}\") 로 천단위 ,를 출력해 봅니다.\n",
    "rfm_agg.astype(int).style.format(\"{:,}\")"
   ]
  },
  {
   "cell_type": "code",
   "execution_count": 27,
   "metadata": {},
   "outputs": [
    {
     "data": {
      "text/plain": [
       "<matplotlib.axes._subplots.AxesSubplot at 0x7f9268e91a90>"
      ]
     },
     "execution_count": 27,
     "metadata": {},
     "output_type": "execute_result"
    },
    {
     "data": {
      "image/png": "[encoded data removed]",
      "text/plain": [
       "<Figure size 1080x216 with 1 Axes>"
      ]
     },
     "metadata": {
      "needs_background": "light"
     },
     "output_type": "display_data"
    }
   ],
   "source": [
    "# kdeplot으로 Recency 의 RFM_class 별 분포를 그립니다.\n",
    "plt.figure(figsize=(15, 3))\n",
    "sns.kdeplot(data=rfm, x=\"Recency\", hue=\"RFM_class\")"
   ]
  },
  {
   "cell_type": "code",
   "execution_count": 28,
   "metadata": {},
   "outputs": [
    {
     "data": {
      "text/plain": [
       "<matplotlib.axes._subplots.AxesSubplot at 0x7f92599294d0>"
      ]
     },
     "execution_count": 28,
     "metadata": {},
     "output_type": "execute_result"
    },
    {
     "data": {
      "image/png": "[encoded data removed]",
      "text/plain": [
       "<Figure size 1080x216 with 1 Axes>"
      ]
     },
     "metadata": {
      "needs_background": "light"
     },
     "output_type": "display_data"
    }
   ],
   "source": [
    "# pointplot 으로 Recency 의 RFM_class 별 분포를 그립니다.\n",
    "plt.figure(figsize=(15, 3))\n",
    "sns.pointplot(data=rfm, x=\"R\", y=\"RFM_score\", hue=\"RFM_class\")"
   ]
  },
  {
   "cell_type": "code",
   "execution_count": 29,
   "metadata": {},
   "outputs": [],
   "source": [
    "# 두 개의 그래프를 그리는 함수를 만듭니다.\n",
    "def show_kde_point_plot(kde_x=\"Recency\", point_x=\"R\"):\n",
    "    plt.figure(figsize=(15, 3))\n",
    "    sns.kdeplot(data=rfm, x=kde_x, hue=\"RFM_class\")\n",
    "    plt.figure(figsize=(15, 3))\n",
    "    sns.pointplot(data=rfm, x=point_x, y=\"RFM_score\", hue=\"RFM_class\")"
   ]
  },
  {
   "cell_type": "code",
   "execution_count": 30,
   "metadata": {},
   "outputs": [
    {
     "data": {
      "image/png": "[encoded data removed]",
      "text/plain": [
       "<Figure size 1080x216 with 1 Axes>"
      ]
     },
     "metadata": {
      "needs_background": "light"
     },
     "output_type": "display_data"
    },
    {
     "data": {
      "image/png": "[encoded data removed]",
      "text/plain": [
       "<Figure size 1080x216 with 1 Axes>"
      ]
     },
     "metadata": {
      "needs_background": "light"
     },
     "output_type": "display_data"
    }
   ],
   "source": [
    "show_kde_point_plot(kde_x=\"Recency\", point_x=\"R\")"
   ]
  },
  {
   "cell_type": "code",
   "execution_count": 31,
   "metadata": {},
   "outputs": [
    {
     "data": {
      "image/png": "[encoded data removed]",
      "text/plain": [
       "<Figure size 1080x216 with 1 Axes>"
      ]
     },
     "metadata": {
      "needs_background": "light"
     },
     "output_type": "display_data"
    },
    {
     "data": {
      "image/png": "[encoded data removed]",
      "text/plain": [
       "<Figure size 1080x216 with 1 Axes>"
      ]
     },
     "metadata": {
      "needs_background": "light"
     },
     "output_type": "display_data"
    }
   ],
   "source": [
    "show_kde_point_plot(kde_x=\"Frequency\", point_x=\"F\")"
   ]
  },
  {
   "cell_type": "code",
   "execution_count": 32,
   "metadata": {},
   "outputs": [
    {
     "data": {
      "image/png": "[encoded data removed]",
      "text/plain": [
       "<Figure size 1080x216 with 1 Axes>"
      ]
     },
     "metadata": {
      "needs_background": "light"
     },
     "output_type": "display_data"
    },
    {
     "data": {
      "image/png": "[encoded data removed]",
      "text/plain": [
       "<Figure size 1080x216 with 1 Axes>"
      ]
     },
     "metadata": {
      "needs_background": "light"
     },
     "output_type": "display_data"
    }
   ],
   "source": [
    "show_kde_point_plot(kde_x=\"MonetaryValue\", point_x=\"M\")"
   ]
  },
  {
   "cell_type": "code",
   "execution_count": 33,
   "metadata": {},
   "outputs": [
    {
     "data": {
      "text/plain": [
       "<seaborn.axisgrid.FacetGrid at 0x7f925993c3d0>"
      ]
     },
     "execution_count": 33,
     "metadata": {},
     "output_type": "execute_result"
    },
    {
     "data": {
      "image/png": "[encoded data removed]",
      "text/plain": [
       "<Figure size 1080x360 with 3 Axes>"
      ]
     },
     "metadata": {
      "needs_background": "light"
     },
     "output_type": "display_data"
    }
   ],
   "source": [
    "# lmplot 을 통해  x=\"Recency\", y=\"MonetaryValue\", hue=\"RFM_class\", col=\"RFM_class\" 값을 시각화 합니다.\n",
    "sns.lmplot(data=rfm, x=\"Recency\", y=\"MonetaryValue\", hue=\"RFM_class\", col=\"RFM_class\")"
   ]
  },
  {
   "cell_type": "code",
   "execution_count": 34,
   "metadata": {},
   "outputs": [
    {
     "data": {
      "text/plain": [
       "<seaborn.axisgrid.PairGrid at 0x7f92696d2c50>"
      ]
     },
     "execution_count": 34,
     "metadata": {},
     "output_type": "execute_result"
    },
    {
     "data": {
      "image/png": "[encoded data removed]",
      "text/plain": [
       "<Figure size 794.25x720 with 14 Axes>"
      ]
     },
     "metadata": {
      "needs_background": "light"
     },
     "output_type": "display_data"
    }
   ],
   "source": [
    "# pairplot 을 통해 \"RFM_class\" 별로 분포를 시각화 합니다.\n",
    "sns.pairplot(data=rfm, hue=\"RFM_class\", corner=True)"
   ]
  },
  {
   "cell_type": "code",
   "execution_count": null,
   "metadata": {},
   "outputs": [],
   "source": []
  }
 ],
 "metadata": {
  "kernelspec": {
   "display_name": "Python 3",
   "language": "python",
   "name": "python3"
  },
  "language_info": {
   "codemirror_mode": {
    "name": "ipython",
    "version": 3
   },
   "file_extension": ".py",
   "mimetype": "text/x-python",
   "name": "python",
   "nbconvert_exporter": "python",
   "pygments_lexer": "ipython3",
   "version": "3.7.6"
  },
  "toc": {
   "base_numbering": 1,
   "nav_menu": {},
   "number_sections": true,
   "sideBar": true,
   "skip_h1_title": false,
   "title_cell": "Table of Contents",
   "title_sidebar": "Contents",
   "toc_cell": false,
   "toc_position": {},
   "toc_section_display": true,
   "toc_window_display": true
  },
  "varInspector": {
   "cols": {
    "lenName": 16,
    "lenType": 16,
    "lenVar": 40
   },
   "kernels_config": {
    "python": {
     "delete_cmd_postfix": "",
     "delete_cmd_prefix": "del ",
     "library": "var_list.py",
     "varRefreshCmd": "print(var_dic_list())"
    },
    "r": {
     "delete_cmd_postfix": ") ",
     "delete_cmd_prefix": "rm(",
     "library": "var_list.r",
     "varRefreshCmd": "cat(var_dic_list()) "
    }
   },
   "types_to_exclude": [
    "module",
    "function",
    "builtin_function_or_method",
    "instance",
    "_Feature"
   ],
   "window_display": false
  }
 },
 "nbformat": 4,
 "nbformat_minor": 4
}
