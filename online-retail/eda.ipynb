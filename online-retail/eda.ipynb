{
 "cells": [
  {
   "cell_type": "markdown",
   "metadata": {},
   "source": [
    "* 데이터셋 : https://archive.ics.uci.edu/ml/datasets/Online+Retail#"
   ]
  },
  {
   "cell_type": "code",
   "execution_count": 1,
   "metadata": {},
   "outputs": [],
   "source": [
    "import pandas as pd\n",
    "import numpy as np\n",
    "import seaborn as sns\n",
    "import datetime as dt\n",
    "import matplotlib.pyplot as plt"
   ]
  },
  {
   "cell_type": "code",
   "execution_count": 2,
   "metadata": {},
   "outputs": [],
   "source": [
    "plt.rc(\"font\", family=\"AppleGothic\")\n",
    "plt.rc(\"axes\", unicode_minus=False)"
   ]
  },
  {
   "cell_type": "code",
   "execution_count": 3,
   "metadata": {},
   "outputs": [
    {
     "data": {
      "text/plain": [
       "(541909, 8)"
      ]
     },
     "execution_count": 3,
     "metadata": {},
     "output_type": "execute_result"
    }
   ],
   "source": [
    "# df = pd.read_excel(\"http://archive.ics.uci.edu/ml/machine-learning-databases/00352/Online%20Retail.xlsx\")\n",
    "df = pd.read_excel(\"data/Online Retail.xlsx\")\n",
    "df.shape"
   ]
  },
  {
   "cell_type": "code",
   "execution_count": 4,
   "metadata": {},
   "outputs": [
    {
     "data": {
      "text/html": [
       "<div>\n",
       "<style scoped>\n",
       "    .dataframe tbody tr th:only-of-type {\n",
       "        vertical-align: middle;\n",
       "    }\n",
       "\n",
       "    .dataframe tbody tr th {\n",
       "        vertical-align: top;\n",
       "    }\n",
       "\n",
       "    .dataframe thead th {\n",
       "        text-align: right;\n",
       "    }\n",
       "</style>\n",
       "<table border=\"1\" class=\"dataframe\">\n",
       "  <thead>\n",
       "    <tr style=\"text-align: right;\">\n",
       "      <th></th>\n",
       "      <th>InvoiceNo</th>\n",
       "      <th>StockCode</th>\n",
       "      <th>Description</th>\n",
       "      <th>Quantity</th>\n",
       "      <th>InvoiceDate</th>\n",
       "      <th>UnitPrice</th>\n",
       "      <th>CustomerID</th>\n",
       "      <th>Country</th>\n",
       "    </tr>\n",
       "  </thead>\n",
       "  <tbody>\n",
       "    <tr>\n",
       "      <th>0</th>\n",
       "      <td>536365</td>\n",
       "      <td>85123A</td>\n",
       "      <td>WHITE HANGING HEART T-LIGHT HOLDER</td>\n",
       "      <td>6</td>\n",
       "      <td>2010-12-01 08:26:00</td>\n",
       "      <td>2.55</td>\n",
       "      <td>17850.0</td>\n",
       "      <td>United Kingdom</td>\n",
       "    </tr>\n",
       "    <tr>\n",
       "      <th>1</th>\n",
       "      <td>536365</td>\n",
       "      <td>71053</td>\n",
       "      <td>WHITE METAL LANTERN</td>\n",
       "      <td>6</td>\n",
       "      <td>2010-12-01 08:26:00</td>\n",
       "      <td>3.39</td>\n",
       "      <td>17850.0</td>\n",
       "      <td>United Kingdom</td>\n",
       "    </tr>\n",
       "    <tr>\n",
       "      <th>2</th>\n",
       "      <td>536365</td>\n",
       "      <td>84406B</td>\n",
       "      <td>CREAM CUPID HEARTS COAT HANGER</td>\n",
       "      <td>8</td>\n",
       "      <td>2010-12-01 08:26:00</td>\n",
       "      <td>2.75</td>\n",
       "      <td>17850.0</td>\n",
       "      <td>United Kingdom</td>\n",
       "    </tr>\n",
       "    <tr>\n",
       "      <th>3</th>\n",
       "      <td>536365</td>\n",
       "      <td>84029G</td>\n",
       "      <td>KNITTED UNION FLAG HOT WATER BOTTLE</td>\n",
       "      <td>6</td>\n",
       "      <td>2010-12-01 08:26:00</td>\n",
       "      <td>3.39</td>\n",
       "      <td>17850.0</td>\n",
       "      <td>United Kingdom</td>\n",
       "    </tr>\n",
       "    <tr>\n",
       "      <th>4</th>\n",
       "      <td>536365</td>\n",
       "      <td>84029E</td>\n",
       "      <td>RED WOOLLY HOTTIE WHITE HEART.</td>\n",
       "      <td>6</td>\n",
       "      <td>2010-12-01 08:26:00</td>\n",
       "      <td>3.39</td>\n",
       "      <td>17850.0</td>\n",
       "      <td>United Kingdom</td>\n",
       "    </tr>\n",
       "  </tbody>\n",
       "</table>\n",
       "</div>"
      ],
      "text/plain": [
       "  InvoiceNo StockCode                          Description  Quantity  \\\n",
       "0    536365    85123A   WHITE HANGING HEART T-LIGHT HOLDER         6   \n",
       "1    536365     71053                  WHITE METAL LANTERN         6   \n",
       "2    536365    84406B       CREAM CUPID HEARTS COAT HANGER         8   \n",
       "3    536365    84029G  KNITTED UNION FLAG HOT WATER BOTTLE         6   \n",
       "4    536365    84029E       RED WOOLLY HOTTIE WHITE HEART.         6   \n",
       "\n",
       "          InvoiceDate  UnitPrice  CustomerID         Country  \n",
       "0 2010-12-01 08:26:00       2.55     17850.0  United Kingdom  \n",
       "1 2010-12-01 08:26:00       3.39     17850.0  United Kingdom  \n",
       "2 2010-12-01 08:26:00       2.75     17850.0  United Kingdom  \n",
       "3 2010-12-01 08:26:00       3.39     17850.0  United Kingdom  \n",
       "4 2010-12-01 08:26:00       3.39     17850.0  United Kingdom  "
      ]
     },
     "execution_count": 4,
     "metadata": {},
     "output_type": "execute_result"
    }
   ],
   "source": [
    "df.head()"
   ]
  },
  {
   "cell_type": "code",
   "execution_count": 5,
   "metadata": {},
   "outputs": [
    {
     "data": {
      "text/html": [
       "<div>\n",
       "<style scoped>\n",
       "    .dataframe tbody tr th:only-of-type {\n",
       "        vertical-align: middle;\n",
       "    }\n",
       "\n",
       "    .dataframe tbody tr th {\n",
       "        vertical-align: top;\n",
       "    }\n",
       "\n",
       "    .dataframe thead th {\n",
       "        text-align: right;\n",
       "    }\n",
       "</style>\n",
       "<table border=\"1\" class=\"dataframe\">\n",
       "  <thead>\n",
       "    <tr style=\"text-align: right;\">\n",
       "      <th></th>\n",
       "      <th>InvoiceNo</th>\n",
       "      <th>StockCode</th>\n",
       "      <th>Description</th>\n",
       "      <th>Quantity</th>\n",
       "      <th>InvoiceDate</th>\n",
       "      <th>UnitPrice</th>\n",
       "      <th>CustomerID</th>\n",
       "      <th>Country</th>\n",
       "    </tr>\n",
       "  </thead>\n",
       "  <tbody>\n",
       "    <tr>\n",
       "      <th>541904</th>\n",
       "      <td>581587</td>\n",
       "      <td>22613</td>\n",
       "      <td>PACK OF 20 SPACEBOY NAPKINS</td>\n",
       "      <td>12</td>\n",
       "      <td>2011-12-09 12:50:00</td>\n",
       "      <td>0.85</td>\n",
       "      <td>12680.0</td>\n",
       "      <td>France</td>\n",
       "    </tr>\n",
       "    <tr>\n",
       "      <th>541905</th>\n",
       "      <td>581587</td>\n",
       "      <td>22899</td>\n",
       "      <td>CHILDREN'S APRON DOLLY GIRL</td>\n",
       "      <td>6</td>\n",
       "      <td>2011-12-09 12:50:00</td>\n",
       "      <td>2.10</td>\n",
       "      <td>12680.0</td>\n",
       "      <td>France</td>\n",
       "    </tr>\n",
       "    <tr>\n",
       "      <th>541906</th>\n",
       "      <td>581587</td>\n",
       "      <td>23254</td>\n",
       "      <td>CHILDRENS CUTLERY DOLLY GIRL</td>\n",
       "      <td>4</td>\n",
       "      <td>2011-12-09 12:50:00</td>\n",
       "      <td>4.15</td>\n",
       "      <td>12680.0</td>\n",
       "      <td>France</td>\n",
       "    </tr>\n",
       "    <tr>\n",
       "      <th>541907</th>\n",
       "      <td>581587</td>\n",
       "      <td>23255</td>\n",
       "      <td>CHILDRENS CUTLERY CIRCUS PARADE</td>\n",
       "      <td>4</td>\n",
       "      <td>2011-12-09 12:50:00</td>\n",
       "      <td>4.15</td>\n",
       "      <td>12680.0</td>\n",
       "      <td>France</td>\n",
       "    </tr>\n",
       "    <tr>\n",
       "      <th>541908</th>\n",
       "      <td>581587</td>\n",
       "      <td>22138</td>\n",
       "      <td>BAKING SET 9 PIECE RETROSPOT</td>\n",
       "      <td>3</td>\n",
       "      <td>2011-12-09 12:50:00</td>\n",
       "      <td>4.95</td>\n",
       "      <td>12680.0</td>\n",
       "      <td>France</td>\n",
       "    </tr>\n",
       "  </tbody>\n",
       "</table>\n",
       "</div>"
      ],
      "text/plain": [
       "       InvoiceNo StockCode                      Description  Quantity  \\\n",
       "541904    581587     22613      PACK OF 20 SPACEBOY NAPKINS        12   \n",
       "541905    581587     22899     CHILDREN'S APRON DOLLY GIRL          6   \n",
       "541906    581587     23254    CHILDRENS CUTLERY DOLLY GIRL          4   \n",
       "541907    581587     23255  CHILDRENS CUTLERY CIRCUS PARADE         4   \n",
       "541908    581587     22138    BAKING SET 9 PIECE RETROSPOT          3   \n",
       "\n",
       "               InvoiceDate  UnitPrice  CustomerID Country  \n",
       "541904 2011-12-09 12:50:00       0.85     12680.0  France  \n",
       "541905 2011-12-09 12:50:00       2.10     12680.0  France  \n",
       "541906 2011-12-09 12:50:00       4.15     12680.0  France  \n",
       "541907 2011-12-09 12:50:00       4.15     12680.0  France  \n",
       "541908 2011-12-09 12:50:00       4.95     12680.0  France  "
      ]
     },
     "execution_count": 5,
     "metadata": {},
     "output_type": "execute_result"
    }
   ],
   "source": [
    "df.tail()"
   ]
  },
  {
   "cell_type": "code",
   "execution_count": 6,
   "metadata": {},
   "outputs": [
    {
     "name": "stdout",
     "output_type": "stream",
     "text": [
      "<class 'pandas.core.frame.DataFrame'>\n",
      "RangeIndex: 541909 entries, 0 to 541908\n",
      "Data columns (total 8 columns):\n",
      " #   Column       Non-Null Count   Dtype         \n",
      "---  ------       --------------   -----         \n",
      " 0   InvoiceNo    541909 non-null  object        \n",
      " 1   StockCode    541909 non-null  object        \n",
      " 2   Description  540455 non-null  object        \n",
      " 3   Quantity     541909 non-null  int64         \n",
      " 4   InvoiceDate  541909 non-null  datetime64[ns]\n",
      " 5   UnitPrice    541909 non-null  float64       \n",
      " 6   CustomerID   406829 non-null  float64       \n",
      " 7   Country      541909 non-null  object        \n",
      "dtypes: datetime64[ns](1), float64(2), int64(1), object(4)\n",
      "memory usage: 33.1+ MB\n"
     ]
    }
   ],
   "source": [
    "df.info()"
   ]
  },
  {
   "cell_type": "code",
   "execution_count": 7,
   "metadata": {},
   "outputs": [
    {
     "data": {
      "text/html": [
       "<div>\n",
       "<style scoped>\n",
       "    .dataframe tbody tr th:only-of-type {\n",
       "        vertical-align: middle;\n",
       "    }\n",
       "\n",
       "    .dataframe tbody tr th {\n",
       "        vertical-align: top;\n",
       "    }\n",
       "\n",
       "    .dataframe thead th {\n",
       "        text-align: right;\n",
       "    }\n",
       "</style>\n",
       "<table border=\"1\" class=\"dataframe\">\n",
       "  <thead>\n",
       "    <tr style=\"text-align: right;\">\n",
       "      <th></th>\n",
       "      <th>Quantity</th>\n",
       "      <th>UnitPrice</th>\n",
       "      <th>CustomerID</th>\n",
       "    </tr>\n",
       "  </thead>\n",
       "  <tbody>\n",
       "    <tr>\n",
       "      <th>count</th>\n",
       "      <td>541909.000000</td>\n",
       "      <td>541909.000000</td>\n",
       "      <td>406829.000000</td>\n",
       "    </tr>\n",
       "    <tr>\n",
       "      <th>mean</th>\n",
       "      <td>9.552250</td>\n",
       "      <td>4.611114</td>\n",
       "      <td>15287.690570</td>\n",
       "    </tr>\n",
       "    <tr>\n",
       "      <th>std</th>\n",
       "      <td>218.081158</td>\n",
       "      <td>96.759853</td>\n",
       "      <td>1713.600303</td>\n",
       "    </tr>\n",
       "    <tr>\n",
       "      <th>min</th>\n",
       "      <td>-80995.000000</td>\n",
       "      <td>-11062.060000</td>\n",
       "      <td>12346.000000</td>\n",
       "    </tr>\n",
       "    <tr>\n",
       "      <th>25%</th>\n",
       "      <td>1.000000</td>\n",
       "      <td>1.250000</td>\n",
       "      <td>13953.000000</td>\n",
       "    </tr>\n",
       "    <tr>\n",
       "      <th>50%</th>\n",
       "      <td>3.000000</td>\n",
       "      <td>2.080000</td>\n",
       "      <td>15152.000000</td>\n",
       "    </tr>\n",
       "    <tr>\n",
       "      <th>75%</th>\n",
       "      <td>10.000000</td>\n",
       "      <td>4.130000</td>\n",
       "      <td>16791.000000</td>\n",
       "    </tr>\n",
       "    <tr>\n",
       "      <th>max</th>\n",
       "      <td>80995.000000</td>\n",
       "      <td>38970.000000</td>\n",
       "      <td>18287.000000</td>\n",
       "    </tr>\n",
       "  </tbody>\n",
       "</table>\n",
       "</div>"
      ],
      "text/plain": [
       "            Quantity      UnitPrice     CustomerID\n",
       "count  541909.000000  541909.000000  406829.000000\n",
       "mean        9.552250       4.611114   15287.690570\n",
       "std       218.081158      96.759853    1713.600303\n",
       "min    -80995.000000  -11062.060000   12346.000000\n",
       "25%         1.000000       1.250000   13953.000000\n",
       "50%         3.000000       2.080000   15152.000000\n",
       "75%        10.000000       4.130000   16791.000000\n",
       "max     80995.000000   38970.000000   18287.000000"
      ]
     },
     "execution_count": 7,
     "metadata": {},
     "output_type": "execute_result"
    }
   ],
   "source": [
    "df.describe()"
   ]
  },
  {
   "cell_type": "code",
   "execution_count": 8,
   "metadata": {},
   "outputs": [
    {
     "data": {
      "text/html": [
       "<div>\n",
       "<style scoped>\n",
       "    .dataframe tbody tr th:only-of-type {\n",
       "        vertical-align: middle;\n",
       "    }\n",
       "\n",
       "    .dataframe tbody tr th {\n",
       "        vertical-align: top;\n",
       "    }\n",
       "\n",
       "    .dataframe thead th {\n",
       "        text-align: right;\n",
       "    }\n",
       "</style>\n",
       "<table border=\"1\" class=\"dataframe\">\n",
       "  <thead>\n",
       "    <tr style=\"text-align: right;\">\n",
       "      <th></th>\n",
       "      <th>InvoiceNo</th>\n",
       "      <th>StockCode</th>\n",
       "      <th>Description</th>\n",
       "      <th>Country</th>\n",
       "    </tr>\n",
       "  </thead>\n",
       "  <tbody>\n",
       "    <tr>\n",
       "      <th>count</th>\n",
       "      <td>541909</td>\n",
       "      <td>541909</td>\n",
       "      <td>540455</td>\n",
       "      <td>541909</td>\n",
       "    </tr>\n",
       "    <tr>\n",
       "      <th>unique</th>\n",
       "      <td>25900</td>\n",
       "      <td>4070</td>\n",
       "      <td>4223</td>\n",
       "      <td>38</td>\n",
       "    </tr>\n",
       "    <tr>\n",
       "      <th>top</th>\n",
       "      <td>573585</td>\n",
       "      <td>85123A</td>\n",
       "      <td>WHITE HANGING HEART T-LIGHT HOLDER</td>\n",
       "      <td>United Kingdom</td>\n",
       "    </tr>\n",
       "    <tr>\n",
       "      <th>freq</th>\n",
       "      <td>1114</td>\n",
       "      <td>2313</td>\n",
       "      <td>2369</td>\n",
       "      <td>495478</td>\n",
       "    </tr>\n",
       "  </tbody>\n",
       "</table>\n",
       "</div>"
      ],
      "text/plain": [
       "        InvoiceNo StockCode                         Description  \\\n",
       "count      541909    541909                              540455   \n",
       "unique      25900      4070                                4223   \n",
       "top        573585    85123A  WHITE HANGING HEART T-LIGHT HOLDER   \n",
       "freq         1114      2313                                2369   \n",
       "\n",
       "               Country  \n",
       "count           541909  \n",
       "unique              38  \n",
       "top     United Kingdom  \n",
       "freq            495478  "
      ]
     },
     "execution_count": 8,
     "metadata": {},
     "output_type": "execute_result"
    }
   ],
   "source": [
    "df.describe(include=np.object)"
   ]
  },
  {
   "cell_type": "code",
   "execution_count": 9,
   "metadata": {},
   "outputs": [
    {
     "data": {
      "text/plain": [
       "InvoiceNo           0\n",
       "StockCode           0\n",
       "Description      1454\n",
       "Quantity            0\n",
       "InvoiceDate         0\n",
       "UnitPrice           0\n",
       "CustomerID     135080\n",
       "Country             0\n",
       "dtype: int64"
      ]
     },
     "execution_count": 9,
     "metadata": {},
     "output_type": "execute_result"
    }
   ],
   "source": [
    "df.isnull().sum()"
   ]
  },
  {
   "cell_type": "code",
   "execution_count": 10,
   "metadata": {},
   "outputs": [
    {
     "data": {
      "text/plain": [
       "InvoiceNo       0.000000\n",
       "StockCode       0.000000\n",
       "Description     0.268311\n",
       "Quantity        0.000000\n",
       "InvoiceDate     0.000000\n",
       "UnitPrice       0.000000\n",
       "CustomerID     24.926694\n",
       "Country         0.000000\n",
       "dtype: float64"
      ]
     },
     "execution_count": 10,
     "metadata": {},
     "output_type": "execute_result"
    }
   ],
   "source": [
    "df.isnull().mean() * 100"
   ]
  },
  {
   "cell_type": "code",
   "execution_count": 11,
   "metadata": {},
   "outputs": [
    {
     "data": {
      "text/plain": [
       "<matplotlib.axes._subplots.AxesSubplot at 0x7fa4e920b4d0>"
      ]
     },
     "execution_count": 11,
     "metadata": {},
     "output_type": "execute_result"
    },
    {
     "data": {
      "image/png": "[encoded data removed]",
      "text/plain": [
       "<Figure size 864x288 with 2 Axes>"
      ]
     },
     "metadata": {
      "needs_background": "light"
     },
     "output_type": "display_data"
    }
   ],
   "source": [
    "plt.figure(figsize=(12, 4))\n",
    "sns.heatmap(df.isnull(), cmap=\"Greys_r\")"
   ]
  },
  {
   "cell_type": "code",
   "execution_count": 12,
   "metadata": {},
   "outputs": [],
   "source": [
    "df[\"totalPrice\"] = df[\"Quantity\"] * df[\"UnitPrice\"]"
   ]
  },
  {
   "cell_type": "code",
   "execution_count": 13,
   "metadata": {},
   "outputs": [
    {
     "data": {
      "image/png": "[encoded data removed]",
      "text/plain": [
       "<Figure size 720x720 with 6 Axes>"
      ]
     },
     "metadata": {
      "needs_background": "light"
     },
     "output_type": "display_data"
    }
   ],
   "source": [
    "_ = df.hist(figsize=(10, 10), bins=50)"
   ]
  },
  {
   "cell_type": "code",
   "execution_count": 14,
   "metadata": {},
   "outputs": [
    {
     "data": {
      "text/plain": [
       "United Kingdom    133600\n",
       "EIRE                 711\n",
       "Hong Kong            288\n",
       "Unspecified          202\n",
       "Switzerland          125\n",
       "France                66\n",
       "Israel                47\n",
       "Portugal              39\n",
       "Bahrain                2\n",
       "Name: Country, dtype: int64"
      ]
     },
     "execution_count": 14,
     "metadata": {},
     "output_type": "execute_result"
    }
   ],
   "source": [
    "df.loc[df[\"CustomerID\"].isnull(), \"Country\"].value_counts()"
   ]
  },
  {
   "cell_type": "code",
   "execution_count": 15,
   "metadata": {},
   "outputs": [
    {
     "data": {
      "text/plain": [
       "United Kingdom          361878\n",
       "Germany                   9495\n",
       "France                    8491\n",
       "EIRE                      7485\n",
       "Spain                     2533\n",
       "Netherlands               2371\n",
       "Belgium                   2069\n",
       "Switzerland               1877\n",
       "Portugal                  1480\n",
       "Australia                 1259\n",
       "Norway                    1086\n",
       "Italy                      803\n",
       "Channel Islands            758\n",
       "Finland                    695\n",
       "Cyprus                     622\n",
       "Sweden                     462\n",
       "Austria                    401\n",
       "Denmark                    389\n",
       "Japan                      358\n",
       "Poland                     341\n",
       "USA                        291\n",
       "Israel                     250\n",
       "Unspecified                244\n",
       "Singapore                  229\n",
       "Iceland                    182\n",
       "Canada                     151\n",
       "Greece                     146\n",
       "Malta                      127\n",
       "United Arab Emirates        68\n",
       "European Community          61\n",
       "RSA                         58\n",
       "Lebanon                     45\n",
       "Lithuania                   35\n",
       "Brazil                      32\n",
       "Czech Republic              30\n",
       "Bahrain                     17\n",
       "Saudi Arabia                10\n",
       "Name: Country, dtype: int64"
      ]
     },
     "execution_count": 15,
     "metadata": {},
     "output_type": "execute_result"
    }
   ],
   "source": [
    "df.loc[df[\"CustomerID\"].notnull(), \"Country\"].value_counts()"
   ]
  },
  {
   "cell_type": "code",
   "execution_count": 16,
   "metadata": {},
   "outputs": [],
   "source": [
    "df[\"id_null\"] = df[\"CustomerID\"].isnull()"
   ]
  },
  {
   "cell_type": "code",
   "execution_count": 17,
   "metadata": {},
   "outputs": [
    {
     "data": {
      "text/html": [
       "<div>\n",
       "<style scoped>\n",
       "    .dataframe tbody tr th:only-of-type {\n",
       "        vertical-align: middle;\n",
       "    }\n",
       "\n",
       "    .dataframe tbody tr th {\n",
       "        vertical-align: top;\n",
       "    }\n",
       "\n",
       "    .dataframe thead th {\n",
       "        text-align: right;\n",
       "    }\n",
       "</style>\n",
       "<table border=\"1\" class=\"dataframe\">\n",
       "  <thead>\n",
       "    <tr style=\"text-align: right;\">\n",
       "      <th></th>\n",
       "      <th>InvoiceNo</th>\n",
       "      <th>StockCode</th>\n",
       "      <th>Description</th>\n",
       "      <th>Quantity</th>\n",
       "      <th>InvoiceDate</th>\n",
       "      <th>UnitPrice</th>\n",
       "      <th>CustomerID</th>\n",
       "      <th>Country</th>\n",
       "      <th>totalPrice</th>\n",
       "      <th>id_null</th>\n",
       "    </tr>\n",
       "  </thead>\n",
       "  <tbody>\n",
       "    <tr>\n",
       "      <th>0</th>\n",
       "      <td>536365</td>\n",
       "      <td>85123A</td>\n",
       "      <td>WHITE HANGING HEART T-LIGHT HOLDER</td>\n",
       "      <td>6</td>\n",
       "      <td>2010-12-01 08:26:00</td>\n",
       "      <td>2.55</td>\n",
       "      <td>17850.0</td>\n",
       "      <td>United Kingdom</td>\n",
       "      <td>15.3</td>\n",
       "      <td>False</td>\n",
       "    </tr>\n",
       "  </tbody>\n",
       "</table>\n",
       "</div>"
      ],
      "text/plain": [
       "  InvoiceNo StockCode                         Description  Quantity  \\\n",
       "0    536365    85123A  WHITE HANGING HEART T-LIGHT HOLDER         6   \n",
       "\n",
       "          InvoiceDate  UnitPrice  CustomerID         Country  totalPrice  \\\n",
       "0 2010-12-01 08:26:00       2.55     17850.0  United Kingdom        15.3   \n",
       "\n",
       "   id_null  \n",
       "0    False  "
      ]
     },
     "execution_count": 17,
     "metadata": {},
     "output_type": "execute_result"
    }
   ],
   "source": [
    "df.head(1)"
   ]
  },
  {
   "cell_type": "code",
   "execution_count": 18,
   "metadata": {},
   "outputs": [
    {
     "data": {
      "text/html": [
       "<div>\n",
       "<style scoped>\n",
       "    .dataframe tbody tr th:only-of-type {\n",
       "        vertical-align: middle;\n",
       "    }\n",
       "\n",
       "    .dataframe tbody tr th {\n",
       "        vertical-align: top;\n",
       "    }\n",
       "\n",
       "    .dataframe thead th {\n",
       "        text-align: right;\n",
       "    }\n",
       "</style>\n",
       "<table border=\"1\" class=\"dataframe\">\n",
       "  <thead>\n",
       "    <tr style=\"text-align: right;\">\n",
       "      <th></th>\n",
       "      <th>mean</th>\n",
       "      <th>sum</th>\n",
       "    </tr>\n",
       "    <tr>\n",
       "      <th>Country</th>\n",
       "      <th></th>\n",
       "      <th></th>\n",
       "    </tr>\n",
       "  </thead>\n",
       "  <tbody>\n",
       "    <tr>\n",
       "      <th>United Kingdom</th>\n",
       "      <td>16.525065</td>\n",
       "      <td>8187806.364</td>\n",
       "    </tr>\n",
       "    <tr>\n",
       "      <th>Netherlands</th>\n",
       "      <td>120.059696</td>\n",
       "      <td>284661.540</td>\n",
       "    </tr>\n",
       "    <tr>\n",
       "      <th>EIRE</th>\n",
       "      <td>32.122599</td>\n",
       "      <td>263276.820</td>\n",
       "    </tr>\n",
       "    <tr>\n",
       "      <th>Germany</th>\n",
       "      <td>23.348943</td>\n",
       "      <td>221698.210</td>\n",
       "    </tr>\n",
       "    <tr>\n",
       "      <th>France</th>\n",
       "      <td>23.069288</td>\n",
       "      <td>197403.900</td>\n",
       "    </tr>\n",
       "    <tr>\n",
       "      <th>Australia</th>\n",
       "      <td>108.877895</td>\n",
       "      <td>137077.270</td>\n",
       "    </tr>\n",
       "    <tr>\n",
       "      <th>Switzerland</th>\n",
       "      <td>28.164510</td>\n",
       "      <td>56385.350</td>\n",
       "    </tr>\n",
       "    <tr>\n",
       "      <th>Spain</th>\n",
       "      <td>21.624390</td>\n",
       "      <td>54774.580</td>\n",
       "    </tr>\n",
       "    <tr>\n",
       "      <th>Belgium</th>\n",
       "      <td>19.773301</td>\n",
       "      <td>40910.960</td>\n",
       "    </tr>\n",
       "    <tr>\n",
       "      <th>Sweden</th>\n",
       "      <td>79.211926</td>\n",
       "      <td>36595.910</td>\n",
       "    </tr>\n",
       "  </tbody>\n",
       "</table>\n",
       "</div>"
      ],
      "text/plain": [
       "                      mean          sum\n",
       "Country                                \n",
       "United Kingdom   16.525065  8187806.364\n",
       "Netherlands     120.059696   284661.540\n",
       "EIRE             32.122599   263276.820\n",
       "Germany          23.348943   221698.210\n",
       "France           23.069288   197403.900\n",
       "Australia       108.877895   137077.270\n",
       "Switzerland      28.164510    56385.350\n",
       "Spain            21.624390    54774.580\n",
       "Belgium          19.773301    40910.960\n",
       "Sweden           79.211926    36595.910"
      ]
     },
     "execution_count": 18,
     "metadata": {},
     "output_type": "execute_result"
    }
   ],
   "source": [
    "# 매출액 상위 10개 국가\n",
    "top_sale_country = df.groupby(\"Country\")[\"totalPrice\"].agg([\"mean\", \"sum\"]).sort_values(\"sum\", ascending=False).head(10)\n",
    "top_sale_country"
   ]
  },
  {
   "cell_type": "code",
   "execution_count": 19,
   "metadata": {},
   "outputs": [
    {
     "data": {
      "text/plain": [
       "<matplotlib.axes._subplots.AxesSubplot at 0x7fa4cb523410>"
      ]
     },
     "execution_count": 19,
     "metadata": {},
     "output_type": "execute_result"
    },
    {
     "data": {
      "image/png": "[encoded data removed]",
      "text/plain": [
       "<Figure size 432x288 with 2 Axes>"
      ]
     },
     "metadata": {
      "needs_background": "light"
     },
     "output_type": "display_data"
    }
   ],
   "source": [
    "top_sale_country.plot.bar(secondary_y=\"mean\", rot=60)"
   ]
  },
  {
   "cell_type": "markdown",
   "metadata": {},
   "source": [
    "## 고객별 구매 취소 비율"
   ]
  },
  {
   "cell_type": "code",
   "execution_count": 20,
   "metadata": {},
   "outputs": [],
   "source": [
    "df[\"Cancel\"] = df[\"Quantity\"] < 0"
   ]
  },
  {
   "cell_type": "code",
   "execution_count": 21,
   "metadata": {},
   "outputs": [
    {
     "data": {
      "text/html": [
       "<div>\n",
       "<style scoped>\n",
       "    .dataframe tbody tr th:only-of-type {\n",
       "        vertical-align: middle;\n",
       "    }\n",
       "\n",
       "    .dataframe tbody tr th {\n",
       "        vertical-align: top;\n",
       "    }\n",
       "\n",
       "    .dataframe thead th {\n",
       "        text-align: right;\n",
       "    }\n",
       "</style>\n",
       "<table border=\"1\" class=\"dataframe\">\n",
       "  <thead>\n",
       "    <tr style=\"text-align: right;\">\n",
       "      <th>Cancel</th>\n",
       "      <th>False</th>\n",
       "      <th>True</th>\n",
       "      <th>cancel_ratio</th>\n",
       "    </tr>\n",
       "    <tr>\n",
       "      <th>CustomerID</th>\n",
       "      <th></th>\n",
       "      <th></th>\n",
       "      <th></th>\n",
       "    </tr>\n",
       "  </thead>\n",
       "  <tbody>\n",
       "    <tr>\n",
       "      <th>14911.0</th>\n",
       "      <td>5677.0</td>\n",
       "      <td>226.0</td>\n",
       "      <td>3.980976</td>\n",
       "    </tr>\n",
       "    <tr>\n",
       "      <th>17841.0</th>\n",
       "      <td>7847.0</td>\n",
       "      <td>136.0</td>\n",
       "      <td>1.733146</td>\n",
       "    </tr>\n",
       "    <tr>\n",
       "      <th>17511.0</th>\n",
       "      <td>963.0</td>\n",
       "      <td>113.0</td>\n",
       "      <td>11.734164</td>\n",
       "    </tr>\n",
       "    <tr>\n",
       "      <th>15311.0</th>\n",
       "      <td>2379.0</td>\n",
       "      <td>112.0</td>\n",
       "      <td>4.707860</td>\n",
       "    </tr>\n",
       "    <tr>\n",
       "      <th>12607.0</th>\n",
       "      <td>101.0</td>\n",
       "      <td>101.0</td>\n",
       "      <td>100.000000</td>\n",
       "    </tr>\n",
       "    <tr>\n",
       "      <th>14410.0</th>\n",
       "      <td>194.0</td>\n",
       "      <td>93.0</td>\n",
       "      <td>47.938144</td>\n",
       "    </tr>\n",
       "    <tr>\n",
       "      <th>13798.0</th>\n",
       "      <td>349.0</td>\n",
       "      <td>90.0</td>\n",
       "      <td>25.787966</td>\n",
       "    </tr>\n",
       "    <tr>\n",
       "      <th>14606.0</th>\n",
       "      <td>2700.0</td>\n",
       "      <td>82.0</td>\n",
       "      <td>3.037037</td>\n",
       "    </tr>\n",
       "    <tr>\n",
       "      <th>13113.0</th>\n",
       "      <td>201.0</td>\n",
       "      <td>79.0</td>\n",
       "      <td>39.303483</td>\n",
       "    </tr>\n",
       "    <tr>\n",
       "      <th>12471.0</th>\n",
       "      <td>460.0</td>\n",
       "      <td>71.0</td>\n",
       "      <td>15.434783</td>\n",
       "    </tr>\n",
       "  </tbody>\n",
       "</table>\n",
       "</div>"
      ],
      "text/plain": [
       "Cancel       False   True  cancel_ratio\n",
       "CustomerID                             \n",
       "14911.0     5677.0  226.0      3.980976\n",
       "17841.0     7847.0  136.0      1.733146\n",
       "17511.0      963.0  113.0     11.734164\n",
       "15311.0     2379.0  112.0      4.707860\n",
       "12607.0      101.0  101.0    100.000000\n",
       "14410.0      194.0   93.0     47.938144\n",
       "13798.0      349.0   90.0     25.787966\n",
       "14606.0     2700.0   82.0      3.037037\n",
       "13113.0      201.0   79.0     39.303483\n",
       "12471.0      460.0   71.0     15.434783"
      ]
     },
     "execution_count": 21,
     "metadata": {},
     "output_type": "execute_result"
    }
   ],
   "source": [
    "cancel_customer = df.groupby([\"CustomerID\", \"Cancel\"])[\"InvoiceNo\"].count().unstack()\n",
    "cancel_customer[\"cancel_ratio\"] = (cancel_customer[True] / cancel_customer[False]) * 100\n",
    "cancel_customer.sort_values(True, ascending=False).head(10)"
   ]
  },
  {
   "cell_type": "markdown",
   "metadata": {},
   "source": [
    "### 구매 취소 건 조회"
   ]
  },
  {
   "cell_type": "code",
   "execution_count": 22,
   "metadata": {},
   "outputs": [
    {
     "data": {
      "text/html": [
       "<div>\n",
       "<style scoped>\n",
       "    .dataframe tbody tr th:only-of-type {\n",
       "        vertical-align: middle;\n",
       "    }\n",
       "\n",
       "    .dataframe tbody tr th {\n",
       "        vertical-align: top;\n",
       "    }\n",
       "\n",
       "    .dataframe thead th {\n",
       "        text-align: right;\n",
       "    }\n",
       "</style>\n",
       "<table border=\"1\" class=\"dataframe\">\n",
       "  <thead>\n",
       "    <tr style=\"text-align: right;\">\n",
       "      <th></th>\n",
       "      <th>InvoiceNo</th>\n",
       "      <th>StockCode</th>\n",
       "      <th>Description</th>\n",
       "      <th>Quantity</th>\n",
       "      <th>InvoiceDate</th>\n",
       "      <th>UnitPrice</th>\n",
       "      <th>CustomerID</th>\n",
       "      <th>Country</th>\n",
       "      <th>totalPrice</th>\n",
       "      <th>id_null</th>\n",
       "      <th>Cancel</th>\n",
       "    </tr>\n",
       "  </thead>\n",
       "  <tbody>\n",
       "    <tr>\n",
       "      <th>1404</th>\n",
       "      <td>536540</td>\n",
       "      <td>22968</td>\n",
       "      <td>ROSE COTTAGE KEEPSAKE BOX</td>\n",
       "      <td>4</td>\n",
       "      <td>2010-12-01 14:05:00</td>\n",
       "      <td>9.95</td>\n",
       "      <td>14911.0</td>\n",
       "      <td>EIRE</td>\n",
       "      <td>39.8</td>\n",
       "      <td>False</td>\n",
       "      <td>False</td>\n",
       "    </tr>\n",
       "    <tr>\n",
       "      <th>1405</th>\n",
       "      <td>536540</td>\n",
       "      <td>85071A</td>\n",
       "      <td>BLUE CHARLIE+LOLA PERSONAL DOORSIGN</td>\n",
       "      <td>6</td>\n",
       "      <td>2010-12-01 14:05:00</td>\n",
       "      <td>2.95</td>\n",
       "      <td>14911.0</td>\n",
       "      <td>EIRE</td>\n",
       "      <td>17.7</td>\n",
       "      <td>False</td>\n",
       "      <td>False</td>\n",
       "    </tr>\n",
       "    <tr>\n",
       "      <th>1406</th>\n",
       "      <td>536540</td>\n",
       "      <td>85071C</td>\n",
       "      <td>CHARLIE+LOLA\"EXTREMELY BUSY\" SIGN</td>\n",
       "      <td>6</td>\n",
       "      <td>2010-12-01 14:05:00</td>\n",
       "      <td>2.55</td>\n",
       "      <td>14911.0</td>\n",
       "      <td>EIRE</td>\n",
       "      <td>15.3</td>\n",
       "      <td>False</td>\n",
       "      <td>False</td>\n",
       "    </tr>\n",
       "    <tr>\n",
       "      <th>1407</th>\n",
       "      <td>536540</td>\n",
       "      <td>22355</td>\n",
       "      <td>CHARLOTTE BAG SUKI DESIGN</td>\n",
       "      <td>50</td>\n",
       "      <td>2010-12-01 14:05:00</td>\n",
       "      <td>0.85</td>\n",
       "      <td>14911.0</td>\n",
       "      <td>EIRE</td>\n",
       "      <td>42.5</td>\n",
       "      <td>False</td>\n",
       "      <td>False</td>\n",
       "    </tr>\n",
       "    <tr>\n",
       "      <th>1408</th>\n",
       "      <td>536540</td>\n",
       "      <td>21579</td>\n",
       "      <td>LOLITA  DESIGN  COTTON TOTE BAG</td>\n",
       "      <td>6</td>\n",
       "      <td>2010-12-01 14:05:00</td>\n",
       "      <td>2.25</td>\n",
       "      <td>14911.0</td>\n",
       "      <td>EIRE</td>\n",
       "      <td>13.5</td>\n",
       "      <td>False</td>\n",
       "      <td>False</td>\n",
       "    </tr>\n",
       "    <tr>\n",
       "      <th>...</th>\n",
       "      <td>...</td>\n",
       "      <td>...</td>\n",
       "      <td>...</td>\n",
       "      <td>...</td>\n",
       "      <td>...</td>\n",
       "      <td>...</td>\n",
       "      <td>...</td>\n",
       "      <td>...</td>\n",
       "      <td>...</td>\n",
       "      <td>...</td>\n",
       "      <td>...</td>\n",
       "    </tr>\n",
       "    <tr>\n",
       "      <th>539151</th>\n",
       "      <td>581433</td>\n",
       "      <td>22192</td>\n",
       "      <td>BLUE DINER WALL CLOCK</td>\n",
       "      <td>2</td>\n",
       "      <td>2011-12-08 15:54:00</td>\n",
       "      <td>8.50</td>\n",
       "      <td>14911.0</td>\n",
       "      <td>EIRE</td>\n",
       "      <td>17.0</td>\n",
       "      <td>False</td>\n",
       "      <td>False</td>\n",
       "    </tr>\n",
       "    <tr>\n",
       "      <th>539152</th>\n",
       "      <td>581433</td>\n",
       "      <td>48187</td>\n",
       "      <td>DOORMAT NEW ENGLAND</td>\n",
       "      <td>2</td>\n",
       "      <td>2011-12-08 15:54:00</td>\n",
       "      <td>8.25</td>\n",
       "      <td>14911.0</td>\n",
       "      <td>EIRE</td>\n",
       "      <td>16.5</td>\n",
       "      <td>False</td>\n",
       "      <td>False</td>\n",
       "    </tr>\n",
       "    <tr>\n",
       "      <th>539153</th>\n",
       "      <td>581433</td>\n",
       "      <td>48184</td>\n",
       "      <td>DOORMAT ENGLISH ROSE</td>\n",
       "      <td>2</td>\n",
       "      <td>2011-12-08 15:54:00</td>\n",
       "      <td>8.25</td>\n",
       "      <td>14911.0</td>\n",
       "      <td>EIRE</td>\n",
       "      <td>16.5</td>\n",
       "      <td>False</td>\n",
       "      <td>False</td>\n",
       "    </tr>\n",
       "    <tr>\n",
       "      <th>539154</th>\n",
       "      <td>581433</td>\n",
       "      <td>20685</td>\n",
       "      <td>DOORMAT RED RETROSPOT</td>\n",
       "      <td>2</td>\n",
       "      <td>2011-12-08 15:54:00</td>\n",
       "      <td>8.25</td>\n",
       "      <td>14911.0</td>\n",
       "      <td>EIRE</td>\n",
       "      <td>16.5</td>\n",
       "      <td>False</td>\n",
       "      <td>False</td>\n",
       "    </tr>\n",
       "    <tr>\n",
       "      <th>539155</th>\n",
       "      <td>581433</td>\n",
       "      <td>79302M</td>\n",
       "      <td>ART LIGHTS,FUNK MONKEY</td>\n",
       "      <td>6</td>\n",
       "      <td>2011-12-08 15:54:00</td>\n",
       "      <td>2.95</td>\n",
       "      <td>14911.0</td>\n",
       "      <td>EIRE</td>\n",
       "      <td>17.7</td>\n",
       "      <td>False</td>\n",
       "      <td>False</td>\n",
       "    </tr>\n",
       "  </tbody>\n",
       "</table>\n",
       "<p>5903 rows × 11 columns</p>\n",
       "</div>"
      ],
      "text/plain": [
       "       InvoiceNo StockCode                          Description  Quantity  \\\n",
       "1404      536540     22968           ROSE COTTAGE KEEPSAKE BOX          4   \n",
       "1405      536540    85071A  BLUE CHARLIE+LOLA PERSONAL DOORSIGN         6   \n",
       "1406      536540    85071C    CHARLIE+LOLA\"EXTREMELY BUSY\" SIGN         6   \n",
       "1407      536540     22355            CHARLOTTE BAG SUKI DESIGN        50   \n",
       "1408      536540     21579      LOLITA  DESIGN  COTTON TOTE BAG         6   \n",
       "...          ...       ...                                  ...       ...   \n",
       "539151    581433     22192                BLUE DINER WALL CLOCK         2   \n",
       "539152    581433     48187                  DOORMAT NEW ENGLAND         2   \n",
       "539153    581433     48184                DOORMAT ENGLISH ROSE          2   \n",
       "539154    581433     20685                DOORMAT RED RETROSPOT         2   \n",
       "539155    581433    79302M               ART LIGHTS,FUNK MONKEY         6   \n",
       "\n",
       "               InvoiceDate  UnitPrice  CustomerID Country  totalPrice  \\\n",
       "1404   2010-12-01 14:05:00       9.95     14911.0    EIRE        39.8   \n",
       "1405   2010-12-01 14:05:00       2.95     14911.0    EIRE        17.7   \n",
       "1406   2010-12-01 14:05:00       2.55     14911.0    EIRE        15.3   \n",
       "1407   2010-12-01 14:05:00       0.85     14911.0    EIRE        42.5   \n",
       "1408   2010-12-01 14:05:00       2.25     14911.0    EIRE        13.5   \n",
       "...                    ...        ...         ...     ...         ...   \n",
       "539151 2011-12-08 15:54:00       8.50     14911.0    EIRE        17.0   \n",
       "539152 2011-12-08 15:54:00       8.25     14911.0    EIRE        16.5   \n",
       "539153 2011-12-08 15:54:00       8.25     14911.0    EIRE        16.5   \n",
       "539154 2011-12-08 15:54:00       8.25     14911.0    EIRE        16.5   \n",
       "539155 2011-12-08 15:54:00       2.95     14911.0    EIRE        17.7   \n",
       "\n",
       "        id_null  Cancel  \n",
       "1404      False   False  \n",
       "1405      False   False  \n",
       "1406      False   False  \n",
       "1407      False   False  \n",
       "1408      False   False  \n",
       "...         ...     ...  \n",
       "539151    False   False  \n",
       "539152    False   False  \n",
       "539153    False   False  \n",
       "539154    False   False  \n",
       "539155    False   False  \n",
       "\n",
       "[5903 rows x 11 columns]"
      ]
     },
     "execution_count": 22,
     "metadata": {},
     "output_type": "execute_result"
    }
   ],
   "source": [
    "df[df[\"CustomerID\"] == 14911]"
   ]
  },
  {
   "cell_type": "markdown",
   "metadata": {},
   "source": [
    "### 제품별 구매 취소 비율"
   ]
  },
  {
   "cell_type": "code",
   "execution_count": 23,
   "metadata": {},
   "outputs": [
    {
     "data": {
      "text/html": [
       "<div>\n",
       "<style scoped>\n",
       "    .dataframe tbody tr th:only-of-type {\n",
       "        vertical-align: middle;\n",
       "    }\n",
       "\n",
       "    .dataframe tbody tr th {\n",
       "        vertical-align: top;\n",
       "    }\n",
       "\n",
       "    .dataframe thead th {\n",
       "        text-align: right;\n",
       "    }\n",
       "</style>\n",
       "<table border=\"1\" class=\"dataframe\">\n",
       "  <thead>\n",
       "    <tr style=\"text-align: right;\">\n",
       "      <th>Cancel</th>\n",
       "      <th>False</th>\n",
       "      <th>True</th>\n",
       "      <th>cancel_ratio</th>\n",
       "    </tr>\n",
       "    <tr>\n",
       "      <th>StockCode</th>\n",
       "      <th></th>\n",
       "      <th></th>\n",
       "      <th></th>\n",
       "    </tr>\n",
       "  </thead>\n",
       "  <tbody>\n",
       "    <tr>\n",
       "      <th>M</th>\n",
       "      <td>327.0</td>\n",
       "      <td>244.0</td>\n",
       "      <td>74.617737</td>\n",
       "    </tr>\n",
       "    <tr>\n",
       "      <th>22423</th>\n",
       "      <td>2019.0</td>\n",
       "      <td>184.0</td>\n",
       "      <td>9.113422</td>\n",
       "    </tr>\n",
       "    <tr>\n",
       "      <th>POST</th>\n",
       "      <td>1130.0</td>\n",
       "      <td>126.0</td>\n",
       "      <td>11.150442</td>\n",
       "    </tr>\n",
       "    <tr>\n",
       "      <th>22960</th>\n",
       "      <td>1142.0</td>\n",
       "      <td>87.0</td>\n",
       "      <td>7.618214</td>\n",
       "    </tr>\n",
       "    <tr>\n",
       "      <th>D</th>\n",
       "      <td>NaN</td>\n",
       "      <td>77.0</td>\n",
       "      <td>NaN</td>\n",
       "    </tr>\n",
       "    <tr>\n",
       "      <th>22720</th>\n",
       "      <td>1401.0</td>\n",
       "      <td>76.0</td>\n",
       "      <td>5.424697</td>\n",
       "    </tr>\n",
       "    <tr>\n",
       "      <th>S</th>\n",
       "      <td>2.0</td>\n",
       "      <td>61.0</td>\n",
       "      <td>3050.000000</td>\n",
       "    </tr>\n",
       "    <tr>\n",
       "      <th>21232</th>\n",
       "      <td>843.0</td>\n",
       "      <td>61.0</td>\n",
       "      <td>7.236062</td>\n",
       "    </tr>\n",
       "    <tr>\n",
       "      <th>22699</th>\n",
       "      <td>1084.0</td>\n",
       "      <td>54.0</td>\n",
       "      <td>4.981550</td>\n",
       "    </tr>\n",
       "    <tr>\n",
       "      <th>22197</th>\n",
       "      <td>1426.0</td>\n",
       "      <td>50.0</td>\n",
       "      <td>3.506311</td>\n",
       "    </tr>\n",
       "  </tbody>\n",
       "</table>\n",
       "</div>"
      ],
      "text/plain": [
       "Cancel      False   True  cancel_ratio\n",
       "StockCode                             \n",
       "M           327.0  244.0     74.617737\n",
       "22423      2019.0  184.0      9.113422\n",
       "POST       1130.0  126.0     11.150442\n",
       "22960      1142.0   87.0      7.618214\n",
       "D             NaN   77.0           NaN\n",
       "22720      1401.0   76.0      5.424697\n",
       "S             2.0   61.0   3050.000000\n",
       "21232       843.0   61.0      7.236062\n",
       "22699      1084.0   54.0      4.981550\n",
       "22197      1426.0   50.0      3.506311"
      ]
     },
     "execution_count": 23,
     "metadata": {},
     "output_type": "execute_result"
    }
   ],
   "source": [
    "cancel_stock = df.groupby([\"StockCode\", \"Cancel\"])[\"InvoiceNo\"].count().unstack()\n",
    "cancel_stock[\"cancel_ratio\"] = (cancel_stock[True] / cancel_stock[False]) * 100\n",
    "cancel_stock.sort_values(True, ascending=False).head(10)"
   ]
  },
  {
   "cell_type": "markdown",
   "metadata": {},
   "source": [
    "### 국가별 구매 취소 비율"
   ]
  },
  {
   "cell_type": "code",
   "execution_count": 24,
   "metadata": {},
   "outputs": [
    {
     "data": {
      "text/html": [
       "<div>\n",
       "<style scoped>\n",
       "    .dataframe tbody tr th:only-of-type {\n",
       "        vertical-align: middle;\n",
       "    }\n",
       "\n",
       "    .dataframe tbody tr th {\n",
       "        vertical-align: top;\n",
       "    }\n",
       "\n",
       "    .dataframe thead th {\n",
       "        text-align: right;\n",
       "    }\n",
       "</style>\n",
       "<table border=\"1\" class=\"dataframe\">\n",
       "  <thead>\n",
       "    <tr style=\"text-align: right;\">\n",
       "      <th>Cancel</th>\n",
       "      <th>False</th>\n",
       "      <th>True</th>\n",
       "      <th>cancel_ratio</th>\n",
       "    </tr>\n",
       "    <tr>\n",
       "      <th>Country</th>\n",
       "      <th></th>\n",
       "      <th></th>\n",
       "      <th></th>\n",
       "    </tr>\n",
       "  </thead>\n",
       "  <tbody>\n",
       "    <tr>\n",
       "      <th>United Kingdom</th>\n",
       "      <td>486286.0</td>\n",
       "      <td>9192.0</td>\n",
       "      <td>1.890246</td>\n",
       "    </tr>\n",
       "    <tr>\n",
       "      <th>Germany</th>\n",
       "      <td>9042.0</td>\n",
       "      <td>453.0</td>\n",
       "      <td>5.009954</td>\n",
       "    </tr>\n",
       "    <tr>\n",
       "      <th>EIRE</th>\n",
       "      <td>7894.0</td>\n",
       "      <td>302.0</td>\n",
       "      <td>3.825690</td>\n",
       "    </tr>\n",
       "    <tr>\n",
       "      <th>France</th>\n",
       "      <td>8408.0</td>\n",
       "      <td>149.0</td>\n",
       "      <td>1.772122</td>\n",
       "    </tr>\n",
       "    <tr>\n",
       "      <th>USA</th>\n",
       "      <td>179.0</td>\n",
       "      <td>112.0</td>\n",
       "      <td>62.569832</td>\n",
       "    </tr>\n",
       "    <tr>\n",
       "      <th>Australia</th>\n",
       "      <td>1185.0</td>\n",
       "      <td>74.0</td>\n",
       "      <td>6.244726</td>\n",
       "    </tr>\n",
       "    <tr>\n",
       "      <th>Spain</th>\n",
       "      <td>2485.0</td>\n",
       "      <td>48.0</td>\n",
       "      <td>1.931590</td>\n",
       "    </tr>\n",
       "    <tr>\n",
       "      <th>Italy</th>\n",
       "      <td>758.0</td>\n",
       "      <td>45.0</td>\n",
       "      <td>5.936675</td>\n",
       "    </tr>\n",
       "    <tr>\n",
       "      <th>Belgium</th>\n",
       "      <td>2031.0</td>\n",
       "      <td>38.0</td>\n",
       "      <td>1.871000</td>\n",
       "    </tr>\n",
       "    <tr>\n",
       "      <th>Japan</th>\n",
       "      <td>321.0</td>\n",
       "      <td>37.0</td>\n",
       "      <td>11.526480</td>\n",
       "    </tr>\n",
       "  </tbody>\n",
       "</table>\n",
       "</div>"
      ],
      "text/plain": [
       "Cancel             False    True  cancel_ratio\n",
       "Country                                       \n",
       "United Kingdom  486286.0  9192.0      1.890246\n",
       "Germany           9042.0   453.0      5.009954\n",
       "EIRE              7894.0   302.0      3.825690\n",
       "France            8408.0   149.0      1.772122\n",
       "USA                179.0   112.0     62.569832\n",
       "Australia         1185.0    74.0      6.244726\n",
       "Spain             2485.0    48.0      1.931590\n",
       "Italy              758.0    45.0      5.936675\n",
       "Belgium           2031.0    38.0      1.871000\n",
       "Japan              321.0    37.0     11.526480"
      ]
     },
     "execution_count": 24,
     "metadata": {},
     "output_type": "execute_result"
    }
   ],
   "source": [
    "cancel_country = df.groupby([\"Country\", \"Cancel\"])[\"InvoiceNo\"].count().unstack()\n",
    "cancel_country[\"cancel_ratio\"] = (cancel_country[True] / cancel_country[False]) * 100\n",
    "cancel_country.sort_values(True, ascending=False).head(10)"
   ]
  },
  {
   "cell_type": "markdown",
   "metadata": {},
   "source": [
    "## 날짜와 시간"
   ]
  },
  {
   "cell_type": "code",
   "execution_count": 25,
   "metadata": {},
   "outputs": [],
   "source": [
    "df[\"InvoiceYear\"] = df[\"InvoiceDate\"].dt.year\n",
    "df[\"InvoiceMonth\"] = df[\"InvoiceDate\"].dt.month\n",
    "df[\"InvoiceDay\"] = df[\"InvoiceDate\"].dt.day\n",
    "df[\"InvoiceDow\"] = df[\"InvoiceDate\"].dt.dayofweek"
   ]
  },
  {
   "cell_type": "code",
   "execution_count": 26,
   "metadata": {},
   "outputs": [],
   "source": [
    "df[\"InvoiceDayname\"] = df[\"InvoiceDate\"].dt.day_name()"
   ]
  },
  {
   "cell_type": "code",
   "execution_count": 27,
   "metadata": {},
   "outputs": [],
   "source": [
    "df[\"InvoiceYM\"] = df[\"InvoiceDate\"].astype(str).str[:7]"
   ]
  },
  {
   "cell_type": "code",
   "execution_count": 28,
   "metadata": {},
   "outputs": [],
   "source": [
    "df[\"InvoiceTime\"] = df[\"InvoiceDate\"].dt.time\n",
    "df[\"InvoiceHour\"] = df[\"InvoiceDate\"].dt.hour"
   ]
  },
  {
   "cell_type": "code",
   "execution_count": 29,
   "metadata": {},
   "outputs": [
    {
     "data": {
      "text/plain": [
       "<matplotlib.axes._subplots.AxesSubplot at 0x7fa4ea33b190>"
      ]
     },
     "execution_count": 29,
     "metadata": {},
     "output_type": "execute_result"
    },
    {
     "data": {
      "image/png": "[encoded data removed]",
      "text/plain": [
       "<Figure size 432x288 with 1 Axes>"
      ]
     },
     "metadata": {
      "needs_background": "light"
     },
     "output_type": "display_data"
    }
   ],
   "source": [
    "sns.countplot(data=df, x=\"InvoiceYear\")"
   ]
  },
  {
   "cell_type": "code",
   "execution_count": 30,
   "metadata": {},
   "outputs": [
    {
     "data": {
      "text/plain": [
       "<matplotlib.axes._subplots.AxesSubplot at 0x7fa4e952bcd0>"
      ]
     },
     "execution_count": 30,
     "metadata": {},
     "output_type": "execute_result"
    },
    {
     "data": {
      "image/png": "[encoded data removed]",
      "text/plain": [
       "<Figure size 432x288 with 1 Axes>"
      ]
     },
     "metadata": {
      "needs_background": "light"
     },
     "output_type": "display_data"
    }
   ],
   "source": [
    "sns.countplot(data=df, x=\"InvoiceMonth\")"
   ]
  },
  {
   "cell_type": "code",
   "execution_count": 31,
   "metadata": {},
   "outputs": [
    {
     "data": {
      "text/plain": [
       "<matplotlib.axes._subplots.AxesSubplot at 0x7fa4e9518cd0>"
      ]
     },
     "execution_count": 31,
     "metadata": {},
     "output_type": "execute_result"
    },
    {
     "data": {
      "image/png": "[encoded data removed]",
      "text/plain": [
       "<Figure size 864x288 with 1 Axes>"
      ]
     },
     "metadata": {
      "needs_background": "light"
     },
     "output_type": "display_data"
    }
   ],
   "source": [
    "plt.figure(figsize=(12, 4))\n",
    "sns.countplot(data=df, x=\"InvoiceYM\", palette=\"Blues\")"
   ]
  },
  {
   "cell_type": "code",
   "execution_count": 32,
   "metadata": {},
   "outputs": [
    {
     "data": {
      "text/plain": [
       "<matplotlib.axes._subplots.AxesSubplot at 0x7fa4baa78810>"
      ]
     },
     "execution_count": 32,
     "metadata": {},
     "output_type": "execute_result"
    },
    {
     "data": {
      "image/png": "[encoded data removed]",
      "text/plain": [
       "<Figure size 864x288 with 1 Axes>"
      ]
     },
     "metadata": {
      "needs_background": "light"
     },
     "output_type": "display_data"
    }
   ],
   "source": [
    "plt.figure(figsize=(12, 4))\n",
    "sns.countplot(data=df, x=\"InvoiceHour\", palette=\"Blues\")"
   ]
  },
  {
   "cell_type": "code",
   "execution_count": 33,
   "metadata": {},
   "outputs": [
    {
     "data": {
      "text/plain": [
       "<matplotlib.axes._subplots.AxesSubplot at 0x7fa4cb4d9790>"
      ]
     },
     "execution_count": 33,
     "metadata": {},
     "output_type": "execute_result"
    },
    {
     "data": {
      "image/png": "[encoded data removed]",
      "text/plain": [
       "<Figure size 432x288 with 1 Axes>"
      ]
     },
     "metadata": {
      "needs_background": "light"
     },
     "output_type": "display_data"
    }
   ],
   "source": [
    "sns.countplot(data=df.sort_values(\"InvoiceDow\"), x=\"InvoiceDayname\")"
   ]
  },
  {
   "cell_type": "code",
   "execution_count": 34,
   "metadata": {},
   "outputs": [
    {
     "data": {
      "text/plain": [
       "<matplotlib.axes._subplots.AxesSubplot at 0x7fa4bb62a650>"
      ]
     },
     "execution_count": 34,
     "metadata": {},
     "output_type": "execute_result"
    },
    {
     "data": {
      "image/png": "[encoded data removed]",
      "text/plain": [
       "<Figure size 432x288 with 1 Axes>"
      ]
     },
     "metadata": {
      "needs_background": "light"
     },
     "output_type": "display_data"
    }
   ],
   "source": [
    "sns.countplot(data=df.sort_values(\"InvoiceDow\"), x=\"InvoiceDayname\", hue=\"Cancel\")"
   ]
  },
  {
   "cell_type": "code",
   "execution_count": 35,
   "metadata": {},
   "outputs": [
    {
     "data": {
      "text/plain": [
       "<matplotlib.axes._subplots.AxesSubplot at 0x7fa4dcd10b50>"
      ]
     },
     "execution_count": 35,
     "metadata": {},
     "output_type": "execute_result"
    },
    {
     "data": {
      "image/png": "[encoded data removed]",
      "text/plain": [
       "<Figure size 432x288 with 1 Axes>"
      ]
     },
     "metadata": {
      "needs_background": "light"
     },
     "output_type": "display_data"
    }
   ],
   "source": [
    "plt.title(\"요일 별 구매 취소\")\n",
    "sns.countplot(data=df[df[\"Cancel\"]].sort_values(\"InvoiceDow\"), x=\"InvoiceDayname\", hue=\"Cancel\")"
   ]
  },
  {
   "cell_type": "code",
   "execution_count": 36,
   "metadata": {},
   "outputs": [
    {
     "data": {
      "text/plain": [
       "['월', '화', '수', '목', '금', '토', '일']"
      ]
     },
     "execution_count": 36,
     "metadata": {},
     "output_type": "execute_result"
    }
   ],
   "source": [
    "[w for w in \"월화수목금토일\"]"
   ]
  },
  {
   "cell_type": "code",
   "execution_count": 37,
   "metadata": {},
   "outputs": [
    {
     "data": {
      "text/html": [
       "<style type=\"text/css\">\n",
       "#T_8ad04_row0_col0, #T_8ad04_row0_col1, #T_8ad04_row0_col2, #T_8ad04_row0_col3, #T_8ad04_row0_col4, #T_8ad04_row0_col5, #T_8ad04_row1_col2, #T_8ad04_row1_col3, #T_8ad04_row1_col5, #T_8ad04_row2_col5, #T_8ad04_row3_col5, #T_8ad04_row11_col5, #T_8ad04_row12_col2, #T_8ad04_row12_col4, #T_8ad04_row12_col5, #T_8ad04_row13_col0, #T_8ad04_row13_col1, #T_8ad04_row13_col2, #T_8ad04_row13_col5, #T_8ad04_row14_col0, #T_8ad04_row14_col1, #T_8ad04_row14_col2, #T_8ad04_row14_col4, #T_8ad04_row14_col5 {\n",
       "  background-color: #fff7fb;\n",
       "  color: #000000;\n",
       "}\n",
       "#T_8ad04_row1_col0, #T_8ad04_row1_col1, #T_8ad04_row13_col4 {\n",
       "  background-color: #fef6fb;\n",
       "  color: #000000;\n",
       "}\n",
       "#T_8ad04_row1_col4 {\n",
       "  background-color: #fef6fa;\n",
       "  color: #000000;\n",
       "}\n",
       "#T_8ad04_row2_col0 {\n",
       "  background-color: #ede8f3;\n",
       "  color: #000000;\n",
       "}\n",
       "#T_8ad04_row2_col1 {\n",
       "  background-color: #efe9f3;\n",
       "  color: #000000;\n",
       "}\n",
       "#T_8ad04_row2_col2 {\n",
       "  background-color: #eee9f3;\n",
       "  color: #000000;\n",
       "}\n",
       "#T_8ad04_row2_col3 {\n",
       "  background-color: #eae6f1;\n",
       "  color: #000000;\n",
       "}\n",
       "#T_8ad04_row2_col4 {\n",
       "  background-color: #e5e1ef;\n",
       "  color: #000000;\n",
       "}\n",
       "#T_8ad04_row3_col0 {\n",
       "  background-color: #62a2cb;\n",
       "  color: #f1f1f1;\n",
       "}\n",
       "#T_8ad04_row3_col1, #T_8ad04_row12_col3 {\n",
       "  background-color: #9cb9d9;\n",
       "  color: #000000;\n",
       "}\n",
       "#T_8ad04_row3_col2 {\n",
       "  background-color: #bbc7e0;\n",
       "  color: #000000;\n",
       "}\n",
       "#T_8ad04_row3_col3 {\n",
       "  background-color: #4496c3;\n",
       "  color: #f1f1f1;\n",
       "}\n",
       "#T_8ad04_row3_col4 {\n",
       "  background-color: #3f93c2;\n",
       "  color: #f1f1f1;\n",
       "}\n",
       "#T_8ad04_row4_col0 {\n",
       "  background-color: #328dbf;\n",
       "  color: #f1f1f1;\n",
       "}\n",
       "#T_8ad04_row4_col1 {\n",
       "  background-color: #529bc7;\n",
       "  color: #f1f1f1;\n",
       "}\n",
       "#T_8ad04_row4_col2 {\n",
       "  background-color: #7dacd1;\n",
       "  color: #f1f1f1;\n",
       "}\n",
       "#T_8ad04_row4_col3 {\n",
       "  background-color: #1c7fb8;\n",
       "  color: #f1f1f1;\n",
       "}\n",
       "#T_8ad04_row4_col4 {\n",
       "  background-color: #045b8e;\n",
       "  color: #f1f1f1;\n",
       "}\n",
       "#T_8ad04_row4_col5, #T_8ad04_row13_col3 {\n",
       "  background-color: #cccfe5;\n",
       "  color: #000000;\n",
       "}\n",
       "#T_8ad04_row5_col0 {\n",
       "  background-color: #308cbe;\n",
       "  color: #f1f1f1;\n",
       "}\n",
       "#T_8ad04_row5_col1 {\n",
       "  background-color: #358fc0;\n",
       "  color: #f1f1f1;\n",
       "}\n",
       "#T_8ad04_row5_col2 {\n",
       "  background-color: #4094c3;\n",
       "  color: #f1f1f1;\n",
       "}\n",
       "#T_8ad04_row5_col3 {\n",
       "  background-color: #3991c1;\n",
       "  color: #f1f1f1;\n",
       "}\n",
       "#T_8ad04_row5_col4 {\n",
       "  background-color: #04649d;\n",
       "  color: #f1f1f1;\n",
       "}\n",
       "#T_8ad04_row5_col5 {\n",
       "  background-color: #0569a4;\n",
       "  color: #f1f1f1;\n",
       "}\n",
       "#T_8ad04_row6_col0 {\n",
       "  background-color: #045f95;\n",
       "  color: #f1f1f1;\n",
       "}\n",
       "#T_8ad04_row6_col1, #T_8ad04_row7_col4 {\n",
       "  background-color: #045585;\n",
       "  color: #f1f1f1;\n",
       "}\n",
       "#T_8ad04_row6_col2 {\n",
       "  background-color: #04588a;\n",
       "  color: #f1f1f1;\n",
       "}\n",
       "#T_8ad04_row6_col3, #T_8ad04_row6_col5, #T_8ad04_row8_col4, #T_8ad04_row9_col0, #T_8ad04_row9_col1, #T_8ad04_row9_col2 {\n",
       "  background-color: #023858;\n",
       "  color: #f1f1f1;\n",
       "}\n",
       "#T_8ad04_row6_col4 {\n",
       "  background-color: #034a74;\n",
       "  color: #f1f1f1;\n",
       "}\n",
       "#T_8ad04_row7_col0 {\n",
       "  background-color: #034f7d;\n",
       "  color: #f1f1f1;\n",
       "}\n",
       "#T_8ad04_row7_col1 {\n",
       "  background-color: #0569a5;\n",
       "  color: #f1f1f1;\n",
       "}\n",
       "#T_8ad04_row7_col2 {\n",
       "  background-color: #1077b4;\n",
       "  color: #f1f1f1;\n",
       "}\n",
       "#T_8ad04_row7_col3 {\n",
       "  background-color: #034d79;\n",
       "  color: #f1f1f1;\n",
       "}\n",
       "#T_8ad04_row7_col5 {\n",
       "  background-color: #045788;\n",
       "  color: #f1f1f1;\n",
       "}\n",
       "#T_8ad04_row8_col0 {\n",
       "  background-color: #04639b;\n",
       "  color: #f1f1f1;\n",
       "}\n",
       "#T_8ad04_row8_col1 {\n",
       "  background-color: #0d75b3;\n",
       "  color: #f1f1f1;\n",
       "}\n",
       "#T_8ad04_row8_col2 {\n",
       "  background-color: #2685bb;\n",
       "  color: #f1f1f1;\n",
       "}\n",
       "#T_8ad04_row8_col3 {\n",
       "  background-color: #045e93;\n",
       "  color: #f1f1f1;\n",
       "}\n",
       "#T_8ad04_row8_col5 {\n",
       "  background-color: #0a73b2;\n",
       "  color: #f1f1f1;\n",
       "}\n",
       "#T_8ad04_row9_col3 {\n",
       "  background-color: #04598c;\n",
       "  color: #f1f1f1;\n",
       "}\n",
       "#T_8ad04_row9_col4 {\n",
       "  background-color: #056caa;\n",
       "  color: #f1f1f1;\n",
       "}\n",
       "#T_8ad04_row9_col5, #T_8ad04_row10_col1 {\n",
       "  background-color: #0771b1;\n",
       "  color: #f1f1f1;\n",
       "}\n",
       "#T_8ad04_row10_col0 {\n",
       "  background-color: #2081b9;\n",
       "  color: #f1f1f1;\n",
       "}\n",
       "#T_8ad04_row10_col2 {\n",
       "  background-color: #2c89bd;\n",
       "  color: #f1f1f1;\n",
       "}\n",
       "#T_8ad04_row10_col3 {\n",
       "  background-color: #045a8d;\n",
       "  color: #f1f1f1;\n",
       "}\n",
       "#T_8ad04_row10_col4 {\n",
       "  background-color: #5c9fc9;\n",
       "  color: #f1f1f1;\n",
       "}\n",
       "#T_8ad04_row10_col5 {\n",
       "  background-color: #c0c9e2;\n",
       "  color: #000000;\n",
       "}\n",
       "#T_8ad04_row11_col0 {\n",
       "  background-color: #4a98c5;\n",
       "  color: #f1f1f1;\n",
       "}\n",
       "#T_8ad04_row11_col1 {\n",
       "  background-color: #acc0dd;\n",
       "  color: #000000;\n",
       "}\n",
       "#T_8ad04_row11_col2 {\n",
       "  background-color: #c1cae2;\n",
       "  color: #000000;\n",
       "}\n",
       "#T_8ad04_row11_col3 {\n",
       "  background-color: #a1bbda;\n",
       "  color: #000000;\n",
       "}\n",
       "#T_8ad04_row11_col4 {\n",
       "  background-color: #a2bcda;\n",
       "  color: #000000;\n",
       "}\n",
       "#T_8ad04_row12_col0 {\n",
       "  background-color: #fbf3f9;\n",
       "  color: #000000;\n",
       "}\n",
       "#T_8ad04_row12_col1 {\n",
       "  background-color: #ebe6f2;\n",
       "  color: #000000;\n",
       "}\n",
       "#T_8ad04_row14_col3 {\n",
       "  background-color: #f6eff7;\n",
       "  color: #000000;\n",
       "}\n",
       "</style>\n",
       "<table id=\"T_8ad04_\">\n",
       "  <thead>\n",
       "    <tr>\n",
       "      <th class=\"blank level0\" >&nbsp;</th>\n",
       "      <th class=\"col_heading level0 col0\" >월</th>\n",
       "      <th class=\"col_heading level0 col1\" >화</th>\n",
       "      <th class=\"col_heading level0 col2\" >수</th>\n",
       "      <th class=\"col_heading level0 col3\" >목</th>\n",
       "      <th class=\"col_heading level0 col4\" >금</th>\n",
       "      <th class=\"col_heading level0 col5\" >일</th>\n",
       "    </tr>\n",
       "    <tr>\n",
       "      <th class=\"index_name level0\" >InvoiceHour</th>\n",
       "      <th class=\"blank col0\" >&nbsp;</th>\n",
       "      <th class=\"blank col1\" >&nbsp;</th>\n",
       "      <th class=\"blank col2\" >&nbsp;</th>\n",
       "      <th class=\"blank col3\" >&nbsp;</th>\n",
       "      <th class=\"blank col4\" >&nbsp;</th>\n",
       "      <th class=\"blank col5\" >&nbsp;</th>\n",
       "    </tr>\n",
       "  </thead>\n",
       "  <tbody>\n",
       "    <tr>\n",
       "      <th id=\"T_8ad04_level0_row0\" class=\"row_heading level0 row0\" >6</th>\n",
       "      <td id=\"T_8ad04_row0_col0\" class=\"data row0 col0\" >0</td>\n",
       "      <td id=\"T_8ad04_row0_col1\" class=\"data row0 col1\" >0</td>\n",
       "      <td id=\"T_8ad04_row0_col2\" class=\"data row0 col2\" >0</td>\n",
       "      <td id=\"T_8ad04_row0_col3\" class=\"data row0 col3\" >41</td>\n",
       "      <td id=\"T_8ad04_row0_col4\" class=\"data row0 col4\" >0</td>\n",
       "      <td id=\"T_8ad04_row0_col5\" class=\"data row0 col5\" >0</td>\n",
       "    </tr>\n",
       "    <tr>\n",
       "      <th id=\"T_8ad04_level0_row1\" class=\"row_heading level0 row1\" >7</th>\n",
       "      <td id=\"T_8ad04_row1_col0\" class=\"data row1 col0\" >61</td>\n",
       "      <td id=\"T_8ad04_row1_col1\" class=\"data row1 col1\" >65</td>\n",
       "      <td id=\"T_8ad04_row1_col2\" class=\"data row1 col2\" >59</td>\n",
       "      <td id=\"T_8ad04_row1_col3\" class=\"data row1 col3\" >64</td>\n",
       "      <td id=\"T_8ad04_row1_col4\" class=\"data row1 col4\" >134</td>\n",
       "      <td id=\"T_8ad04_row1_col5\" class=\"data row1 col5\" >0</td>\n",
       "    </tr>\n",
       "    <tr>\n",
       "      <th id=\"T_8ad04_level0_row2\" class=\"row_heading level0 row2\" >8</th>\n",
       "      <td id=\"T_8ad04_row2_col0\" class=\"data row2 col0\" >1641</td>\n",
       "      <td id=\"T_8ad04_row2_col1\" class=\"data row2 col1\" >1751</td>\n",
       "      <td id=\"T_8ad04_row2_col2\" class=\"data row2 col2\" >1826</td>\n",
       "      <td id=\"T_8ad04_row2_col3\" class=\"data row2 col3\" >1834</td>\n",
       "      <td id=\"T_8ad04_row2_col4\" class=\"data row2 col4\" >1857</td>\n",
       "      <td id=\"T_8ad04_row2_col5\" class=\"data row2 col5\" >0</td>\n",
       "    </tr>\n",
       "    <tr>\n",
       "      <th id=\"T_8ad04_level0_row3\" class=\"row_heading level0 row3\" >9</th>\n",
       "      <td id=\"T_8ad04_row3_col0\" class=\"data row3 col0\" >7497</td>\n",
       "      <td id=\"T_8ad04_row3_col1\" class=\"data row3 col1\" >6440</td>\n",
       "      <td id=\"T_8ad04_row3_col2\" class=\"data row3 col2\" >5186</td>\n",
       "      <td id=\"T_8ad04_row3_col3\" class=\"data row3 col3\" >8060</td>\n",
       "      <td id=\"T_8ad04_row3_col4\" class=\"data row3 col4\" >7119</td>\n",
       "      <td id=\"T_8ad04_row3_col5\" class=\"data row3 col5\" >30</td>\n",
       "    </tr>\n",
       "    <tr>\n",
       "      <th id=\"T_8ad04_level0_row4\" class=\"row_heading level0 row4\" >10</th>\n",
       "      <td id=\"T_8ad04_row4_col0\" class=\"data row4 col0\" >8872</td>\n",
       "      <td id=\"T_8ad04_row4_col1\" class=\"data row4 col1\" >9125</td>\n",
       "      <td id=\"T_8ad04_row4_col2\" class=\"data row4 col2\" >7904</td>\n",
       "      <td id=\"T_8ad04_row4_col3\" class=\"data row4 col3\" >9321</td>\n",
       "      <td id=\"T_8ad04_row4_col4\" class=\"data row4 col4\" >10215</td>\n",
       "      <td id=\"T_8ad04_row4_col5\" class=\"data row4 col5\" >3600</td>\n",
       "    </tr>\n",
       "    <tr>\n",
       "      <th id=\"T_8ad04_level0_row5\" class=\"row_heading level0 row5\" >11</th>\n",
       "      <td id=\"T_8ad04_row5_col0\" class=\"data row5 col0\" >8926</td>\n",
       "      <td id=\"T_8ad04_row5_col1\" class=\"data row5 col1\" >10052</td>\n",
       "      <td id=\"T_8ad04_row5_col2\" class=\"data row5 col2\" >9973</td>\n",
       "      <td id=\"T_8ad04_row5_col3\" class=\"data row5 col3\" >8369</td>\n",
       "      <td id=\"T_8ad04_row5_col4\" class=\"data row5 col4\" >9589</td>\n",
       "      <td id=\"T_8ad04_row5_col5\" class=\"data row5 col5\" >10765</td>\n",
       "    </tr>\n",
       "    <tr>\n",
       "      <th id=\"T_8ad04_level0_row6\" class=\"row_heading level0 row6\" >12</th>\n",
       "      <td id=\"T_8ad04_row6_col0\" class=\"data row6 col0\" >11801</td>\n",
       "      <td id=\"T_8ad04_row6_col1\" class=\"data row6 col1\" >14327</td>\n",
       "      <td id=\"T_8ad04_row6_col2\" class=\"data row6 col2\" >14527</td>\n",
       "      <td id=\"T_8ad04_row6_col3\" class=\"data row6 col3\" >13485</td>\n",
       "      <td id=\"T_8ad04_row6_col4\" class=\"data row6 col4\" >10942</td>\n",
       "      <td id=\"T_8ad04_row6_col5\" class=\"data row6 col5\" >13627</td>\n",
       "    </tr>\n",
       "    <tr>\n",
       "      <th id=\"T_8ad04_level0_row7\" class=\"row_heading level0 row7\" >13</th>\n",
       "      <td id=\"T_8ad04_row7_col0\" class=\"data row7 col0\" >12756</td>\n",
       "      <td id=\"T_8ad04_row7_col1\" class=\"data row7 col1\" >12619</td>\n",
       "      <td id=\"T_8ad04_row7_col2\" class=\"data row7 col2\" >11901</td>\n",
       "      <td id=\"T_8ad04_row7_col3\" class=\"data row7 col3\" >12428</td>\n",
       "      <td id=\"T_8ad04_row7_col4\" class=\"data row7 col4\" >10488</td>\n",
       "      <td id=\"T_8ad04_row7_col5\" class=\"data row7 col5\" >12067</td>\n",
       "    </tr>\n",
       "    <tr>\n",
       "      <th id=\"T_8ad04_level0_row8\" class=\"row_heading level0 row8\" >14</th>\n",
       "      <td id=\"T_8ad04_row8_col0\" class=\"data row8 col0\" >11502</td>\n",
       "      <td id=\"T_8ad04_row8_col1\" class=\"data row8 col1\" >11656</td>\n",
       "      <td id=\"T_8ad04_row8_col2\" class=\"data row8 col2\" >11006</td>\n",
       "      <td id=\"T_8ad04_row8_col3\" class=\"data row8 col3\" >11518</td>\n",
       "      <td id=\"T_8ad04_row8_col4\" class=\"data row8 col4\" >11737</td>\n",
       "      <td id=\"T_8ad04_row8_col5\" class=\"data row8 col5\" >10052</td>\n",
       "    </tr>\n",
       "    <tr>\n",
       "      <th id=\"T_8ad04_level0_row9\" class=\"row_heading level0 row9\" >15</th>\n",
       "      <td id=\"T_8ad04_row9_col0\" class=\"data row9 col0\" >13977</td>\n",
       "      <td id=\"T_8ad04_row9_col1\" class=\"data row9 col1\" >16017</td>\n",
       "      <td id=\"T_8ad04_row9_col2\" class=\"data row9 col2\" >16510</td>\n",
       "      <td id=\"T_8ad04_row9_col3\" class=\"data row9 col3\" >11830</td>\n",
       "      <td id=\"T_8ad04_row9_col4\" class=\"data row9 col4\" >9043</td>\n",
       "      <td id=\"T_8ad04_row9_col5\" class=\"data row9 col5\" >10142</td>\n",
       "    </tr>\n",
       "    <tr>\n",
       "      <th id=\"T_8ad04_level0_row10\" class=\"row_heading level0 row10\" >16</th>\n",
       "      <td id=\"T_8ad04_row10_col0\" class=\"data row10 col0\" >9529</td>\n",
       "      <td id=\"T_8ad04_row10_col1\" class=\"data row10 col1\" >11924</td>\n",
       "      <td id=\"T_8ad04_row10_col2\" class=\"data row10 col2\" >10768</td>\n",
       "      <td id=\"T_8ad04_row10_col3\" class=\"data row10 col3\" >11765</td>\n",
       "      <td id=\"T_8ad04_row10_col4\" class=\"data row10 col4\" >6438</td>\n",
       "      <td id=\"T_8ad04_row10_col5\" class=\"data row10 col5\" >4092</td>\n",
       "    </tr>\n",
       "    <tr>\n",
       "      <th id=\"T_8ad04_level0_row11\" class=\"row_heading level0 row11\" >17</th>\n",
       "      <td id=\"T_8ad04_row11_col0\" class=\"data row11 col0\" >8136</td>\n",
       "      <td id=\"T_8ad04_row11_col1\" class=\"data row11 col1\" >5746</td>\n",
       "      <td id=\"T_8ad04_row11_col2\" class=\"data row11 col2\" >4849</td>\n",
       "      <td id=\"T_8ad04_row11_col3\" class=\"data row11 col3\" >5257</td>\n",
       "      <td id=\"T_8ad04_row11_col4\" class=\"data row11 col4\" >4521</td>\n",
       "      <td id=\"T_8ad04_row11_col5\" class=\"data row11 col5\" >0</td>\n",
       "    </tr>\n",
       "    <tr>\n",
       "      <th id=\"T_8ad04_level0_row12\" class=\"row_heading level0 row12\" >18</th>\n",
       "      <td id=\"T_8ad04_row12_col0\" class=\"data row12 col0\" >413</td>\n",
       "      <td id=\"T_8ad04_row12_col1\" class=\"data row12 col1\" >2086</td>\n",
       "      <td id=\"T_8ad04_row12_col2\" class=\"data row12 col2\" >23</td>\n",
       "      <td id=\"T_8ad04_row12_col3\" class=\"data row12 col3\" >5439</td>\n",
       "      <td id=\"T_8ad04_row12_col4\" class=\"data row12 col4\" >13</td>\n",
       "      <td id=\"T_8ad04_row12_col5\" class=\"data row12 col5\" >0</td>\n",
       "    </tr>\n",
       "    <tr>\n",
       "      <th id=\"T_8ad04_level0_row13\" class=\"row_heading level0 row13\" >19</th>\n",
       "      <td id=\"T_8ad04_row13_col0\" class=\"data row13 col0\" >0</td>\n",
       "      <td id=\"T_8ad04_row13_col1\" class=\"data row13 col1\" >0</td>\n",
       "      <td id=\"T_8ad04_row13_col2\" class=\"data row13 col2\" >15</td>\n",
       "      <td id=\"T_8ad04_row13_col3\" class=\"data row13 col3\" >3601</td>\n",
       "      <td id=\"T_8ad04_row13_col4\" class=\"data row13 col4\" >89</td>\n",
       "      <td id=\"T_8ad04_row13_col5\" class=\"data row13 col5\" >0</td>\n",
       "    </tr>\n",
       "    <tr>\n",
       "      <th id=\"T_8ad04_level0_row14\" class=\"row_heading level0 row14\" >20</th>\n",
       "      <td id=\"T_8ad04_row14_col0\" class=\"data row14 col0\" >0</td>\n",
       "      <td id=\"T_8ad04_row14_col1\" class=\"data row14 col1\" >0</td>\n",
       "      <td id=\"T_8ad04_row14_col2\" class=\"data row14 col2\" >18</td>\n",
       "      <td id=\"T_8ad04_row14_col3\" class=\"data row14 col3\" >845</td>\n",
       "      <td id=\"T_8ad04_row14_col4\" class=\"data row14 col4\" >8</td>\n",
       "      <td id=\"T_8ad04_row14_col5\" class=\"data row14 col5\" >0</td>\n",
       "    </tr>\n",
       "  </tbody>\n",
       "</table>\n"
      ],
      "text/plain": [
       "<pandas.io.formats.style.Styler at 0x7fa4bb402b50>"
      ]
     },
     "execution_count": 37,
     "metadata": {},
     "output_type": "execute_result"
    }
   ],
   "source": [
    "order_hour_dow = pd.crosstab(df[\"InvoiceHour\"], df[\"InvoiceDow\"])\n",
    "# 데이터에 토요일이 없음\n",
    "order_hour_dow.columns = [w for w in \"월화수목금일\"]\n",
    "order_hour_dow.style.background_gradient()"
   ]
  },
  {
   "cell_type": "code",
   "execution_count": 38,
   "metadata": {},
   "outputs": [
    {
     "data": {
      "text/plain": [
       "<matplotlib.axes._subplots.AxesSubplot at 0x7fa4ebd72090>"
      ]
     },
     "execution_count": 38,
     "metadata": {},
     "output_type": "execute_result"
    },
    {
     "data": {
      "image/png": "[encoded data removed]",
      "text/plain": [
       "<Figure size 864x288 with 1 Axes>"
      ]
     },
     "metadata": {
      "needs_background": "light"
     },
     "output_type": "display_data"
    }
   ],
   "source": [
    "order_hour_dow.plot(figsize=(12, 4))"
   ]
  },
  {
   "cell_type": "code",
   "execution_count": 39,
   "metadata": {},
   "outputs": [
    {
     "data": {
      "image/png": "[encoded data removed]",
      "text/plain": [
       "<Figure size 864x576 with 6 Axes>"
      ]
     },
     "metadata": {
      "needs_background": "light"
     },
     "output_type": "display_data"
    }
   ],
   "source": [
    "_ = order_hour_dow.plot(figsize=(12, 8), subplots=True)"
   ]
  },
  {
   "cell_type": "code",
   "execution_count": 40,
   "metadata": {},
   "outputs": [
    {
     "data": {
      "text/plain": [
       "<matplotlib.axes._subplots.AxesSubplot at 0x7fa4ba296ad0>"
      ]
     },
     "execution_count": 40,
     "metadata": {},
     "output_type": "execute_result"
    },
    {
     "data": {
      "image/png": "[encoded data removed]",
      "text/plain": [
       "<Figure size 864x576 with 2 Axes>"
      ]
     },
     "metadata": {
      "needs_background": "light"
     },
     "output_type": "display_data"
    }
   ],
   "source": [
    "plt.figure(figsize=(12, 8))\n",
    "sns.heatmap(order_hour_dow, annot=True, fmt=\".0f\", cmap=\"Blues\")"
   ]
  },
  {
   "cell_type": "markdown",
   "metadata": {},
   "source": [
    "## 고객"
   ]
  },
  {
   "cell_type": "code",
   "execution_count": 41,
   "metadata": {
    "scrolled": true
   },
   "outputs": [
    {
     "data": {
      "text/plain": [
       "count    4339.000000\n",
       "mean       91.708689\n",
       "std       228.792852\n",
       "min         1.000000\n",
       "25%        17.000000\n",
       "50%        41.000000\n",
       "75%       100.000000\n",
       "max      7847.000000\n",
       "Name: InvoiceNo, dtype: float64"
      ]
     },
     "execution_count": 41,
     "metadata": {},
     "output_type": "execute_result"
    }
   ],
   "source": [
    "# 전체 고객수, 고객 한 명당 평균 구매 횟수\n",
    "cust_count = df[~df[\"Cancel\"]].groupby([\"CustomerID\"])[\"InvoiceNo\"].count()\n",
    "cust_count.describe()"
   ]
  },
  {
   "cell_type": "code",
   "execution_count": 42,
   "metadata": {},
   "outputs": [],
   "source": [
    "df_cust_count = cust_count.to_frame(name=\"count\")"
   ]
  },
  {
   "cell_type": "code",
   "execution_count": 43,
   "metadata": {
    "scrolled": true
   },
   "outputs": [
    {
     "data": {
      "text/plain": [
       "<matplotlib.axes._subplots.AxesSubplot at 0x7fa4ca6efad0>"
      ]
     },
     "execution_count": 43,
     "metadata": {},
     "output_type": "execute_result"
    },
    {
     "data": {
      "image/png": "[encoded data removed]",
      "text/plain": [
       "<Figure size 432x288 with 1 Axes>"
      ]
     },
     "metadata": {
      "needs_background": "light"
     },
     "output_type": "display_data"
    }
   ],
   "source": [
    "sns.boxplot(data=df_cust_count)"
   ]
  },
  {
   "cell_type": "markdown",
   "metadata": {},
   "source": [
    "## 고객ID가 없는 주문과 취소 주문은 전체 데이터에서 제외"
   ]
  },
  {
   "cell_type": "code",
   "execution_count": 44,
   "metadata": {},
   "outputs": [
    {
     "data": {
      "text/plain": [
       "(541909, 19)"
      ]
     },
     "execution_count": 44,
     "metadata": {},
     "output_type": "execute_result"
    }
   ],
   "source": [
    "df.shape"
   ]
  },
  {
   "cell_type": "code",
   "execution_count": 45,
   "metadata": {},
   "outputs": [
    {
     "data": {
      "text/plain": [
       "(397924, 19)"
      ]
     },
     "execution_count": 45,
     "metadata": {},
     "output_type": "execute_result"
    }
   ],
   "source": [
    "df = df[~df[\"Cancel\"] & df[\"CustomerID\"].notnull()].copy()\n",
    "df.shape"
   ]
  },
  {
   "cell_type": "code",
   "execution_count": 46,
   "metadata": {},
   "outputs": [],
   "source": [
    "def get_month_day1(x): return dt.datetime(x.year, x.month, 1)"
   ]
  },
  {
   "cell_type": "code",
   "execution_count": 47,
   "metadata": {},
   "outputs": [],
   "source": [
    "df[\"InvoiceDate1\"] = df[\"InvoiceDate\"].map(get_month_day1)"
   ]
  },
  {
   "cell_type": "code",
   "execution_count": 48,
   "metadata": {},
   "outputs": [
    {
     "data": {
      "text/plain": [
       "0        2010-12-01\n",
       "1        2010-12-01\n",
       "2        2010-12-01\n",
       "3        2010-12-01\n",
       "4        2010-12-01\n",
       "            ...    \n",
       "541904   2011-08-01\n",
       "541905   2011-08-01\n",
       "541906   2011-08-01\n",
       "541907   2011-08-01\n",
       "541908   2011-08-01\n",
       "Name: InvoiceDate1, Length: 397924, dtype: datetime64[ns]"
      ]
     },
     "execution_count": 48,
     "metadata": {},
     "output_type": "execute_result"
    }
   ],
   "source": [
    "grouping = df.groupby('CustomerID')['InvoiceDate1']\n",
    "grouping.transform('min')"
   ]
  },
  {
   "cell_type": "code",
   "execution_count": 49,
   "metadata": {},
   "outputs": [],
   "source": [
    "df[\"InvoiceDateMin\"] = df.groupby('CustomerID')['InvoiceDate1'].transform('min')"
   ]
  },
  {
   "cell_type": "code",
   "execution_count": 50,
   "metadata": {},
   "outputs": [],
   "source": [
    "year_diff = df[\"InvoiceDate1\"].dt.year - df[\"InvoiceDateMin\"].dt.year\n",
    "month_diff = df[\"InvoiceDate1\"].dt.month - df[\"InvoiceDateMin\"].dt.month"
   ]
  },
  {
   "cell_type": "code",
   "execution_count": 51,
   "metadata": {},
   "outputs": [],
   "source": [
    "df[\"CohortIndex\"] = year_diff * 12 + month_diff + 1"
   ]
  },
  {
   "cell_type": "code",
   "execution_count": 52,
   "metadata": {},
   "outputs": [
    {
     "data": {
      "text/plain": [
       "1     118764\n",
       "2      27868\n",
       "4      27256\n",
       "3      26991\n",
       "6      26964\n",
       "5      25426\n",
       "7      23705\n",
       "8      23604\n",
       "12     23457\n",
       "10     23230\n",
       "9      23011\n",
       "11     20394\n",
       "13      7254\n",
       "Name: CohortIndex, dtype: int64"
      ]
     },
     "execution_count": 52,
     "metadata": {},
     "output_type": "execute_result"
    }
   ],
   "source": [
    "df[\"CohortIndex\"].value_counts()"
   ]
  },
  {
   "cell_type": "code",
   "execution_count": 55,
   "metadata": {},
   "outputs": [
    {
     "data": {
      "text/plain": [
       "<matplotlib.axes._subplots.AxesSubplot at 0x7fa4c8ef5390>"
      ]
     },
     "execution_count": 55,
     "metadata": {},
     "output_type": "execute_result"
    },
    {
     "data": {
      "image/png": "[encoded data removed]",
      "text/plain": [
       "<Figure size 864x288 with 1 Axes>"
      ]
     },
     "metadata": {
      "needs_background": "light"
     },
     "output_type": "display_data"
    }
   ],
   "source": [
    "plt.figure(figsize=(12, 4))\n",
    "sns.countplot(data=df, x=\"CohortIndex\")"
   ]
  },
  {
   "cell_type": "code",
   "execution_count": 59,
   "metadata": {},
   "outputs": [
    {
     "data": {
      "text/plain": [
       "<matplotlib.axes._subplots.AxesSubplot at 0x7fa4dcf7e0d0>"
      ]
     },
     "execution_count": 59,
     "metadata": {},
     "output_type": "execute_result"
    },
    {
     "data": {
      "image/png": "[encoded data removed]",
      "text/plain": [
       "<Figure size 864x288 with 1 Axes>"
      ]
     },
     "metadata": {
      "needs_background": "light"
     },
     "output_type": "display_data"
    }
   ],
   "source": [
    "plt.figure(figsize=(12, 4))\n",
    "sns.pointplot(data=df, x=\"InvoiceHour\", y=\"InvoiceNo\", estimator=len, ci=None)"
   ]
  },
  {
   "cell_type": "code",
   "execution_count": 62,
   "metadata": {},
   "outputs": [
    {
     "data": {
      "text/plain": [
       "<matplotlib.axes._subplots.AxesSubplot at 0x7fa4bb8f5b90>"
      ]
     },
     "execution_count": 62,
     "metadata": {},
     "output_type": "execute_result"
    },
    {
     "data": {
      "image/png": "[encoded data removed]",
      "text/plain": [
       "<Figure size 864x288 with 1 Axes>"
      ]
     },
     "metadata": {
      "needs_background": "light"
     },
     "output_type": "display_data"
    }
   ],
   "source": [
    "plt.figure(figsize=(12, 4))\n",
    "sns.pointplot(data=df.sort_values(\"InvoiceDow\"), x=\"InvoiceDayname\", y=\"InvoiceNo\", estimator=len, ci=None)"
   ]
  },
  {
   "cell_type": "code",
   "execution_count": 79,
   "metadata": {},
   "outputs": [
    {
     "data": {
      "text/html": [
       "<div>\n",
       "<style scoped>\n",
       "    .dataframe tbody tr th:only-of-type {\n",
       "        vertical-align: middle;\n",
       "    }\n",
       "\n",
       "    .dataframe tbody tr th {\n",
       "        vertical-align: top;\n",
       "    }\n",
       "\n",
       "    .dataframe thead th {\n",
       "        text-align: right;\n",
       "    }\n",
       "</style>\n",
       "<table border=\"1\" class=\"dataframe\">\n",
       "  <thead>\n",
       "    <tr style=\"text-align: right;\">\n",
       "      <th>CohortIndex</th>\n",
       "      <th>1</th>\n",
       "      <th>2</th>\n",
       "      <th>3</th>\n",
       "      <th>4</th>\n",
       "      <th>5</th>\n",
       "      <th>6</th>\n",
       "      <th>7</th>\n",
       "      <th>8</th>\n",
       "      <th>9</th>\n",
       "      <th>10</th>\n",
       "      <th>11</th>\n",
       "      <th>12</th>\n",
       "      <th>13</th>\n",
       "    </tr>\n",
       "    <tr>\n",
       "      <th>InvoiceDateMin</th>\n",
       "      <th></th>\n",
       "      <th></th>\n",
       "      <th></th>\n",
       "      <th></th>\n",
       "      <th></th>\n",
       "      <th></th>\n",
       "      <th></th>\n",
       "      <th></th>\n",
       "      <th></th>\n",
       "      <th></th>\n",
       "      <th></th>\n",
       "      <th></th>\n",
       "      <th></th>\n",
       "    </tr>\n",
       "  </thead>\n",
       "  <tbody>\n",
       "    <tr>\n",
       "      <th>2010-12-01</th>\n",
       "      <td>26160.0</td>\n",
       "      <td>10191.0</td>\n",
       "      <td>8777.0</td>\n",
       "      <td>11268.0</td>\n",
       "      <td>9728.0</td>\n",
       "      <td>12055.0</td>\n",
       "      <td>11191.0</td>\n",
       "      <td>11428.0</td>\n",
       "      <td>11417.0</td>\n",
       "      <td>14232.0</td>\n",
       "      <td>13545.0</td>\n",
       "      <td>22086.0</td>\n",
       "      <td>7254.0</td>\n",
       "    </tr>\n",
       "    <tr>\n",
       "      <th>2011-01-01</th>\n",
       "      <td>11041.0</td>\n",
       "      <td>2220.0</td>\n",
       "      <td>3039.0</td>\n",
       "      <td>2314.0</td>\n",
       "      <td>3627.0</td>\n",
       "      <td>3243.0</td>\n",
       "      <td>2793.0</td>\n",
       "      <td>2880.0</td>\n",
       "      <td>3793.0</td>\n",
       "      <td>5056.0</td>\n",
       "      <td>6398.0</td>\n",
       "      <td>1371.0</td>\n",
       "      <td>NaN</td>\n",
       "    </tr>\n",
       "    <tr>\n",
       "      <th>2011-02-01</th>\n",
       "      <td>8931.0</td>\n",
       "      <td>1412.0</td>\n",
       "      <td>1935.0</td>\n",
       "      <td>2505.0</td>\n",
       "      <td>2278.0</td>\n",
       "      <td>2027.0</td>\n",
       "      <td>2248.0</td>\n",
       "      <td>2740.0</td>\n",
       "      <td>2981.0</td>\n",
       "      <td>2946.0</td>\n",
       "      <td>451.0</td>\n",
       "      <td>NaN</td>\n",
       "      <td>NaN</td>\n",
       "    </tr>\n",
       "    <tr>\n",
       "      <th>2011-03-01</th>\n",
       "      <td>11458.0</td>\n",
       "      <td>1429.0</td>\n",
       "      <td>2609.0</td>\n",
       "      <td>2384.0</td>\n",
       "      <td>2445.0</td>\n",
       "      <td>2115.0</td>\n",
       "      <td>2962.0</td>\n",
       "      <td>3579.0</td>\n",
       "      <td>4297.0</td>\n",
       "      <td>996.0</td>\n",
       "      <td>NaN</td>\n",
       "      <td>NaN</td>\n",
       "      <td>NaN</td>\n",
       "    </tr>\n",
       "    <tr>\n",
       "      <th>2011-04-01</th>\n",
       "      <td>7238.0</td>\n",
       "      <td>1405.0</td>\n",
       "      <td>1287.0</td>\n",
       "      <td>1301.0</td>\n",
       "      <td>1364.0</td>\n",
       "      <td>2038.0</td>\n",
       "      <td>1904.0</td>\n",
       "      <td>2186.0</td>\n",
       "      <td>523.0</td>\n",
       "      <td>NaN</td>\n",
       "      <td>NaN</td>\n",
       "      <td>NaN</td>\n",
       "      <td>NaN</td>\n",
       "    </tr>\n",
       "    <tr>\n",
       "      <th>2011-05-01</th>\n",
       "      <td>6121.0</td>\n",
       "      <td>1090.0</td>\n",
       "      <td>917.0</td>\n",
       "      <td>917.0</td>\n",
       "      <td>1509.0</td>\n",
       "      <td>2357.0</td>\n",
       "      <td>1980.0</td>\n",
       "      <td>791.0</td>\n",
       "      <td>NaN</td>\n",
       "      <td>NaN</td>\n",
       "      <td>NaN</td>\n",
       "      <td>NaN</td>\n",
       "      <td>NaN</td>\n",
       "    </tr>\n",
       "    <tr>\n",
       "      <th>2011-06-01</th>\n",
       "      <td>5712.0</td>\n",
       "      <td>924.0</td>\n",
       "      <td>714.0</td>\n",
       "      <td>1528.0</td>\n",
       "      <td>1762.0</td>\n",
       "      <td>2603.0</td>\n",
       "      <td>627.0</td>\n",
       "      <td>NaN</td>\n",
       "      <td>NaN</td>\n",
       "      <td>NaN</td>\n",
       "      <td>NaN</td>\n",
       "      <td>NaN</td>\n",
       "      <td>NaN</td>\n",
       "    </tr>\n",
       "    <tr>\n",
       "      <th>2011-07-01</th>\n",
       "      <td>4992.0</td>\n",
       "      <td>501.0</td>\n",
       "      <td>1333.0</td>\n",
       "      <td>1368.0</td>\n",
       "      <td>1814.0</td>\n",
       "      <td>526.0</td>\n",
       "      <td>NaN</td>\n",
       "      <td>NaN</td>\n",
       "      <td>NaN</td>\n",
       "      <td>NaN</td>\n",
       "      <td>NaN</td>\n",
       "      <td>NaN</td>\n",
       "      <td>NaN</td>\n",
       "    </tr>\n",
       "    <tr>\n",
       "      <th>2011-08-01</th>\n",
       "      <td>4857.0</td>\n",
       "      <td>1600.0</td>\n",
       "      <td>2849.0</td>\n",
       "      <td>2804.0</td>\n",
       "      <td>899.0</td>\n",
       "      <td>NaN</td>\n",
       "      <td>NaN</td>\n",
       "      <td>NaN</td>\n",
       "      <td>NaN</td>\n",
       "      <td>NaN</td>\n",
       "      <td>NaN</td>\n",
       "      <td>NaN</td>\n",
       "      <td>NaN</td>\n",
       "    </tr>\n",
       "    <tr>\n",
       "      <th>2011-09-01</th>\n",
       "      <td>8295.0</td>\n",
       "      <td>2383.0</td>\n",
       "      <td>2646.0</td>\n",
       "      <td>867.0</td>\n",
       "      <td>NaN</td>\n",
       "      <td>NaN</td>\n",
       "      <td>NaN</td>\n",
       "      <td>NaN</td>\n",
       "      <td>NaN</td>\n",
       "      <td>NaN</td>\n",
       "      <td>NaN</td>\n",
       "      <td>NaN</td>\n",
       "      <td>NaN</td>\n",
       "    </tr>\n",
       "    <tr>\n",
       "      <th>2011-10-01</th>\n",
       "      <td>11773.0</td>\n",
       "      <td>3583.0</td>\n",
       "      <td>885.0</td>\n",
       "      <td>NaN</td>\n",
       "      <td>NaN</td>\n",
       "      <td>NaN</td>\n",
       "      <td>NaN</td>\n",
       "      <td>NaN</td>\n",
       "      <td>NaN</td>\n",
       "      <td>NaN</td>\n",
       "      <td>NaN</td>\n",
       "      <td>NaN</td>\n",
       "      <td>NaN</td>\n",
       "    </tr>\n",
       "    <tr>\n",
       "      <th>2011-11-01</th>\n",
       "      <td>11202.0</td>\n",
       "      <td>1130.0</td>\n",
       "      <td>NaN</td>\n",
       "      <td>NaN</td>\n",
       "      <td>NaN</td>\n",
       "      <td>NaN</td>\n",
       "      <td>NaN</td>\n",
       "      <td>NaN</td>\n",
       "      <td>NaN</td>\n",
       "      <td>NaN</td>\n",
       "      <td>NaN</td>\n",
       "      <td>NaN</td>\n",
       "      <td>NaN</td>\n",
       "    </tr>\n",
       "    <tr>\n",
       "      <th>2011-12-01</th>\n",
       "      <td>984.0</td>\n",
       "      <td>NaN</td>\n",
       "      <td>NaN</td>\n",
       "      <td>NaN</td>\n",
       "      <td>NaN</td>\n",
       "      <td>NaN</td>\n",
       "      <td>NaN</td>\n",
       "      <td>NaN</td>\n",
       "      <td>NaN</td>\n",
       "      <td>NaN</td>\n",
       "      <td>NaN</td>\n",
       "      <td>NaN</td>\n",
       "      <td>NaN</td>\n",
       "    </tr>\n",
       "  </tbody>\n",
       "</table>\n",
       "</div>"
      ],
      "text/plain": [
       "CohortIndex          1        2       3        4       5        6        7   \\\n",
       "InvoiceDateMin                                                                \n",
       "2010-12-01      26160.0  10191.0  8777.0  11268.0  9728.0  12055.0  11191.0   \n",
       "2011-01-01      11041.0   2220.0  3039.0   2314.0  3627.0   3243.0   2793.0   \n",
       "2011-02-01       8931.0   1412.0  1935.0   2505.0  2278.0   2027.0   2248.0   \n",
       "2011-03-01      11458.0   1429.0  2609.0   2384.0  2445.0   2115.0   2962.0   \n",
       "2011-04-01       7238.0   1405.0  1287.0   1301.0  1364.0   2038.0   1904.0   \n",
       "2011-05-01       6121.0   1090.0   917.0    917.0  1509.0   2357.0   1980.0   \n",
       "2011-06-01       5712.0    924.0   714.0   1528.0  1762.0   2603.0    627.0   \n",
       "2011-07-01       4992.0    501.0  1333.0   1368.0  1814.0    526.0      NaN   \n",
       "2011-08-01       4857.0   1600.0  2849.0   2804.0   899.0      NaN      NaN   \n",
       "2011-09-01       8295.0   2383.0  2646.0    867.0     NaN      NaN      NaN   \n",
       "2011-10-01      11773.0   3583.0   885.0      NaN     NaN      NaN      NaN   \n",
       "2011-11-01      11202.0   1130.0     NaN      NaN     NaN      NaN      NaN   \n",
       "2011-12-01        984.0      NaN     NaN      NaN     NaN      NaN      NaN   \n",
       "\n",
       "CohortIndex          8        9        10       11       12      13  \n",
       "InvoiceDateMin                                                       \n",
       "2010-12-01      11428.0  11417.0  14232.0  13545.0  22086.0  7254.0  \n",
       "2011-01-01       2880.0   3793.0   5056.0   6398.0   1371.0     NaN  \n",
       "2011-02-01       2740.0   2981.0   2946.0    451.0      NaN     NaN  \n",
       "2011-03-01       3579.0   4297.0    996.0      NaN      NaN     NaN  \n",
       "2011-04-01       2186.0    523.0      NaN      NaN      NaN     NaN  \n",
       "2011-05-01        791.0      NaN      NaN      NaN      NaN     NaN  \n",
       "2011-06-01          NaN      NaN      NaN      NaN      NaN     NaN  \n",
       "2011-07-01          NaN      NaN      NaN      NaN      NaN     NaN  \n",
       "2011-08-01          NaN      NaN      NaN      NaN      NaN     NaN  \n",
       "2011-09-01          NaN      NaN      NaN      NaN      NaN     NaN  \n",
       "2011-10-01          NaN      NaN      NaN      NaN      NaN     NaN  \n",
       "2011-11-01          NaN      NaN      NaN      NaN      NaN     NaN  \n",
       "2011-12-01          NaN      NaN      NaN      NaN      NaN     NaN  "
      ]
     },
     "execution_count": 79,
     "metadata": {},
     "output_type": "execute_result"
    }
   ],
   "source": [
    "cohort_count = df.groupby([\"InvoiceDateMin\", \"CohortIndex\"])[\"InvoiceNo\"].count().unstack()\n",
    "cohort_count.index = cohort_count.index.astype(str)\n",
    "cohort_count"
   ]
  },
  {
   "cell_type": "code",
   "execution_count": 91,
   "metadata": {},
   "outputs": [
    {
     "data": {
      "text/plain": [
       "<matplotlib.axes._subplots.AxesSubplot at 0x7fa4e9f9d950>"
      ]
     },
     "execution_count": 91,
     "metadata": {},
     "output_type": "execute_result"
    },
    {
     "data": {
      "image/png": "[encoded data removed]",
      "text/plain": [
       "<Figure size 864x576 with 2 Axes>"
      ]
     },
     "metadata": {
      "needs_background": "light"
     },
     "output_type": "display_data"
    }
   ],
   "source": [
    "plt.figure(figsize=(12, 8))\n",
    "sns.heatmap(cohort_count, annot=True, fmt=\".0f\", cmap=\"Blues\")"
   ]
  },
  {
   "cell_type": "code",
   "execution_count": 105,
   "metadata": {},
   "outputs": [
    {
     "data": {
      "text/html": [
       "<div>\n",
       "<style scoped>\n",
       "    .dataframe tbody tr th:only-of-type {\n",
       "        vertical-align: middle;\n",
       "    }\n",
       "\n",
       "    .dataframe tbody tr th {\n",
       "        vertical-align: top;\n",
       "    }\n",
       "\n",
       "    .dataframe thead th {\n",
       "        text-align: right;\n",
       "    }\n",
       "</style>\n",
       "<table border=\"1\" class=\"dataframe\">\n",
       "  <thead>\n",
       "    <tr style=\"text-align: right;\">\n",
       "      <th>CohortIndex</th>\n",
       "      <th>1</th>\n",
       "      <th>2</th>\n",
       "      <th>3</th>\n",
       "      <th>4</th>\n",
       "      <th>5</th>\n",
       "      <th>6</th>\n",
       "      <th>7</th>\n",
       "      <th>8</th>\n",
       "      <th>9</th>\n",
       "      <th>10</th>\n",
       "      <th>11</th>\n",
       "      <th>12</th>\n",
       "      <th>13</th>\n",
       "    </tr>\n",
       "    <tr>\n",
       "      <th>InvoiceDateMin</th>\n",
       "      <th></th>\n",
       "      <th></th>\n",
       "      <th></th>\n",
       "      <th></th>\n",
       "      <th></th>\n",
       "      <th></th>\n",
       "      <th></th>\n",
       "      <th></th>\n",
       "      <th></th>\n",
       "      <th></th>\n",
       "      <th></th>\n",
       "      <th></th>\n",
       "      <th></th>\n",
       "    </tr>\n",
       "  </thead>\n",
       "  <tbody>\n",
       "    <tr>\n",
       "      <th>2010-12-01</th>\n",
       "      <td>100.0</td>\n",
       "      <td>39.0</td>\n",
       "      <td>34.0</td>\n",
       "      <td>43.0</td>\n",
       "      <td>37.0</td>\n",
       "      <td>46.0</td>\n",
       "      <td>43.0</td>\n",
       "      <td>44.0</td>\n",
       "      <td>44.0</td>\n",
       "      <td>54.0</td>\n",
       "      <td>52.0</td>\n",
       "      <td>84.0</td>\n",
       "      <td>28.0</td>\n",
       "    </tr>\n",
       "    <tr>\n",
       "      <th>2011-01-01</th>\n",
       "      <td>100.0</td>\n",
       "      <td>20.0</td>\n",
       "      <td>28.0</td>\n",
       "      <td>21.0</td>\n",
       "      <td>33.0</td>\n",
       "      <td>29.0</td>\n",
       "      <td>25.0</td>\n",
       "      <td>26.0</td>\n",
       "      <td>34.0</td>\n",
       "      <td>46.0</td>\n",
       "      <td>58.0</td>\n",
       "      <td>12.0</td>\n",
       "      <td>NaN</td>\n",
       "    </tr>\n",
       "    <tr>\n",
       "      <th>2011-02-01</th>\n",
       "      <td>100.0</td>\n",
       "      <td>16.0</td>\n",
       "      <td>22.0</td>\n",
       "      <td>28.0</td>\n",
       "      <td>26.0</td>\n",
       "      <td>23.0</td>\n",
       "      <td>25.0</td>\n",
       "      <td>31.0</td>\n",
       "      <td>33.0</td>\n",
       "      <td>33.0</td>\n",
       "      <td>5.0</td>\n",
       "      <td>NaN</td>\n",
       "      <td>NaN</td>\n",
       "    </tr>\n",
       "    <tr>\n",
       "      <th>2011-03-01</th>\n",
       "      <td>100.0</td>\n",
       "      <td>12.0</td>\n",
       "      <td>23.0</td>\n",
       "      <td>21.0</td>\n",
       "      <td>21.0</td>\n",
       "      <td>18.0</td>\n",
       "      <td>26.0</td>\n",
       "      <td>31.0</td>\n",
       "      <td>38.0</td>\n",
       "      <td>9.0</td>\n",
       "      <td>NaN</td>\n",
       "      <td>NaN</td>\n",
       "      <td>NaN</td>\n",
       "    </tr>\n",
       "    <tr>\n",
       "      <th>2011-04-01</th>\n",
       "      <td>100.0</td>\n",
       "      <td>19.0</td>\n",
       "      <td>18.0</td>\n",
       "      <td>18.0</td>\n",
       "      <td>19.0</td>\n",
       "      <td>28.0</td>\n",
       "      <td>26.0</td>\n",
       "      <td>30.0</td>\n",
       "      <td>7.0</td>\n",
       "      <td>NaN</td>\n",
       "      <td>NaN</td>\n",
       "      <td>NaN</td>\n",
       "      <td>NaN</td>\n",
       "    </tr>\n",
       "    <tr>\n",
       "      <th>2011-05-01</th>\n",
       "      <td>100.0</td>\n",
       "      <td>18.0</td>\n",
       "      <td>15.0</td>\n",
       "      <td>15.0</td>\n",
       "      <td>25.0</td>\n",
       "      <td>39.0</td>\n",
       "      <td>32.0</td>\n",
       "      <td>13.0</td>\n",
       "      <td>NaN</td>\n",
       "      <td>NaN</td>\n",
       "      <td>NaN</td>\n",
       "      <td>NaN</td>\n",
       "      <td>NaN</td>\n",
       "    </tr>\n",
       "    <tr>\n",
       "      <th>2011-06-01</th>\n",
       "      <td>100.0</td>\n",
       "      <td>16.0</td>\n",
       "      <td>12.0</td>\n",
       "      <td>27.0</td>\n",
       "      <td>31.0</td>\n",
       "      <td>46.0</td>\n",
       "      <td>11.0</td>\n",
       "      <td>NaN</td>\n",
       "      <td>NaN</td>\n",
       "      <td>NaN</td>\n",
       "      <td>NaN</td>\n",
       "      <td>NaN</td>\n",
       "      <td>NaN</td>\n",
       "    </tr>\n",
       "    <tr>\n",
       "      <th>2011-07-01</th>\n",
       "      <td>100.0</td>\n",
       "      <td>10.0</td>\n",
       "      <td>27.0</td>\n",
       "      <td>27.0</td>\n",
       "      <td>36.0</td>\n",
       "      <td>11.0</td>\n",
       "      <td>NaN</td>\n",
       "      <td>NaN</td>\n",
       "      <td>NaN</td>\n",
       "      <td>NaN</td>\n",
       "      <td>NaN</td>\n",
       "      <td>NaN</td>\n",
       "      <td>NaN</td>\n",
       "    </tr>\n",
       "    <tr>\n",
       "      <th>2011-08-01</th>\n",
       "      <td>100.0</td>\n",
       "      <td>33.0</td>\n",
       "      <td>59.0</td>\n",
       "      <td>58.0</td>\n",
       "      <td>19.0</td>\n",
       "      <td>NaN</td>\n",
       "      <td>NaN</td>\n",
       "      <td>NaN</td>\n",
       "      <td>NaN</td>\n",
       "      <td>NaN</td>\n",
       "      <td>NaN</td>\n",
       "      <td>NaN</td>\n",
       "      <td>NaN</td>\n",
       "    </tr>\n",
       "    <tr>\n",
       "      <th>2011-09-01</th>\n",
       "      <td>100.0</td>\n",
       "      <td>29.0</td>\n",
       "      <td>32.0</td>\n",
       "      <td>10.0</td>\n",
       "      <td>NaN</td>\n",
       "      <td>NaN</td>\n",
       "      <td>NaN</td>\n",
       "      <td>NaN</td>\n",
       "      <td>NaN</td>\n",
       "      <td>NaN</td>\n",
       "      <td>NaN</td>\n",
       "      <td>NaN</td>\n",
       "      <td>NaN</td>\n",
       "    </tr>\n",
       "    <tr>\n",
       "      <th>2011-10-01</th>\n",
       "      <td>100.0</td>\n",
       "      <td>30.0</td>\n",
       "      <td>8.0</td>\n",
       "      <td>NaN</td>\n",
       "      <td>NaN</td>\n",
       "      <td>NaN</td>\n",
       "      <td>NaN</td>\n",
       "      <td>NaN</td>\n",
       "      <td>NaN</td>\n",
       "      <td>NaN</td>\n",
       "      <td>NaN</td>\n",
       "      <td>NaN</td>\n",
       "      <td>NaN</td>\n",
       "    </tr>\n",
       "    <tr>\n",
       "      <th>2011-11-01</th>\n",
       "      <td>100.0</td>\n",
       "      <td>10.0</td>\n",
       "      <td>NaN</td>\n",
       "      <td>NaN</td>\n",
       "      <td>NaN</td>\n",
       "      <td>NaN</td>\n",
       "      <td>NaN</td>\n",
       "      <td>NaN</td>\n",
       "      <td>NaN</td>\n",
       "      <td>NaN</td>\n",
       "      <td>NaN</td>\n",
       "      <td>NaN</td>\n",
       "      <td>NaN</td>\n",
       "    </tr>\n",
       "    <tr>\n",
       "      <th>2011-12-01</th>\n",
       "      <td>100.0</td>\n",
       "      <td>NaN</td>\n",
       "      <td>NaN</td>\n",
       "      <td>NaN</td>\n",
       "      <td>NaN</td>\n",
       "      <td>NaN</td>\n",
       "      <td>NaN</td>\n",
       "      <td>NaN</td>\n",
       "      <td>NaN</td>\n",
       "      <td>NaN</td>\n",
       "      <td>NaN</td>\n",
       "      <td>NaN</td>\n",
       "      <td>NaN</td>\n",
       "    </tr>\n",
       "  </tbody>\n",
       "</table>\n",
       "</div>"
      ],
      "text/plain": [
       "CohortIndex        1     2     3     4     5     6     7     8     9     10  \\\n",
       "InvoiceDateMin                                                                \n",
       "2010-12-01      100.0  39.0  34.0  43.0  37.0  46.0  43.0  44.0  44.0  54.0   \n",
       "2011-01-01      100.0  20.0  28.0  21.0  33.0  29.0  25.0  26.0  34.0  46.0   \n",
       "2011-02-01      100.0  16.0  22.0  28.0  26.0  23.0  25.0  31.0  33.0  33.0   \n",
       "2011-03-01      100.0  12.0  23.0  21.0  21.0  18.0  26.0  31.0  38.0   9.0   \n",
       "2011-04-01      100.0  19.0  18.0  18.0  19.0  28.0  26.0  30.0   7.0   NaN   \n",
       "2011-05-01      100.0  18.0  15.0  15.0  25.0  39.0  32.0  13.0   NaN   NaN   \n",
       "2011-06-01      100.0  16.0  12.0  27.0  31.0  46.0  11.0   NaN   NaN   NaN   \n",
       "2011-07-01      100.0  10.0  27.0  27.0  36.0  11.0   NaN   NaN   NaN   NaN   \n",
       "2011-08-01      100.0  33.0  59.0  58.0  19.0   NaN   NaN   NaN   NaN   NaN   \n",
       "2011-09-01      100.0  29.0  32.0  10.0   NaN   NaN   NaN   NaN   NaN   NaN   \n",
       "2011-10-01      100.0  30.0   8.0   NaN   NaN   NaN   NaN   NaN   NaN   NaN   \n",
       "2011-11-01      100.0  10.0   NaN   NaN   NaN   NaN   NaN   NaN   NaN   NaN   \n",
       "2011-12-01      100.0   NaN   NaN   NaN   NaN   NaN   NaN   NaN   NaN   NaN   \n",
       "\n",
       "CohortIndex       11    12    13  \n",
       "InvoiceDateMin                    \n",
       "2010-12-01      52.0  84.0  28.0  \n",
       "2011-01-01      58.0  12.0   NaN  \n",
       "2011-02-01       5.0   NaN   NaN  \n",
       "2011-03-01       NaN   NaN   NaN  \n",
       "2011-04-01       NaN   NaN   NaN  \n",
       "2011-05-01       NaN   NaN   NaN  \n",
       "2011-06-01       NaN   NaN   NaN  \n",
       "2011-07-01       NaN   NaN   NaN  \n",
       "2011-08-01       NaN   NaN   NaN  \n",
       "2011-09-01       NaN   NaN   NaN  \n",
       "2011-10-01       NaN   NaN   NaN  \n",
       "2011-11-01       NaN   NaN   NaN  \n",
       "2011-12-01       NaN   NaN   NaN  "
      ]
     },
     "execution_count": 105,
     "metadata": {},
     "output_type": "execute_result"
    }
   ],
   "source": [
    "cohort_ratio = cohort_count.div(cohort_count.iloc[:, 0], axis=0).round(2) * 100\n",
    "cohort_ratio"
   ]
  },
  {
   "cell_type": "code",
   "execution_count": 106,
   "metadata": {},
   "outputs": [
    {
     "data": {
      "text/plain": [
       "<matplotlib.axes._subplots.AxesSubplot at 0x7fa4b9c0c310>"
      ]
     },
     "execution_count": 106,
     "metadata": {},
     "output_type": "execute_result"
    },
    {
     "data": {
      "image/png": "[encoded data removed]",
      "text/plain": [
       "<Figure size 864x576 with 2 Axes>"
      ]
     },
     "metadata": {
      "needs_background": "light"
     },
     "output_type": "display_data"
    }
   ],
   "source": [
    "plt.figure(figsize=(12, 8))\n",
    "sns.heatmap(cohort_ratio, annot=True, cmap=\"Blues\")"
   ]
  },
  {
   "cell_type": "code",
   "execution_count": null,
   "metadata": {},
   "outputs": [],
   "source": []
  },
  {
   "cell_type": "code",
   "execution_count": null,
   "metadata": {},
   "outputs": [],
   "source": []
  }
 ],
 "metadata": {
  "kernelspec": {
   "display_name": "Python 3",
   "language": "python",
   "name": "python3"
  },
  "language_info": {
   "codemirror_mode": {
    "name": "ipython",
    "version": 3
   },
   "file_extension": ".py",
   "mimetype": "text/x-python",
   "name": "python",
   "nbconvert_exporter": "python",
   "pygments_lexer": "ipython3",
   "version": "3.7.6"
  },
  "toc": {
   "base_numbering": 1,
   "nav_menu": {},
   "number_sections": true,
   "sideBar": true,
   "skip_h1_title": false,
   "title_cell": "Table of Contents",
   "title_sidebar": "Contents",
   "toc_cell": false,
   "toc_position": {},
   "toc_section_display": true,
   "toc_window_display": false
  },
  "varInspector": {
   "cols": {
    "lenName": 16,
    "lenType": 16,
    "lenVar": 40
   },
   "kernels_config": {
    "python": {
     "delete_cmd_postfix": "",
     "delete_cmd_prefix": "del ",
     "library": "var_list.py",
     "varRefreshCmd": "print(var_dic_list())"
    },
    "r": {
     "delete_cmd_postfix": ") ",
     "delete_cmd_prefix": "rm(",
     "library": "var_list.r",
     "varRefreshCmd": "cat(var_dic_list()) "
    }
   },
   "types_to_exclude": [
    "module",
    "function",
    "builtin_function_or_method",
    "instance",
    "_Feature"
   ],
   "window_display": false
  }
 },
 "nbformat": 4,
 "nbformat_minor": 4
}
