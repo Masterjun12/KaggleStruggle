{
 "cells": [
  {
   "cell_type": "markdown",
   "metadata": {},
   "source": [
    "## 파일 경로와 목록"
   ]
  },
  {
   "cell_type": "code",
   "execution_count": null,
   "metadata": {},
   "outputs": [],
   "source": [
    "# 이미지 다운로드\n",
    "# !wget https://data.lhncbc.nlm.nih.gov/public/Malaria/cell_images.zip"
   ]
  },
  {
   "cell_type": "code",
   "execution_count": null,
   "metadata": {},
   "outputs": [],
   "source": [
    "# images 폴더에 다운로드 받은 파일 압축 해제하기\n",
    "# !unzip cell_images.zip"
   ]
  },
  {
   "cell_type": "markdown",
   "metadata": {},
   "source": [
    "### os.walk"
   ]
  },
  {
   "cell_type": "code",
   "execution_count": null,
   "metadata": {},
   "outputs": [],
   "source": [
    "# 상대경로는 통해 cell_images 폴더를 불러옵니다. \n",
    "# 실습하고 있는 파일과 같은 위치에 images 폴더가 위치해있어야 폴더명만을 통해 경로를 읽을 수 있습니다. \n",
    "# images 경로를 root로 하위 디렉토리를 dirs로 해당 경로에 있는 모든 파일을 files로 볼 수 있습니다. \n",
    "import os\n",
    "for dirpath, dirnames, filenames in os.walk('cell_images/'):\n",
    "    print(dirpath, dirnames)"
   ]
  },
  {
   "cell_type": "markdown",
   "metadata": {},
   "source": [
    "### glob"
   ]
  },
  {
   "cell_type": "code",
   "execution_count": null,
   "metadata": {
    "scrolled": false
   },
   "outputs": [],
   "source": [
    "# glob은 패턴(유닉스 셸이 사용하는 규칙)을 사용하여 파일을 검색하는 모듈로 \n",
    "# 현재 디렉터리와 하위 디렉터리의 모든 텍스트파일을 찾아서 출력 합니다. \n",
    "# images 폴더 하위경로의 파일 목록을 출력해 봅니다.\n",
    "import glob\n",
    "paths = glob.glob('./cell_images/*/*.png')\n",
    "paths[:5]"
   ]
  },
  {
   "cell_type": "markdown",
   "metadata": {},
   "source": [
    "## RGB 색상\n",
    "### matplotlib을 통한 이미지 데이터의 RGB값 이해"
   ]
  },
  {
   "cell_type": "code",
   "execution_count": null,
   "metadata": {},
   "outputs": [],
   "source": [
    "# 상대경로를 사용해서 실습 경로와 같은 위치에 있는 images 폴더에 있는 이미지를 불러옵니다. \n",
    "# 그리고 이미지 데이터를 배열 형태로 만듭니다. \n",
    "# 이 때, matplotlib의 imread 기능을 사용하면 이미지를 배열형태로 가져올 수 있습니다.  \n",
    "# matplotlib.pyplot 을 plt 라는 별칭으로 불러와서 pyplot의 imread로 파일을 읽어옵니다. \n",
    "# 읽어 온 파일을 출력해 보면 3개의 채널을 갖는 이미지 배열임을 확인해 볼 수 있습니다. \n",
    "# 이 때, 행과 열의 수는 이미지의 세로와 가로 크기가 됩니다. 이렇게 불러온 이미지의 R, G, B 각 채널별 배열값을 확인해 봅니다.\n",
    "import matplotlib.pyplot as plt\n",
    "img = plt.imread(paths[0])\n",
    "label_value = paths[0].split(\"/\")[2]\n",
    "print(label_value, img.shape)\n",
    "img"
   ]
  },
  {
   "cell_type": "code",
   "execution_count": null,
   "metadata": {
    "scrolled": true
   },
   "outputs": [],
   "source": [
    "plt.imshow(img)\n",
    "plt.axis(\"off\")"
   ]
  },
  {
   "cell_type": "markdown",
   "metadata": {},
   "source": [
    "* 이미지는 3개의 채널로 구성되어 있습니다. 파이썬은 인덱스 번호가 0번부터 시작하기 때문에 0, 1, 2 으로 각각 R,G,B 채널에 접근할 수 있습니다."
   ]
  },
  {
   "cell_type": "code",
   "execution_count": null,
   "metadata": {},
   "outputs": [],
   "source": [
    "img[:,:,0]"
   ]
  },
  {
   "cell_type": "code",
   "execution_count": null,
   "metadata": {},
   "outputs": [],
   "source": [
    "img[:,:,1]"
   ]
  },
  {
   "cell_type": "code",
   "execution_count": null,
   "metadata": {},
   "outputs": [],
   "source": [
    "img[:,:,2]"
   ]
  },
  {
   "cell_type": "markdown",
   "metadata": {},
   "source": [
    "## 이미지 처리 도구\n",
    "* PIL을 통해 이미지를 불러올 때는 PIL.Image.open 을 사용합니다."
   ]
  },
  {
   "cell_type": "code",
   "execution_count": null,
   "metadata": {},
   "outputs": [],
   "source": [
    "# 이미지 파일을 매번 지정하기 번거롭지 않게 변수에 담아 재사용 합니다.\n",
    "cell_img = paths[1]\n",
    "cell_img"
   ]
  },
  {
   "cell_type": "markdown",
   "metadata": {},
   "source": [
    "### PIL(Python Imaging Library) Pillow\n",
    "* Python Imaging Library(PIL)은 파이썬 인터프리터에 다양한 이미지 파일 형식을 지원하고 강력한 이미지 처리와 그래픽 기능을 제공하는 자유-오픈 소스 소프트웨어 라이브러리이다. 줄여서 PIL이라고 부른다. 윈도우와 맥 오에스 엑스, 리눅스를 지원한다. PIL의 최신 버젼은 1.1.7이고 2009년 9월에 릴리즈 되었으며 파이썬 1.5-2.7을 지원한다.\n",
    "\n",
    "* 개발은 2011년 PIL 저장소에 대한 마지막 커밋으로 중단된 것으로 보이며 Pillow라는 후속 프로젝트가 PIL 저장소에서 갈려져 나와 Python 3.x 지원을 추가 했다. Pillow는 PIL 후속 프로젝트로써 데비안 및 우분투 등의 리눅스 배포판에서 PIL을 대체하기 위해서 채택 되었다.\n",
    "\n",
    "\n",
    "* PIL 이미지 작업을 위한 표준 절차를 제공하고 있으며, 다음과 같은 것이있다.\n",
    "    * 픽셀 단위의 조작\n",
    "    * 마스킹 및 투명도 제어\n",
    "    * 흐림, 윤곽 보정 다듬어 윤곽 검출 등의 이미지 필터\n",
    "    * 선명하게, 밝기 보정, 명암 보정, 색 보정 등의 화상 조정\n",
    "    * 이미지에 텍스트 추가\n",
    "    * 기타 여러가지\n",
    "    \n",
    "* [Python Imaging Library - 위키백과, 우리 모두의 백과사전](https://ko.wikipedia.org/wiki/Python_Imaging_Library)\n",
    "* [Tutorial — Pillow (PIL Fork) 8.3.1 documentation](https://pillow.readthedocs.io/en/stable/handbook/tutorial.html)"
   ]
  },
  {
   "cell_type": "code",
   "execution_count": null,
   "metadata": {},
   "outputs": [],
   "source": [
    "from PIL import Image, ImageFilter\n",
    "original = Image.open(cell_img)\n",
    "original"
   ]
  },
  {
   "cell_type": "code",
   "execution_count": null,
   "metadata": {},
   "outputs": [],
   "source": [
    "# 이미지 사이즈를 봅니다.\n",
    "img_size = original.size\n",
    "img_size"
   ]
  },
  {
   "cell_type": "code",
   "execution_count": null,
   "metadata": {},
   "outputs": [],
   "source": [
    "# 이미지 사이즈를 변경합니다.\n",
    "original.resize((150, 150))"
   ]
  },
  {
   "cell_type": "code",
   "execution_count": null,
   "metadata": {},
   "outputs": [],
   "source": [
    "# 이미지를 저장합니다.\n",
    "original.save(\"original.png\")"
   ]
  },
  {
   "cell_type": "code",
   "execution_count": null,
   "metadata": {},
   "outputs": [],
   "source": [
    "# BLUR 필터를 적용하여 흐리게 만듭니다.\n",
    "original.filter(ImageFilter.BLUR)"
   ]
  },
  {
   "cell_type": "code",
   "execution_count": null,
   "metadata": {},
   "outputs": [],
   "source": [
    "# GaussianBlur 필터를 적용하여 흐리게 만듭니다.\n",
    "original.filter(ImageFilter.GaussianBlur)"
   ]
  },
  {
   "cell_type": "code",
   "execution_count": null,
   "metadata": {},
   "outputs": [],
   "source": [
    "# CONTOUR 로 행렬의 등고선을 추출합니다.\n",
    "original.filter(ImageFilter.CONTOUR)"
   ]
  },
  {
   "cell_type": "code",
   "execution_count": null,
   "metadata": {},
   "outputs": [],
   "source": [
    "# EMBOSS 효과를 적용합니다.\n",
    "original.filter(ImageFilter.EMBOSS)"
   ]
  },
  {
   "cell_type": "markdown",
   "metadata": {},
   "source": [
    "### OpenCV\n",
    "\n",
    "            \n",
    "<img src=\"https://opencv.org/wp-content/uploads/2020/07/cropped-OpenCV_logo_white_600x.png\" width=\"120\">\n",
    "\n",
    "* OpenCV(Open Source Computer Vision)은 실시간 컴퓨터 비전을 목적으로 한 프로그래밍 라이브러리이다. 원래는 인텔이 개발하였다. 실시간 이미지 프로세싱에 중점을 둔 라이브러리이다. 인텔 CPU에서 사용되는 경우 속도의 향상을 볼 수 있는 IPP(Intel Performance Primitives)를 지원한다. 이 라이브러리는 윈도, 리눅스 등에서 사용 가능한 크로스 플랫폼이며 오픈소스 BSD 허가서 하에서 무료로 사용할 수 있다. OpenCV는 TensorFlow , Torch / PyTorch 및 Caffe의 딥러닝 프레임워크를 지원한다.\n",
    "\n",
    "* [OpenCV - 위키백과, 우리 모두의 백과사전](https://ko.wikipedia.org/wiki/OpenCV)\n",
    "\n",
    "* 기능\n",
    "    * 이미지의 기하학적 변환 - 회전, 이동 등\n",
    "    * 형태 변형, 이미지 그라디언트,  Edge Detection, 이미지 혼합, 윤곽선 찾기, \n",
    "    * 이미지 변환 - 푸리에 변환, 코사인 변환, 이미지에서 개체 검색, 원 등의 감지, 이미지 분할, 전경 추출 등\n",
    "\n",
    "#### Image Processing in OpenCV\n",
    "\n",
    "* [OpenCV: Image Processing in OpenCV](https://docs.opencv.org/4.5.2/d2/d96/tutorial_py_table_of_contents_imgproc.html)\n",
    "\n",
    "* Changing Colorspaces - Learn to change images between different color spaces. Plus learn to track a colored object in a video.\n",
    "\n",
    "* Geometric Transformations of Images - Learn to apply different geometric transformations to images like rotation, translation etc.\n",
    "\n",
    "* Image Thresholding - Learn to convert images to binary images using global thresholding, Adaptive thresholding, Otsu's binarization etc\n",
    "\n",
    "* Smoothing Images - Learn to blur the images, filter the images with custom kernels etc.\n",
    "\n",
    "* Morphological Transformations - Learn about morphological transformations like Erosion, Dilation, Opening, Closing etc\n",
    "\n",
    "* Image Gradients - Learn to find image gradients, edges etc.\n",
    "\n",
    "* Canny Edge Detection - Learn to find edges with Canny Edge Detection\n",
    "\n",
    "* Image Pyramids - Learn about image pyramids and how to use them for image blending\n",
    "\n",
    "* Contours in OpenCV - All about Contours in OpenCV\n",
    "\n",
    "* Histograms in OpenCV - All about histograms in OpenCV\n",
    "\n",
    "* Image Transforms in OpenCV - Meet different Image Transforms in OpenCV like Fourier Transform, Cosine Transform etc.\n",
    "\n",
    "* Template Matching - Learn to search for an object in an image using Template Matching\n",
    "\n",
    "* Hough Line Transform - Learn to detect lines in an image\n",
    "\n",
    "* Hough Circle Transform - Learn to detect circles in an image\n",
    "\n",
    "* Image Segmentation with Watershed Algorithm\n",
    "* Learn to segment images with watershed segmentation\n",
    "* Interactive Foreground Extraction using GrabCut Algorithm\n",
    "* Learn to extract foreground with GrabCut algorithm\n",
    "\n",
    "\n",
    "#### 참고\n",
    "* OpenCV 문서를 번역해 놓은 블로그 : https://ivo-lee.tistory.com/91"
   ]
  },
  {
   "cell_type": "code",
   "execution_count": null,
   "metadata": {
    "scrolled": true
   },
   "outputs": [],
   "source": [
    "# OpenCV 를 통해 이미지를 불러옵니다. PIL 로 실습했던것과 마찬가지로 사이즈를 변경하고 필터를 적용해 봅니다.\n",
    "img_path = paths[0]\n",
    "img_path"
   ]
  },
  {
   "cell_type": "code",
   "execution_count": null,
   "metadata": {},
   "outputs": [],
   "source": [
    "# OpenCV는 cv2로 불러옵니다. imread 를 통해 이미지를 불러옵니다. \n",
    "# OpenCV는 RGB 형태를 사용하지 않고 BGR을 사용하기 때문에 COLOR_BGR2RGB 을 통해 RGB 형태로 변환합니다. \n",
    "# 이미지 애플리케이션은 RGB를 사용합니다. Matplotlib에서 OpenCV 컬러 이미지를 올바르게 출력하려면 먼저 컬러를 RGB로 변환합니다. \n",
    "# imread를 통해 이미지를 불러오면 배열형태가 됩니다. \n",
    "# OpenCV 뷰어를 사용해서 이미지를 볼 수도 있지만 실습 노트북에서 보기 위해서는 matplotlib 의 pyplot을 사용합니다.\n",
    "import cv2\n",
    "\n",
    "img = cv2.imread(img_path, cv2.IMREAD_COLOR)\n",
    "img = cv2.cvtColor(img, cv2.COLOR_BGR2RGB)\n",
    "img.shape"
   ]
  },
  {
   "cell_type": "code",
   "execution_count": null,
   "metadata": {},
   "outputs": [],
   "source": [
    "# cv2.imread 로 불러온 이미지 배열입니다.\n",
    "img"
   ]
  },
  {
   "cell_type": "code",
   "execution_count": null,
   "metadata": {},
   "outputs": [],
   "source": [
    "plt.imshow(img)\n",
    "plt.axis(\"off\")"
   ]
  },
  {
   "cell_type": "code",
   "execution_count": null,
   "metadata": {},
   "outputs": [],
   "source": [
    "# 이미지 크기를 150x150 픽셀로 크기를 변경합니다.\n",
    "image_150x150 = cv2.resize(img, (150, 150)) \n",
    "plt.imshow(image_150x150, cmap=\"gray\")\n",
    "plt.axis(\"off\")\n",
    "plt.show()"
   ]
  },
  {
   "cell_type": "code",
   "execution_count": null,
   "metadata": {},
   "outputs": [],
   "source": [
    "# IMREAD_GRAYSCALE을 통해 흑백 이미지로 변환합니다.\n",
    "image = cv2.imread(img_path, cv2.IMREAD_GRAYSCALE) \n",
    "plt.imshow(image, cmap=\"gray\")\n",
    "plt.axis(\"off\")\n",
    "plt.show()"
   ]
  },
  {
   "cell_type": "code",
   "execution_count": null,
   "metadata": {},
   "outputs": [],
   "source": [
    "#각 픽셀 주변의 50X50커널 평균값으로 이미지를 흐리게 합니다.\n",
    "image_blurry = cv2.blur(image, (50,50))\n",
    "plt.imshow(image_blurry, cmap=\"gray\")\n",
    "plt.axis(\"off\")\n",
    "plt.show()"
   ]
  },
  {
   "cell_type": "code",
   "execution_count": null,
   "metadata": {},
   "outputs": [],
   "source": [
    "# 적응적 임계처리를 적용합니다. 어떤 값보다 큰 값을 가진 픽셀을 흰색으로 만들고 작은 값을 가진 픽셀은 검은색으로 만드는 과정입니다.\n",
    "max_output_value = 255\n",
    "neighborhood_size = 99\n",
    "subtract_from_mean = 10\n",
    "image_binarized = cv2.adaptiveThreshold(image, max_output_value,\n",
    "                                         cv2.ADAPTIVE_THRESH_GAUSSIAN_C, cv2.THRESH_BINARY,\n",
    "                                         neighborhood_size, subtract_from_mean) \n",
    "plt.imshow(image_binarized, cmap=\"gray\")\n",
    "plt.axis(\"off\")\n",
    "plt.show()"
   ]
  },
  {
   "cell_type": "code",
   "execution_count": null,
   "metadata": {},
   "outputs": [],
   "source": []
  },
  {
   "cell_type": "code",
   "execution_count": null,
   "metadata": {},
   "outputs": [],
   "source": []
  }
 ],
 "metadata": {
  "kernelspec": {
   "display_name": "Python 3",
   "language": "python",
   "name": "python3"
  },
  "language_info": {
   "codemirror_mode": {
    "name": "ipython",
    "version": 3
   },
   "file_extension": ".py",
   "mimetype": "text/x-python",
   "name": "python",
   "nbconvert_exporter": "python",
   "pygments_lexer": "ipython3",
   "version": "3.7.6"
  },
  "toc": {
   "base_numbering": 1,
   "nav_menu": {},
   "number_sections": true,
   "sideBar": true,
   "skip_h1_title": false,
   "title_cell": "Table of Contents",
   "title_sidebar": "Contents",
   "toc_cell": false,
   "toc_position": {
    "height": "calc(100% - 180px)",
    "left": "10px",
    "top": "150px",
    "width": "288px"
   },
   "toc_section_display": true,
   "toc_window_display": false
  },
  "varInspector": {
   "cols": {
    "lenName": 16,
    "lenType": 16,
    "lenVar": 40
   },
   "kernels_config": {
    "python": {
     "delete_cmd_postfix": "",
     "delete_cmd_prefix": "del ",
     "library": "var_list.py",
     "varRefreshCmd": "print(var_dic_list())"
    },
    "r": {
     "delete_cmd_postfix": ") ",
     "delete_cmd_prefix": "rm(",
     "library": "var_list.r",
     "varRefreshCmd": "cat(var_dic_list()) "
    }
   },
   "types_to_exclude": [
    "module",
    "function",
    "builtin_function_or_method",
    "instance",
    "_Feature"
   ],
   "window_display": false
  }
 },
 "nbformat": 4,
 "nbformat_minor": 4
}
