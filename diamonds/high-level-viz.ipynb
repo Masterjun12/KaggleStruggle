{
 "cells": [
  {
   "cell_type": "markdown",
   "id": "920ce98e",
   "metadata": {},
   "source": [
    "## 매번 봐야 하는 기술통계값 코드 한 줄로 보기 "
   ]
  },
  {
   "cell_type": "code",
   "execution_count": null,
   "id": "bbf692e5",
   "metadata": {},
   "outputs": [],
   "source": [
    "import seaborn as sns\n",
    "df = sns.load_dataset(\"diamonds\")\n",
    "df"
   ]
  },
  {
   "cell_type": "code",
   "execution_count": null,
   "id": "db2fc260",
   "metadata": {},
   "outputs": [],
   "source": [
    "df.info()"
   ]
  },
  {
   "cell_type": "code",
   "execution_count": null,
   "id": "2e0c08d2",
   "metadata": {},
   "outputs": [],
   "source": [
    "df[df.duplicated()].shape"
   ]
  },
  {
   "cell_type": "code",
   "execution_count": null,
   "id": "c6e0c9e3",
   "metadata": {},
   "outputs": [],
   "source": [
    "df.describe()"
   ]
  },
  {
   "cell_type": "code",
   "execution_count": null,
   "id": "bbf55b8c",
   "metadata": {},
   "outputs": [],
   "source": [
    "df.describe(exclude=\"number\")"
   ]
  },
  {
   "cell_type": "code",
   "execution_count": null,
   "id": "dbdea569",
   "metadata": {},
   "outputs": [],
   "source": [
    "_ = df.hist(figsize=(10, 4))"
   ]
  },
  {
   "cell_type": "markdown",
   "id": "f014e594",
   "metadata": {},
   "source": [
    "## Pandas Profiling\n",
    "* [pandas-profiling/pandas-profiling: Create HTML profiling reports from pandas DataFrame objects](https://github.com/pandas-profiling/pandas-profiling)"
   ]
  },
  {
   "cell_type": "code",
   "execution_count": null,
   "id": "547f9fce",
   "metadata": {},
   "outputs": [],
   "source": [
    "# !pip install pandas-profiling==3.1.0"
   ]
  },
  {
   "cell_type": "code",
   "execution_count": null,
   "id": "d3f0a0da",
   "metadata": {},
   "outputs": [],
   "source": [
    "from pandas_profiling import ProfileReport\n",
    "\n",
    "profile = ProfileReport(df.sample(frac=0.1))\n",
    "profile.to_file(\"diamonds.html\")"
   ]
  },
  {
   "cell_type": "markdown",
   "id": "9b41c334",
   "metadata": {},
   "source": [
    "## sweetviz\n",
    "* [sweetviz · PyPI](https://pypi.org/project/sweetviz/)\n",
    "* [fbdesignpro/sweetviz: Visualize and compare datasets, target values and associations, with one line of code.](https://github.com/fbdesignpro/sweetviz)\n",
    "<img src=\"https://warehouse-camo.ingress.cmh1.psfhosted.org/210c4eb7317c8b0d2e7d0784b1a9697c096050ef/687474703a2f2f636f6f6c74696d696e672e636f6d2f53562f4c61796f75742d416e696d332e676966\">"
   ]
  },
  {
   "cell_type": "code",
   "execution_count": null,
   "id": "d349e81f",
   "metadata": {},
   "outputs": [],
   "source": [
    "# 아래 명령어로 설치해야 사용할 수 있습니다.\n",
    "# !pip install sweetviz"
   ]
  },
  {
   "cell_type": "code",
   "execution_count": null,
   "id": "04d3a927",
   "metadata": {
    "scrolled": true
   },
   "outputs": [],
   "source": [
    "import sweetviz as sv\n",
    "# 타겟변수 없이 그릴 수도 있고 타겟변수를 지정할 수도 있습니다.\n",
    "# 타겟변수는 범주형이 아닌 수치, bool 값만 가능합니다. \n",
    "# 데이터에 따라 수치형으로 되어있지만 동작하지 않을 수도 있습니다. \n",
    "# my_report = sv.analyze(df)\n",
    "my_report = sv.analyze(df, target_feat='price')\n",
    "my_report.show_html()"
   ]
  },
  {
   "cell_type": "markdown",
   "id": "f2f7befb",
   "metadata": {},
   "source": [
    "## autoviz\n",
    "* [AutoViML/AutoViz: Automatically Visualize any dataset, any size with a single line of code. Created by Ram Seshadri. Collaborators Welcome. Permission Granted upon Request.](https://github.com/AutoViML/AutoViz)"
   ]
  },
  {
   "cell_type": "code",
   "execution_count": null,
   "id": "85f049a9",
   "metadata": {},
   "outputs": [],
   "source": [
    "# !pip install autoviz"
   ]
  },
  {
   "cell_type": "code",
   "execution_count": null,
   "id": "e131b762",
   "metadata": {},
   "outputs": [],
   "source": [
    "from autoviz.AutoViz_Class import AutoViz_Class\n",
    "AV = AutoViz_Class()"
   ]
  },
  {
   "cell_type": "code",
   "execution_count": null,
   "id": "9cc4bf53",
   "metadata": {
    "scrolled": false
   },
   "outputs": [],
   "source": [
    "filename = \"https://raw.githubusercontent.com/mwaskom/seaborn-data/master/diamonds.csv\"\n",
    "sep = \",\"\n",
    "dft = AV.AutoViz(\n",
    "    filename,\n",
    "    sep=\",\",\n",
    "    depVar=\"\",\n",
    "    dfte=None,\n",
    "    header=0,\n",
    "    verbose=0,\n",
    "    lowess=False,\n",
    "    chart_format=\"html\",\n",
    "#     chart_format=\"bokeh\",\n",
    "    max_rows_analyzed=150000,\n",
    "    max_cols_analyzed=30,\n",
    "#     save_plot_dir=None\n",
    ")"
   ]
  },
  {
   "cell_type": "code",
   "execution_count": null,
   "id": "38ce25b1",
   "metadata": {},
   "outputs": [],
   "source": []
  }
 ],
 "metadata": {
  "kernelspec": {
   "display_name": "Python 3 (ipykernel)",
   "language": "python",
   "name": "python3"
  },
  "language_info": {
   "codemirror_mode": {
    "name": "ipython",
    "version": 3
   },
   "file_extension": ".py",
   "mimetype": "text/x-python",
   "name": "python",
   "nbconvert_exporter": "python",
   "pygments_lexer": "ipython3",
   "version": "3.7.6"
  },
  "toc": {
   "base_numbering": 1,
   "nav_menu": {},
   "number_sections": true,
   "sideBar": true,
   "skip_h1_title": false,
   "title_cell": "Table of Contents",
   "title_sidebar": "Contents",
   "toc_cell": false,
   "toc_position": {},
   "toc_section_display": true,
   "toc_window_display": false
  },
  "varInspector": {
   "cols": {
    "lenName": 16,
    "lenType": 16,
    "lenVar": 40
   },
   "kernels_config": {
    "python": {
     "delete_cmd_postfix": "",
     "delete_cmd_prefix": "del ",
     "library": "var_list.py",
     "varRefreshCmd": "print(var_dic_list())"
    },
    "r": {
     "delete_cmd_postfix": ") ",
     "delete_cmd_prefix": "rm(",
     "library": "var_list.r",
     "varRefreshCmd": "cat(var_dic_list()) "
    }
   },
   "types_to_exclude": [
    "module",
    "function",
    "builtin_function_or_method",
    "instance",
    "_Feature"
   ],
   "window_display": false
  }
 },
 "nbformat": 4,
 "nbformat_minor": 5
}
